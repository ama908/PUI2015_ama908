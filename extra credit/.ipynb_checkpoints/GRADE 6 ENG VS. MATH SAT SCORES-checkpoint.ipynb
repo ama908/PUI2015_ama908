{
 "cells": [
  {
   "cell_type": "code",
   "execution_count": 2,
   "metadata": {
    "collapsed": false,
    "scrolled": false
   },
   "outputs": [
    {
     "name": "stdout",
     "output_type": "stream",
     "text": [
      "Populating the interactive namespace from numpy and matplotlib\n"
     ]
    }
   ],
   "source": [
    "#Importing Packages\n",
    "import csv\n",
    "import urllib2\n",
    "import os\n",
    "import pylab as pl\n",
    "import pandas as pd\n",
    "from pandas.tools.plotting import scatter_matrix\n",
    "import statsmodels.api as sm\n",
    "import statsmodels.formula.api as smf\n",
    "\n",
    "%pylab inline \n",
    "\n",
    "# IMPORTING THE FILE FOR SAT SCORES FOR 2012\n",
    "SAT_Score = pd.read_csv(\"https://data.cityofnewyork.us/api/views/f9bf-2cp4/rows.csv?accessType=DOWNLOAD\")\n"
   ]
  },
  {
   "cell_type": "code",
   "execution_count": 3,
   "metadata": {
    "collapsed": false
   },
   "outputs": [],
   "source": [
    "SAT_Score.replace('s','NaN', inplace=True, regex=True)\n",
    "SAT_Score = SAT_Score.dropna()"
   ]
  },
  {
   "cell_type": "code",
   "execution_count": 4,
   "metadata": {
    "collapsed": false
   },
   "outputs": [
    {
     "name": "stdout",
     "output_type": "stream",
     "text": [
      "<class 'pandas.core.frame.DataFrame'>\n",
      "Int64Index: 478 entries, 0 to 477\n",
      "Data columns (total 9 columns):\n",
      "DBN                                478 non-null object\n",
      "SCHOOL NAME                        478 non-null object\n",
      "Num of SAT Test Takers             478 non-null object\n",
      "SAT Critical Reading Avg. Score    478 non-null object\n",
      "SAT Math Avg. Score                478 non-null object\n",
      "SAT Writing Avg. Score             478 non-null object\n",
      "District                           478 non-null float64\n",
      "SAT_avg_reading                    421 non-null float64\n",
      "SAT_avg_writing                    421 non-null float64\n",
      "dtypes: float64(3), object(6)\n",
      "memory usage: 37.3+ KB\n"
     ]
    }
   ],
   "source": [
    "SAT_Score['District'] = SAT_Score['DBN'].map(lambda x: str(x)[:2])\n",
    "SAT_Score['District'] = (SAT_Score['District']).astype(float)\n",
    "SAT_Score['SAT_avg_reading'] = (SAT_Score['SAT Critical Reading Avg. Score']).astype(float)\n",
    "SAT_Score['SAT_avg_writing'] = (SAT_Score['SAT Writing Avg. Score']).astype(float)\n",
    "# SAT_Score['SAT_avg_math'] = (SAT_Score['SAT Math Avg. Score']).astype(float)\n",
    "\n",
    "SAT_Score.info()"
   ]
  },
  {
   "cell_type": "code",
   "execution_count": 5,
   "metadata": {
    "collapsed": false
   },
   "outputs": [],
   "source": [
    "SAT_Score = SAT_Score.groupby('District').mean()"
   ]
  },
  {
   "cell_type": "code",
   "execution_count": 6,
   "metadata": {
    "collapsed": false
   },
   "outputs": [],
   "source": [
    "SAT_Score = SAT_Score.reset_index()\n",
    "SAT_Score = SAT_Score [0:32]"
   ]
  },
  {
   "cell_type": "code",
   "execution_count": 7,
   "metadata": {
    "collapsed": false
   },
   "outputs": [
    {
     "data": {
      "text/html": [
       "<div>\n",
       "<table border=\"1\" class=\"dataframe\">\n",
       "  <thead>\n",
       "    <tr style=\"text-align: right;\">\n",
       "      <th></th>\n",
       "      <th>District</th>\n",
       "      <th>SAT_avg_reading</th>\n",
       "      <th>SAT_avg_writing</th>\n",
       "    </tr>\n",
       "  </thead>\n",
       "  <tbody>\n",
       "    <tr>\n",
       "      <th>0</th>\n",
       "      <td>1</td>\n",
       "      <td>423.777778</td>\n",
       "      <td>413.555556</td>\n",
       "    </tr>\n",
       "    <tr>\n",
       "      <th>1</th>\n",
       "      <td>2</td>\n",
       "      <td>424.068966</td>\n",
       "      <td>419.448276</td>\n",
       "    </tr>\n",
       "    <tr>\n",
       "      <th>2</th>\n",
       "      <td>3</td>\n",
       "      <td>424.846154</td>\n",
       "      <td>417.076923</td>\n",
       "    </tr>\n",
       "  </tbody>\n",
       "</table>\n",
       "</div>"
      ],
      "text/plain": [
       "   District  SAT_avg_reading  SAT_avg_writing\n",
       "0         1       423.777778       413.555556\n",
       "1         2       424.068966       419.448276\n",
       "2         3       424.846154       417.076923"
      ]
     },
     "execution_count": 7,
     "metadata": {},
     "output_type": "execute_result"
    }
   ],
   "source": [
    "SAT_Score.head(3)"
   ]
  },
  {
   "cell_type": "code",
   "execution_count": 8,
   "metadata": {
    "collapsed": false
   },
   "outputs": [],
   "source": [
    "SAT_Score['Total_English'] = pd.DataFrame(SAT_Score['SAT_avg_reading'] + SAT_Score['SAT_avg_writing'])"
   ]
  },
  {
   "cell_type": "code",
   "execution_count": 9,
   "metadata": {
    "collapsed": false
   },
   "outputs": [
    {
     "data": {
      "text/html": [
       "<div>\n",
       "<table border=\"1\" class=\"dataframe\">\n",
       "  <thead>\n",
       "    <tr style=\"text-align: right;\">\n",
       "      <th></th>\n",
       "      <th>District</th>\n",
       "      <th>SAT_avg_reading</th>\n",
       "      <th>SAT_avg_writing</th>\n",
       "      <th>Total_English</th>\n",
       "    </tr>\n",
       "  </thead>\n",
       "  <tbody>\n",
       "    <tr>\n",
       "      <th>0</th>\n",
       "      <td>1</td>\n",
       "      <td>423.777778</td>\n",
       "      <td>413.555556</td>\n",
       "      <td>837.333333</td>\n",
       "    </tr>\n",
       "    <tr>\n",
       "      <th>1</th>\n",
       "      <td>2</td>\n",
       "      <td>424.068966</td>\n",
       "      <td>419.448276</td>\n",
       "      <td>843.517241</td>\n",
       "    </tr>\n",
       "    <tr>\n",
       "      <th>2</th>\n",
       "      <td>3</td>\n",
       "      <td>424.846154</td>\n",
       "      <td>417.076923</td>\n",
       "      <td>841.923077</td>\n",
       "    </tr>\n",
       "  </tbody>\n",
       "</table>\n",
       "</div>"
      ],
      "text/plain": [
       "   District  SAT_avg_reading  SAT_avg_writing  Total_English\n",
       "0         1       423.777778       413.555556     837.333333\n",
       "1         2       424.068966       419.448276     843.517241\n",
       "2         3       424.846154       417.076923     841.923077"
      ]
     },
     "execution_count": 9,
     "metadata": {},
     "output_type": "execute_result"
    }
   ],
   "source": [
    "SAT_Score.head(3)"
   ]
  },
  {
   "cell_type": "code",
   "execution_count": 12,
   "metadata": {
    "collapsed": false
   },
   "outputs": [
    {
     "name": "stdout",
     "output_type": "stream",
     "text": [
      "<class 'pandas.core.frame.DataFrame'>\n",
      "Int64Index: 1568 entries, 0 to 1567\n",
      "Data columns (total 16 columns):\n",
      "District             1568 non-null int64\n",
      "Grade                1568 non-null object\n",
      "Year                 1568 non-null int64\n",
      "Demographic          1568 non-null object\n",
      "Number Tested        1568 non-null int64\n",
      "Mean Scale Score     1568 non-null int64\n",
      "Num Level 1          1568 non-null int64\n",
      "Pct Level 1          1568 non-null float64\n",
      "Num Level 2          1568 non-null int64\n",
      "Pct Level 2          1568 non-null float64\n",
      "Num Level 3          1568 non-null int64\n",
      "Pct Level 3          1568 non-null float64\n",
      "Num Level 4          1568 non-null int64\n",
      "Pct Level 4          1568 non-null float64\n",
      "Num Level 3 and 4    1568 non-null int64\n",
      "Pct Level 3 and 4    1568 non-null float64\n",
      "dtypes: float64(5), int64(9), object(2)\n",
      "memory usage: 208.2+ KB\n"
     ]
    },
    {
     "data": {
      "text/html": [
       "<div>\n",
       "<table border=\"1\" class=\"dataframe\">\n",
       "  <thead>\n",
       "    <tr style=\"text-align: right;\">\n",
       "      <th></th>\n",
       "      <th>District</th>\n",
       "      <th>Grade</th>\n",
       "      <th>Year</th>\n",
       "      <th>Demographic</th>\n",
       "      <th>Number Tested</th>\n",
       "      <th>Mean Scale Score</th>\n",
       "      <th>Num Level 1</th>\n",
       "      <th>Pct Level 1</th>\n",
       "      <th>Num Level 2</th>\n",
       "      <th>Pct Level 2</th>\n",
       "      <th>Num Level 3</th>\n",
       "      <th>Pct Level 3</th>\n",
       "      <th>Num Level 4</th>\n",
       "      <th>Pct Level 4</th>\n",
       "      <th>Num Level 3 and 4</th>\n",
       "      <th>Pct Level 3 and 4</th>\n",
       "    </tr>\n",
       "  </thead>\n",
       "  <tbody>\n",
       "    <tr>\n",
       "      <th>0</th>\n",
       "      <td>1</td>\n",
       "      <td>3</td>\n",
       "      <td>2006</td>\n",
       "      <td>All Students</td>\n",
       "      <td>808</td>\n",
       "      <td>663</td>\n",
       "      <td>89</td>\n",
       "      <td>11.0</td>\n",
       "      <td>215</td>\n",
       "      <td>26.6</td>\n",
       "      <td>462</td>\n",
       "      <td>57.2</td>\n",
       "      <td>42</td>\n",
       "      <td>5.2</td>\n",
       "      <td>504</td>\n",
       "      <td>62.4</td>\n",
       "    </tr>\n",
       "    <tr>\n",
       "      <th>1</th>\n",
       "      <td>1</td>\n",
       "      <td>3</td>\n",
       "      <td>2007</td>\n",
       "      <td>All Students</td>\n",
       "      <td>826</td>\n",
       "      <td>659</td>\n",
       "      <td>94</td>\n",
       "      <td>11.4</td>\n",
       "      <td>242</td>\n",
       "      <td>29.3</td>\n",
       "      <td>427</td>\n",
       "      <td>51.7</td>\n",
       "      <td>63</td>\n",
       "      <td>7.6</td>\n",
       "      <td>490</td>\n",
       "      <td>59.3</td>\n",
       "    </tr>\n",
       "    <tr>\n",
       "      <th>2</th>\n",
       "      <td>1</td>\n",
       "      <td>3</td>\n",
       "      <td>2008</td>\n",
       "      <td>All Students</td>\n",
       "      <td>852</td>\n",
       "      <td>662</td>\n",
       "      <td>60</td>\n",
       "      <td>7.0</td>\n",
       "      <td>270</td>\n",
       "      <td>31.7</td>\n",
       "      <td>449</td>\n",
       "      <td>52.7</td>\n",
       "      <td>73</td>\n",
       "      <td>8.6</td>\n",
       "      <td>522</td>\n",
       "      <td>61.3</td>\n",
       "    </tr>\n",
       "  </tbody>\n",
       "</table>\n",
       "</div>"
      ],
      "text/plain": [
       "   District Grade  Year   Demographic  Number Tested  Mean Scale Score  \\\n",
       "0         1     3  2006  All Students            808               663   \n",
       "1         1     3  2007  All Students            826               659   \n",
       "2         1     3  2008  All Students            852               662   \n",
       "\n",
       "   Num Level 1  Pct Level 1  Num Level 2  Pct Level 2  Num Level 3  \\\n",
       "0           89         11.0          215         26.6          462   \n",
       "1           94         11.4          242         29.3          427   \n",
       "2           60          7.0          270         31.7          449   \n",
       "\n",
       "   Pct Level 3  Num Level 4  Pct Level 4  Num Level 3 and 4  Pct Level 3 and 4  \n",
       "0         57.2           42          5.2                504               62.4  \n",
       "1         51.7           63          7.6                490               59.3  \n",
       "2         52.7           73          8.6                522               61.3  "
      ]
     },
     "execution_count": 12,
     "metadata": {},
     "output_type": "execute_result"
    }
   ],
   "source": [
    "eng_score = pd.read_csv('https://data.cityofnewyork.us/api/views/yhfh-vyns/rows.csv?accessType=DOWNLOAD')\n",
    "eng_score.info()\n",
    "eng_score.head(3)"
   ]
  },
  {
   "cell_type": "code",
   "execution_count": 13,
   "metadata": {
    "collapsed": false
   },
   "outputs": [
    {
     "data": {
      "text/html": [
       "<div>\n",
       "<table border=\"1\" class=\"dataframe\">\n",
       "  <thead>\n",
       "    <tr style=\"text-align: right;\">\n",
       "      <th></th>\n",
       "      <th>District</th>\n",
       "      <th>Grade</th>\n",
       "      <th>Year</th>\n",
       "      <th>Number Tested</th>\n",
       "      <th>Mean Scale Score</th>\n",
       "      <th>Num Level 1</th>\n",
       "      <th>Pct Level 1</th>\n",
       "      <th>Num Level 2</th>\n",
       "      <th>Pct Level 2</th>\n",
       "      <th>Num Level 3</th>\n",
       "      <th>Pct Level 3</th>\n",
       "      <th>Num Level 4</th>\n",
       "      <th>Pct Level 4</th>\n",
       "      <th>Num Level 3 and 4</th>\n",
       "      <th>Pct Level 3 and 4</th>\n",
       "    </tr>\n",
       "  </thead>\n",
       "  <tbody>\n",
       "    <tr>\n",
       "      <th>21</th>\n",
       "      <td>1</td>\n",
       "      <td>6</td>\n",
       "      <td>2006</td>\n",
       "      <td>855</td>\n",
       "      <td>653</td>\n",
       "      <td>58</td>\n",
       "      <td>6.8</td>\n",
       "      <td>346</td>\n",
       "      <td>40.5</td>\n",
       "      <td>363</td>\n",
       "      <td>42.5</td>\n",
       "      <td>88</td>\n",
       "      <td>10.3</td>\n",
       "      <td>451</td>\n",
       "      <td>52.7</td>\n",
       "    </tr>\n",
       "    <tr>\n",
       "      <th>70</th>\n",
       "      <td>2</td>\n",
       "      <td>6</td>\n",
       "      <td>2006</td>\n",
       "      <td>2106</td>\n",
       "      <td>666</td>\n",
       "      <td>76</td>\n",
       "      <td>3.6</td>\n",
       "      <td>529</td>\n",
       "      <td>25.1</td>\n",
       "      <td>1169</td>\n",
       "      <td>55.5</td>\n",
       "      <td>332</td>\n",
       "      <td>15.8</td>\n",
       "      <td>1501</td>\n",
       "      <td>71.3</td>\n",
       "    </tr>\n",
       "    <tr>\n",
       "      <th>119</th>\n",
       "      <td>3</td>\n",
       "      <td>6</td>\n",
       "      <td>2006</td>\n",
       "      <td>1473</td>\n",
       "      <td>651</td>\n",
       "      <td>124</td>\n",
       "      <td>8.4</td>\n",
       "      <td>618</td>\n",
       "      <td>42.0</td>\n",
       "      <td>572</td>\n",
       "      <td>38.8</td>\n",
       "      <td>159</td>\n",
       "      <td>10.8</td>\n",
       "      <td>731</td>\n",
       "      <td>49.6</td>\n",
       "    </tr>\n",
       "  </tbody>\n",
       "</table>\n",
       "</div>"
      ],
      "text/plain": [
       "     District Grade  Year  Number Tested  Mean Scale Score  Num Level 1  \\\n",
       "21          1     6  2006            855               653           58   \n",
       "70          2     6  2006           2106               666           76   \n",
       "119         3     6  2006           1473               651          124   \n",
       "\n",
       "     Pct Level 1  Num Level 2  Pct Level 2  Num Level 3  Pct Level 3  \\\n",
       "21           6.8          346         40.5          363         42.5   \n",
       "70           3.6          529         25.1         1169         55.5   \n",
       "119          8.4          618         42.0          572         38.8   \n",
       "\n",
       "     Num Level 4  Pct Level 4  Num Level 3 and 4  Pct Level 3 and 4  \n",
       "21            88         10.3                451               52.7  \n",
       "70           332         15.8               1501               71.3  \n",
       "119          159         10.8                731               49.6  "
      ]
     },
     "execution_count": 13,
     "metadata": {},
     "output_type": "execute_result"
    }
   ],
   "source": [
    "english_score = eng_score.groupby(['District' , 'Grade' , 'Year']).mean()\n",
    "english_score_reset = english_score.reset_index()\n",
    "# math_score_by_district = mth_score_reset.groupby(['District']).mean()\n",
    "# math_score_by_district_reset = math_score_by_district.reset_index()\n",
    "english_score_2006 = english_score_reset[(english_score_reset.Grade == '6') & (english_score_reset.Year== 2006)]\n",
    "# eng_scr = eng_scr.reset_index()\n",
    "english_score_2006.head(3)"
   ]
  },
  {
   "cell_type": "code",
   "execution_count": 54,
   "metadata": {
    "collapsed": false
   },
   "outputs": [
    {
     "name": "stderr",
     "output_type": "stream",
     "text": [
      "C:\\Users\\Anita_2\\Anaconda\\lib\\site-packages\\IPython\\kernel\\__main__.py:1: SettingWithCopyWarning: \n",
      "A value is trying to be set on a copy of a slice from a DataFrame.\n",
      "Try using .loc[row_indexer,col_indexer] = value instead\n",
      "\n",
      "See the the caveats in the documentation: http://pandas.pydata.org/pandas-docs/stable/indexing.html#indexing-view-versus-copy\n",
      "  if __name__ == '__main__':\n"
     ]
    },
    {
     "data": {
      "text/html": [
       "<div>\n",
       "<table border=\"1\" class=\"dataframe\">\n",
       "  <thead>\n",
       "    <tr style=\"text-align: right;\">\n",
       "      <th></th>\n",
       "      <th>District</th>\n",
       "      <th>Grade</th>\n",
       "      <th>Year</th>\n",
       "      <th>Number Tested</th>\n",
       "      <th>Mean Scale Score</th>\n",
       "      <th>Level 1 #</th>\n",
       "      <th>Level 2 #</th>\n",
       "      <th>Level 3 #</th>\n",
       "      <th>Level 4 #</th>\n",
       "      <th>Level 3+4 #</th>\n",
       "    </tr>\n",
       "  </thead>\n",
       "  <tbody>\n",
       "    <tr>\n",
       "      <th>18</th>\n",
       "      <td>1</td>\n",
       "      <td>6</td>\n",
       "      <td>2006</td>\n",
       "      <td>912</td>\n",
       "      <td>659</td>\n",
       "      <td>116</td>\n",
       "      <td>248</td>\n",
       "      <td>392</td>\n",
       "      <td>156</td>\n",
       "      <td>548</td>\n",
       "    </tr>\n",
       "    <tr>\n",
       "      <th>60</th>\n",
       "      <td>2</td>\n",
       "      <td>6</td>\n",
       "      <td>2006</td>\n",
       "      <td>2218</td>\n",
       "      <td>671</td>\n",
       "      <td>177</td>\n",
       "      <td>382</td>\n",
       "      <td>1118</td>\n",
       "      <td>541</td>\n",
       "      <td>1659</td>\n",
       "    </tr>\n",
       "    <tr>\n",
       "      <th>102</th>\n",
       "      <td>3</td>\n",
       "      <td>6</td>\n",
       "      <td>2006</td>\n",
       "      <td>1501</td>\n",
       "      <td>657</td>\n",
       "      <td>245</td>\n",
       "      <td>407</td>\n",
       "      <td>582</td>\n",
       "      <td>267</td>\n",
       "      <td>849</td>\n",
       "    </tr>\n",
       "  </tbody>\n",
       "</table>\n",
       "</div>"
      ],
      "text/plain": [
       "     District Grade  Year  Number Tested  Mean Scale Score  Level 1 #  \\\n",
       "18          1     6  2006            912               659        116   \n",
       "60          2     6  2006           2218               671        177   \n",
       "102         3     6  2006           1501               657        245   \n",
       "\n",
       "     Level 2 #  Level 3 #  Level 4 #  Level 3+4 #  \n",
       "18         248        392        156          548  \n",
       "60         382       1118        541         1659  \n",
       "102        407        582        267          849  "
      ]
     },
     "execution_count": 54,
     "metadata": {},
     "output_type": "execute_result"
    }
   ],
   "source": [
    "english_score_2006['District'] = english_score_2006['District'].astype(float)\n",
    "english_score_2006.head(3)"
   ]
  },
  {
   "cell_type": "code",
   "execution_count": 14,
   "metadata": {
    "collapsed": false
   },
   "outputs": [
    {
     "name": "stdout",
     "output_type": "stream",
     "text": [
      "<class 'pandas.core.frame.DataFrame'>\n",
      "Int64Index: 32 entries, 0 to 31\n",
      "Data columns (total 18 columns):\n",
      "District             32 non-null float64\n",
      "SAT_avg_reading      32 non-null float64\n",
      "SAT_avg_writing      32 non-null float64\n",
      "Total_English        32 non-null float64\n",
      "Grade                32 non-null object\n",
      "Year                 32 non-null int64\n",
      "Number Tested        32 non-null int64\n",
      "Mean Scale Score     32 non-null int64\n",
      "Num Level 1          32 non-null int64\n",
      "Pct Level 1          32 non-null float64\n",
      "Num Level 2          32 non-null int64\n",
      "Pct Level 2          32 non-null float64\n",
      "Num Level 3          32 non-null int64\n",
      "Pct Level 3          32 non-null float64\n",
      "Num Level 4          32 non-null int64\n",
      "Pct Level 4          32 non-null float64\n",
      "Num Level 3 and 4    32 non-null int64\n",
      "Pct Level 3 and 4    32 non-null float64\n",
      "dtypes: float64(9), int64(8), object(1)\n",
      "memory usage: 4.8+ KB\n"
     ]
    },
    {
     "data": {
      "text/html": [
       "<div>\n",
       "<table border=\"1\" class=\"dataframe\">\n",
       "  <thead>\n",
       "    <tr style=\"text-align: right;\">\n",
       "      <th></th>\n",
       "      <th>District</th>\n",
       "      <th>SAT_avg_reading</th>\n",
       "      <th>SAT_avg_writing</th>\n",
       "      <th>Total_English</th>\n",
       "      <th>Grade</th>\n",
       "      <th>Year</th>\n",
       "      <th>Number Tested</th>\n",
       "      <th>Mean Scale Score</th>\n",
       "      <th>Num Level 1</th>\n",
       "      <th>Pct Level 1</th>\n",
       "      <th>Num Level 2</th>\n",
       "      <th>Pct Level 2</th>\n",
       "      <th>Num Level 3</th>\n",
       "      <th>Pct Level 3</th>\n",
       "      <th>Num Level 4</th>\n",
       "      <th>Pct Level 4</th>\n",
       "      <th>Num Level 3 and 4</th>\n",
       "      <th>Pct Level 3 and 4</th>\n",
       "    </tr>\n",
       "  </thead>\n",
       "  <tbody>\n",
       "    <tr>\n",
       "      <th>0</th>\n",
       "      <td>1</td>\n",
       "      <td>423.777778</td>\n",
       "      <td>413.555556</td>\n",
       "      <td>837.333333</td>\n",
       "      <td>6</td>\n",
       "      <td>2006</td>\n",
       "      <td>855</td>\n",
       "      <td>653</td>\n",
       "      <td>58</td>\n",
       "      <td>6.8</td>\n",
       "      <td>346</td>\n",
       "      <td>40.5</td>\n",
       "      <td>363</td>\n",
       "      <td>42.5</td>\n",
       "      <td>88</td>\n",
       "      <td>10.3</td>\n",
       "      <td>451</td>\n",
       "      <td>52.7</td>\n",
       "    </tr>\n",
       "    <tr>\n",
       "      <th>1</th>\n",
       "      <td>2</td>\n",
       "      <td>424.068966</td>\n",
       "      <td>419.448276</td>\n",
       "      <td>843.517241</td>\n",
       "      <td>6</td>\n",
       "      <td>2006</td>\n",
       "      <td>2106</td>\n",
       "      <td>666</td>\n",
       "      <td>76</td>\n",
       "      <td>3.6</td>\n",
       "      <td>529</td>\n",
       "      <td>25.1</td>\n",
       "      <td>1169</td>\n",
       "      <td>55.5</td>\n",
       "      <td>332</td>\n",
       "      <td>15.8</td>\n",
       "      <td>1501</td>\n",
       "      <td>71.3</td>\n",
       "    </tr>\n",
       "    <tr>\n",
       "      <th>2</th>\n",
       "      <td>3</td>\n",
       "      <td>424.846154</td>\n",
       "      <td>417.076923</td>\n",
       "      <td>841.923077</td>\n",
       "      <td>6</td>\n",
       "      <td>2006</td>\n",
       "      <td>1473</td>\n",
       "      <td>651</td>\n",
       "      <td>124</td>\n",
       "      <td>8.4</td>\n",
       "      <td>618</td>\n",
       "      <td>42.0</td>\n",
       "      <td>572</td>\n",
       "      <td>38.8</td>\n",
       "      <td>159</td>\n",
       "      <td>10.8</td>\n",
       "      <td>731</td>\n",
       "      <td>49.6</td>\n",
       "    </tr>\n",
       "  </tbody>\n",
       "</table>\n",
       "</div>"
      ],
      "text/plain": [
       "   District  SAT_avg_reading  SAT_avg_writing  Total_English Grade  Year  \\\n",
       "0         1       423.777778       413.555556     837.333333     6  2006   \n",
       "1         2       424.068966       419.448276     843.517241     6  2006   \n",
       "2         3       424.846154       417.076923     841.923077     6  2006   \n",
       "\n",
       "   Number Tested  Mean Scale Score  Num Level 1  Pct Level 1  Num Level 2  \\\n",
       "0            855               653           58          6.8          346   \n",
       "1           2106               666           76          3.6          529   \n",
       "2           1473               651          124          8.4          618   \n",
       "\n",
       "   Pct Level 2  Num Level 3  Pct Level 3  Num Level 4  Pct Level 4  \\\n",
       "0         40.5          363         42.5           88         10.3   \n",
       "1         25.1         1169         55.5          332         15.8   \n",
       "2         42.0          572         38.8          159         10.8   \n",
       "\n",
       "   Num Level 3 and 4  Pct Level 3 and 4  \n",
       "0                451               52.7  \n",
       "1               1501               71.3  \n",
       "2                731               49.6  "
      ]
     },
     "execution_count": 14,
     "metadata": {},
     "output_type": "execute_result"
    }
   ],
   "source": [
    "SAT_eng_vs_2006 = pd.merge(SAT_Score, english_score_2006, how='inner', on='District')\n",
    "SAT_eng_vs_2006.columns\n",
    "SAT_eng_vs_2006.info()\n",
    "SAT_eng_vs_2006.head(3)"
   ]
  },
  {
   "cell_type": "code",
   "execution_count": 18,
   "metadata": {
    "collapsed": false
   },
   "outputs": [
    {
     "name": "stdout",
     "output_type": "stream",
     "text": [
      "R-squared value for Grade 6 Score vs SAT Score: 0.525557609187\n",
      "Intercept    -1344.805487\n",
      "Score_2006       3.313042\n",
      "dtype: float64\n",
      "                            OLS Regression Results                            \n",
      "==============================================================================\n",
      "Dep. Variable:             Score_2012   R-squared:                       0.526\n",
      "Model:                            OLS   Adj. R-squared:                  0.510\n",
      "Method:                 Least Squares   F-statistic:                     33.23\n",
      "Date:                Sat, 12 Dec 2015   Prob (F-statistic):           2.70e-06\n",
      "Time:                        04:55:47   Log-Likelihood:                -161.16\n",
      "No. Observations:                  32   AIC:                             326.3\n",
      "Df Residuals:                      30   BIC:                             329.3\n",
      "Df Model:                           1                                         \n",
      "Covariance Type:            nonrobust                                         \n",
      "==============================================================================\n",
      "                 coef    std err          t      P>|t|      [95.0% Conf. Int.]\n",
      "------------------------------------------------------------------------------\n",
      "Intercept  -1344.8055    370.911     -3.626      0.001     -2102.307  -587.304\n",
      "Score_2006     3.3130      0.575      5.765      0.000         2.139     4.487\n",
      "==============================================================================\n",
      "Omnibus:                        0.814   Durbin-Watson:                   2.379\n",
      "Prob(Omnibus):                  0.666   Jarque-Bera (JB):                0.767\n",
      "Skew:                           0.341   Prob(JB):                        0.681\n",
      "Kurtosis:                       2.668   Cond. No.                     3.52e+04\n",
      "==============================================================================\n",
      "\n",
      "Warnings:\n",
      "[1] Standard Errors assume that the covariance matrix of the errors is correctly specified.\n",
      "[2] The condition number is large, 3.52e+04. This might indicate that there are\n",
      "strong multicollinearity or other numerical problems.\n",
      "624 677\n",
      "R-squared value for Class Size vs Total Score: 0.525925983238\n",
      "Intercept            -3786.173379\n",
      "Score_2006              10.842511\n",
      "I(Score_2006 ** 2)      -0.005803\n",
      "dtype: float64\n",
      "                            OLS Regression Results                            \n",
      "==============================================================================\n",
      "Dep. Variable:             Score_2012   R-squared:                       0.526\n",
      "Model:                            OLS   Adj. R-squared:                  0.493\n",
      "Method:                 Least Squares   F-statistic:                     16.09\n",
      "Date:                Sat, 12 Dec 2015   Prob (F-statistic):           1.99e-05\n",
      "Time:                        04:55:47   Log-Likelihood:                -161.15\n",
      "No. Observations:                  32   AIC:                             328.3\n",
      "Df Residuals:                      29   BIC:                             332.7\n",
      "Df Model:                           2                                         \n",
      "Covariance Type:            nonrobust                                         \n",
      "======================================================================================\n",
      "                         coef    std err          t      P>|t|      [95.0% Conf. Int.]\n",
      "--------------------------------------------------------------------------------------\n",
      "Intercept          -3786.1734   1.63e+04     -0.233      0.818     -3.71e+04  2.95e+04\n",
      "Score_2006            10.8425     50.162      0.216      0.830       -91.750   113.435\n",
      "I(Score_2006 ** 2)    -0.0058      0.039     -0.150      0.882        -0.085     0.073\n",
      "==============================================================================\n",
      "Omnibus:                        0.689   Durbin-Watson:                   2.383\n",
      "Prob(Omnibus):                  0.709   Jarque-Bera (JB):                0.672\n",
      "Skew:                           0.313   Prob(JB):                        0.715\n",
      "Kurtosis:                       2.666   Cond. No.                     9.81e+08\n",
      "==============================================================================\n",
      "\n",
      "Warnings:\n",
      "[1] Standard Errors assume that the covariance matrix of the errors is correctly specified.\n",
      "[2] The condition number is large, 9.81e+08. This might indicate that there are\n",
      "strong multicollinearity or other numerical problems.\n"
     ]
    }
   ],
   "source": [
    "#Setting X and Y variables\n",
    "Score_2006 = SAT_eng_vs_2006['Mean Scale Score']\n",
    "Score_2012 = SAT_eng_vs_2006['Total_English']\n",
    "\n",
    "# Fitting linear regression model \n",
    "model_SAT_eng_2006 = smf.ols(formula='(Score_2012) ~ (Score_2006) ' , data= SAT_eng_vs_2006).fit()\n",
    "print \"R-squared value for Grade 6 Score vs SAT Score:\", model_SAT_eng_2006.rsquared\n",
    "print model_SAT_eng_2006.params\n",
    "print model_SAT_eng_2006.summary()\n",
    "\n",
    "# Using limit values for linspace function\n",
    "lower1 = np.min(Score_2006)\n",
    "upper1 = np.max(Score_2006)\n",
    "print lower1 , upper1\n",
    "\n",
    "# Generating predicted values using the above model1 parameters\n",
    "x_dummy = pd.DataFrame({'Score_2006': np.linspace(lower1, upper1, 50)})\n",
    "predicted_model = model_SAT_eng_2006.predict(x_dummy)\n",
    "\n",
    "# Fitting a second degree curve linear regression model\n",
    "model2_SAT_eng_2006 = smf.ols(formula='(Score_2012) ~ (Score_2006) + I(Score_2006**2)', data= SAT_eng_vs_2006).fit()\n",
    "print \"R-squared value for Class Size vs Total Score:\", model2_SAT_eng_2006.rsquared\n",
    "print model2_SAT_eng_2006.params\n",
    "print model2_SAT_eng_2006.summary()\n",
    "\n",
    "# Generating predicted values using the above model2 parameters\n",
    "x2_dummy = pd.DataFrame({'Score_2006': np.linspace(lower1, upper1, 10)})\n",
    "predicted2_model = model2_SAT_eng_2006.predict(x2_dummy)"
   ]
  },
  {
   "cell_type": "code",
   "execution_count": 20,
   "metadata": {
    "collapsed": false,
    "scrolled": false
   },
   "outputs": [
    {
     "data": {
      "text/plain": [
       "(623, 678)"
      ]
     },
     "execution_count": 20,
     "metadata": {},
     "output_type": "execute_result"
    },
    {
     "data": {
      "image/png": "[encoded data removed]",
      "text/plain": [
       "<matplotlib.figure.Figure at 0x186f6668>"
      ]
     },
     "metadata": {},
     "output_type": "display_data"
    }
   ],
   "source": [
    "pl.figure(figsize=(8, 8))\n",
    "pl.title('SAT vs Attendance')\n",
    "pl.xlabel('Average School Attendance')\n",
    "pl.ylabel('Total SAT Score')\n",
    "pl.scatter(Score_2006,Score_2012)\n",
    "pl.plot(x_dummy, predicted_model, 'b', label=\"Fitted Regression Line\", linestyle='-')\n",
    "pl.plot(x2_dummy,predicted2_model, 'r', linestyle='--', label = \"Analytical Regression\")\n",
    "pl.legend(loc=\"upper left\")\n",
    "pl.xlim(int(lower1-1) , int(upper1+1))\n",
    "\n",
    "\n",
    "\n"
   ]
  },
  {
   "cell_type": "code",
   "execution_count": null,
   "metadata": {
    "collapsed": true
   },
   "outputs": [],
   "source": []
  },
  {
   "cell_type": "code",
   "execution_count": null,
   "metadata": {
    "collapsed": true
   },
   "outputs": [],
   "source": []
  },
  {
   "cell_type": "code",
   "execution_count": null,
   "metadata": {
    "collapsed": true
   },
   "outputs": [],
   "source": []
  }
 ],
 "metadata": {
  "kernelspec": {
   "display_name": "Python 2",
   "language": "python",
   "name": "python2"
  },
  "language_info": {
   "codemirror_mode": {
    "name": "ipython",
    "version": 2
   },
   "file_extension": ".py",
   "mimetype": "text/x-python",
   "name": "python",
   "nbconvert_exporter": "python",
   "pygments_lexer": "ipython2",
   "version": "2.7.10"
  }
 },
 "nbformat": 4,
 "nbformat_minor": 0
}
