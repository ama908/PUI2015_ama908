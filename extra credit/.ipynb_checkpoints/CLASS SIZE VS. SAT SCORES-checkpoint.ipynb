{
 "cells": [
  {
   "cell_type": "code",
   "execution_count": 2,
   "metadata": {
    "collapsed": false,
    "scrolled": false
   },
   "outputs": [
    {
     "name": "stdout",
     "output_type": "stream",
     "text": [
      "Populating the interactive namespace from numpy and matplotlib\n"
     ]
    }
   ],
   "source": [
    "#Importing Packages\n",
    "import csv\n",
    "import urllib2\n",
    "import os\n",
    "import pylab as pl\n",
    "import pandas as pd\n",
    "from pandas.tools.plotting import scatter_matrix\n",
    "import statsmodels.api as sm\n",
    "import statsmodels.formula.api as smf\n",
    "\n",
    "%pylab inline \n",
    "\n",
    "# IMPORTING THE FILE FOR SAT SCORES FOR 2012\n",
    "SAT_Score = pd.read_csv(\"https://data.cityofnewyork.us/api/views/f9bf-2cp4/rows.csv?accessType=DOWNLOAD\")\n"
   ]
  },
  {
   "cell_type": "code",
   "execution_count": 3,
   "metadata": {
    "collapsed": false
   },
   "outputs": [],
   "source": [
    "SAT_Score.replace('s','NaN', inplace=True, regex=True)\n",
    "SAT_Score = SAT_Score.dropna()"
   ]
  },
  {
   "cell_type": "code",
   "execution_count": 4,
   "metadata": {
    "collapsed": false
   },
   "outputs": [
    {
     "name": "stdout",
     "output_type": "stream",
     "text": [
      "<class 'pandas.core.frame.DataFrame'>\n",
      "Int64Index: 478 entries, 0 to 477\n",
      "Data columns (total 10 columns):\n",
      "DBN                                478 non-null object\n",
      "SCHOOL NAME                        478 non-null object\n",
      "Num of SAT Test Takers             478 non-null object\n",
      "SAT Critical Reading Avg. Score    478 non-null object\n",
      "SAT Math Avg. Score                478 non-null object\n",
      "SAT Writing Avg. Score             478 non-null object\n",
      "District                           478 non-null float64\n",
      "SAT_avg_reading                    421 non-null float64\n",
      "SAT_avg_writing                    421 non-null float64\n",
      "SAT_avg_math                       421 non-null float64\n",
      "dtypes: float64(4), object(6)\n",
      "memory usage: 41.1+ KB\n"
     ]
    }
   ],
   "source": [
    "SAT_Score['District'] = SAT_Score['DBN'].map(lambda x: str(x)[:2])\n",
    "SAT_Score['District'] = (SAT_Score['District']).astype(float)\n",
    "SAT_Score['SAT_avg_reading'] = (SAT_Score['SAT Critical Reading Avg. Score']).astype(float)\n",
    "SAT_Score['SAT_avg_writing'] = (SAT_Score['SAT Writing Avg. Score']).astype(float)\n",
    "SAT_Score['SAT_avg_math'] = (SAT_Score['SAT Math Avg. Score']).astype(float)\n",
    "\n",
    "SAT_Score.info()"
   ]
  },
  {
   "cell_type": "code",
   "execution_count": 5,
   "metadata": {
    "collapsed": false
   },
   "outputs": [],
   "source": [
    "SAT_Score = SAT_Score.groupby('District').mean()"
   ]
  },
  {
   "cell_type": "code",
   "execution_count": 6,
   "metadata": {
    "collapsed": false
   },
   "outputs": [],
   "source": [
    "SAT_Score = SAT_Score.reset_index()\n",
    "SAT_Score = SAT_Score [0:32]"
   ]
  },
  {
   "cell_type": "code",
   "execution_count": 7,
   "metadata": {
    "collapsed": false
   },
   "outputs": [
    {
     "data": {
      "text/html": [
       "<div>\n",
       "<table border=\"1\" class=\"dataframe\">\n",
       "  <thead>\n",
       "    <tr style=\"text-align: right;\">\n",
       "      <th></th>\n",
       "      <th>District</th>\n",
       "      <th>SAT_avg_reading</th>\n",
       "      <th>SAT_avg_writing</th>\n",
       "      <th>SAT_avg_math</th>\n",
       "    </tr>\n",
       "  </thead>\n",
       "  <tbody>\n",
       "    <tr>\n",
       "      <th>0</th>\n",
       "      <td>1</td>\n",
       "      <td>423.777778</td>\n",
       "      <td>413.555556</td>\n",
       "      <td>468.444444</td>\n",
       "    </tr>\n",
       "    <tr>\n",
       "      <th>1</th>\n",
       "      <td>2</td>\n",
       "      <td>424.068966</td>\n",
       "      <td>419.448276</td>\n",
       "      <td>441.344828</td>\n",
       "    </tr>\n",
       "    <tr>\n",
       "      <th>2</th>\n",
       "      <td>3</td>\n",
       "      <td>424.846154</td>\n",
       "      <td>417.076923</td>\n",
       "      <td>426.000000</td>\n",
       "    </tr>\n",
       "  </tbody>\n",
       "</table>\n",
       "</div>"
      ],
      "text/plain": [
       "   District  SAT_avg_reading  SAT_avg_writing  SAT_avg_math\n",
       "0         1       423.777778       413.555556    468.444444\n",
       "1         2       424.068966       419.448276    441.344828\n",
       "2         3       424.846154       417.076923    426.000000"
      ]
     },
     "execution_count": 7,
     "metadata": {},
     "output_type": "execute_result"
    }
   ],
   "source": [
    "SAT_Score.head(3)"
   ]
  },
  {
   "cell_type": "code",
   "execution_count": 8,
   "metadata": {
    "collapsed": true
   },
   "outputs": [],
   "source": [
    "SAT_Score['Total_Score'] = pd.DataFrame(SAT_Score['SAT_avg_reading'] + SAT_Score['SAT_avg_writing'] +\n",
    "                                        SAT_Score['SAT_avg_math'])"
   ]
  },
  {
   "cell_type": "code",
   "execution_count": 9,
   "metadata": {
    "collapsed": false
   },
   "outputs": [
    {
     "data": {
      "text/html": [
       "<div>\n",
       "<table border=\"1\" class=\"dataframe\">\n",
       "  <thead>\n",
       "    <tr style=\"text-align: right;\">\n",
       "      <th></th>\n",
       "      <th>District</th>\n",
       "      <th>SAT_avg_reading</th>\n",
       "      <th>SAT_avg_writing</th>\n",
       "      <th>SAT_avg_math</th>\n",
       "      <th>Total_Score</th>\n",
       "    </tr>\n",
       "  </thead>\n",
       "  <tbody>\n",
       "    <tr>\n",
       "      <th>0</th>\n",
       "      <td>1</td>\n",
       "      <td>423.777778</td>\n",
       "      <td>413.555556</td>\n",
       "      <td>468.444444</td>\n",
       "      <td>1305.777778</td>\n",
       "    </tr>\n",
       "    <tr>\n",
       "      <th>1</th>\n",
       "      <td>2</td>\n",
       "      <td>424.068966</td>\n",
       "      <td>419.448276</td>\n",
       "      <td>441.344828</td>\n",
       "      <td>1284.862069</td>\n",
       "    </tr>\n",
       "    <tr>\n",
       "      <th>2</th>\n",
       "      <td>3</td>\n",
       "      <td>424.846154</td>\n",
       "      <td>417.076923</td>\n",
       "      <td>426.000000</td>\n",
       "      <td>1267.923077</td>\n",
       "    </tr>\n",
       "  </tbody>\n",
       "</table>\n",
       "</div>"
      ],
      "text/plain": [
       "   District  SAT_avg_reading  SAT_avg_writing  SAT_avg_math  Total_Score\n",
       "0         1       423.777778       413.555556    468.444444  1305.777778\n",
       "1         2       424.068966       419.448276    441.344828  1284.862069\n",
       "2         3       424.846154       417.076923    426.000000  1267.923077"
      ]
     },
     "execution_count": 9,
     "metadata": {},
     "output_type": "execute_result"
    }
   ],
   "source": [
    "SAT_Score.head(3)"
   ]
  },
  {
   "cell_type": "code",
   "execution_count": 11,
   "metadata": {
    "collapsed": false
   },
   "outputs": [
    {
     "name": "stdout",
     "output_type": "stream",
     "text": [
      "<class 'pandas.core.frame.DataFrame'>\n",
      "Int64Index: 27611 entries, 0 to 27610\n",
      "Data columns (total 16 columns):\n",
      "CSD                                     27611 non-null int64\n",
      "BOROUGH                                 27611 non-null object\n",
      "SCHOOL CODE                             27611 non-null object\n",
      "SCHOOL NAME                             27611 non-null object\n",
      "GRADE                                   26127 non-null object\n",
      "PROGRAM TYPE                            26127 non-null object\n",
      "CORE SUBJECT (MS CORE and 9-12 ONLY)    26127 non-null object\n",
      "CORE COURSE (MS CORE and 9-12 ONLY)     26127 non-null object\n",
      "SERVICE CATEGORY(K-9* ONLY)             26127 non-null object\n",
      "NUMBER OF STUDENTS / SEATS FILLED       26127 non-null float64\n",
      "NUMBER OF SECTIONS                      26127 non-null float64\n",
      "AVERAGE CLASS SIZE                      26127 non-null float64\n",
      "SIZE OF SMALLEST CLASS                  26127 non-null float64\n",
      "SIZE OF LARGEST CLASS                   26127 non-null float64\n",
      "DATA SOURCE                             26127 non-null object\n",
      "SCHOOLWIDE PUPIL-TEACHER RATIO          1484 non-null float64\n",
      "dtypes: float64(6), int64(1), object(9)\n",
      "memory usage: 3.6+ MB\n"
     ]
    }
   ],
   "source": [
    "class_size = pd.read_csv('https://data.cityofnewyork.us/api/views/urz7-pzb3/rows.csv?accessType=DOWNLOAD')\n",
    "class_size.info()"
   ]
  },
  {
   "cell_type": "code",
   "execution_count": 26,
   "metadata": {
    "collapsed": true
   },
   "outputs": [],
   "source": [
    "class_size['District'] = class_size['CSD']\n",
    "classsize = class_size.groupby(['District','GRADE ','CORE SUBJECT (MS CORE and 9-12 ONLY)']).mean()"
   ]
  },
  {
   "cell_type": "code",
   "execution_count": 27,
   "metadata": {
    "collapsed": false
   },
   "outputs": [
    {
     "data": {
      "text/html": [
       "<div>\n",
       "<table border=\"1\" class=\"dataframe\">\n",
       "  <thead>\n",
       "    <tr style=\"text-align: right;\">\n",
       "      <th></th>\n",
       "      <th></th>\n",
       "      <th></th>\n",
       "      <th>CSD</th>\n",
       "      <th>NUMBER OF STUDENTS / SEATS FILLED</th>\n",
       "      <th>NUMBER OF SECTIONS</th>\n",
       "      <th>AVERAGE CLASS SIZE</th>\n",
       "      <th>SIZE OF SMALLEST CLASS</th>\n",
       "      <th>SIZE OF LARGEST CLASS</th>\n",
       "      <th>SCHOOLWIDE PUPIL-TEACHER RATIO</th>\n",
       "    </tr>\n",
       "    <tr>\n",
       "      <th>District</th>\n",
       "      <th>GRADE</th>\n",
       "      <th>CORE SUBJECT (MS CORE and 9-12 ONLY)</th>\n",
       "      <th></th>\n",
       "      <th></th>\n",
       "      <th></th>\n",
       "      <th></th>\n",
       "      <th></th>\n",
       "      <th></th>\n",
       "      <th></th>\n",
       "    </tr>\n",
       "  </thead>\n",
       "  <tbody>\n",
       "    <tr>\n",
       "      <th rowspan=\"2\" valign=\"top\">1</th>\n",
       "      <th rowspan=\"2\" valign=\"top\">MS Core</th>\n",
       "      <th>ENGLISH</th>\n",
       "      <td>1</td>\n",
       "      <td>69.647059</td>\n",
       "      <td>2.941176</td>\n",
       "      <td>21.488235</td>\n",
       "      <td>19.588235</td>\n",
       "      <td>23.176471</td>\n",
       "      <td>NaN</td>\n",
       "    </tr>\n",
       "    <tr>\n",
       "      <th>MATH</th>\n",
       "      <td>1</td>\n",
       "      <td>60.840000</td>\n",
       "      <td>2.760000</td>\n",
       "      <td>21.888000</td>\n",
       "      <td>19.800000</td>\n",
       "      <td>23.480000</td>\n",
       "      <td>NaN</td>\n",
       "    </tr>\n",
       "    <tr>\n",
       "      <th rowspan=\"2\" valign=\"top\">2</th>\n",
       "      <th rowspan=\"2\" valign=\"top\">MS Core</th>\n",
       "      <th>ENGLISH</th>\n",
       "      <td>2</td>\n",
       "      <td>156.281250</td>\n",
       "      <td>5.968750</td>\n",
       "      <td>23.375000</td>\n",
       "      <td>20.718750</td>\n",
       "      <td>25.531250</td>\n",
       "      <td>NaN</td>\n",
       "    </tr>\n",
       "    <tr>\n",
       "      <th>MATH</th>\n",
       "      <td>2</td>\n",
       "      <td>154.361111</td>\n",
       "      <td>5.888889</td>\n",
       "      <td>24.427778</td>\n",
       "      <td>21.527778</td>\n",
       "      <td>26.833333</td>\n",
       "      <td>NaN</td>\n",
       "    </tr>\n",
       "    <tr>\n",
       "      <th>3</th>\n",
       "      <th>MS Core</th>\n",
       "      <th>ENGLISH</th>\n",
       "      <td>3</td>\n",
       "      <td>96.625000</td>\n",
       "      <td>4.031250</td>\n",
       "      <td>22.300000</td>\n",
       "      <td>19.968750</td>\n",
       "      <td>24.375000</td>\n",
       "      <td>NaN</td>\n",
       "    </tr>\n",
       "  </tbody>\n",
       "</table>\n",
       "</div>"
      ],
      "text/plain": [
       "                                                       CSD  \\\n",
       "District GRADE   CORE SUBJECT (MS CORE and 9-12 ONLY)        \n",
       "1        MS Core ENGLISH                                 1   \n",
       "                 MATH                                    1   \n",
       "2        MS Core ENGLISH                                 2   \n",
       "                 MATH                                    2   \n",
       "3        MS Core ENGLISH                                 3   \n",
       "\n",
       "                                                       NUMBER OF STUDENTS / SEATS FILLED  \\\n",
       "District GRADE   CORE SUBJECT (MS CORE and 9-12 ONLY)                                      \n",
       "1        MS Core ENGLISH                                                       69.647059   \n",
       "                 MATH                                                          60.840000   \n",
       "2        MS Core ENGLISH                                                      156.281250   \n",
       "                 MATH                                                         154.361111   \n",
       "3        MS Core ENGLISH                                                       96.625000   \n",
       "\n",
       "                                                       NUMBER OF SECTIONS  \\\n",
       "District GRADE   CORE SUBJECT (MS CORE and 9-12 ONLY)                       \n",
       "1        MS Core ENGLISH                                         2.941176   \n",
       "                 MATH                                            2.760000   \n",
       "2        MS Core ENGLISH                                         5.968750   \n",
       "                 MATH                                            5.888889   \n",
       "3        MS Core ENGLISH                                         4.031250   \n",
       "\n",
       "                                                       AVERAGE CLASS SIZE  \\\n",
       "District GRADE   CORE SUBJECT (MS CORE and 9-12 ONLY)                       \n",
       "1        MS Core ENGLISH                                        21.488235   \n",
       "                 MATH                                           21.888000   \n",
       "2        MS Core ENGLISH                                        23.375000   \n",
       "                 MATH                                           24.427778   \n",
       "3        MS Core ENGLISH                                        22.300000   \n",
       "\n",
       "                                                       SIZE OF SMALLEST CLASS  \\\n",
       "District GRADE   CORE SUBJECT (MS CORE and 9-12 ONLY)                           \n",
       "1        MS Core ENGLISH                                            19.588235   \n",
       "                 MATH                                               19.800000   \n",
       "2        MS Core ENGLISH                                            20.718750   \n",
       "                 MATH                                               21.527778   \n",
       "3        MS Core ENGLISH                                            19.968750   \n",
       "\n",
       "                                                       SIZE OF LARGEST CLASS  \\\n",
       "District GRADE   CORE SUBJECT (MS CORE and 9-12 ONLY)                          \n",
       "1        MS Core ENGLISH                                           23.176471   \n",
       "                 MATH                                              23.480000   \n",
       "2        MS Core ENGLISH                                           25.531250   \n",
       "                 MATH                                              26.833333   \n",
       "3        MS Core ENGLISH                                           24.375000   \n",
       "\n",
       "                                                       SCHOOLWIDE PUPIL-TEACHER RATIO  \n",
       "District GRADE   CORE SUBJECT (MS CORE and 9-12 ONLY)                                  \n",
       "1        MS Core ENGLISH                                                          NaN  \n",
       "                 MATH                                                             NaN  \n",
       "2        MS Core ENGLISH                                                          NaN  \n",
       "                 MATH                                                             NaN  \n",
       "3        MS Core ENGLISH                                                          NaN  "
      ]
     },
     "execution_count": 27,
     "metadata": {},
     "output_type": "execute_result"
    }
   ],
   "source": [
    "classsize_subject = classsize[(classsize.index.get_level_values('GRADE ') == 'MS Core') & \n",
    "              ((classsize.index.get_level_values('CORE SUBJECT (MS CORE and 9-12 ONLY)') == 'ENGLISH') |\n",
    "                (classsize.index.get_level_values('CORE SUBJECT (MS CORE and 9-12 ONLY)') == 'MATH'))]\n",
    "classsize_subject.head()"
   ]
  },
  {
   "cell_type": "code",
   "execution_count": 30,
   "metadata": {
    "collapsed": false
   },
   "outputs": [
    {
     "name": "stdout",
     "output_type": "stream",
     "text": [
      "<class 'pandas.core.frame.DataFrame'>\n",
      "Int64Index: 32 entries, 0 to 31\n",
      "Data columns (total 8 columns):\n",
      "District                             32 non-null int64\n",
      "CSD                                  32 non-null int64\n",
      "NUMBER OF STUDENTS / SEATS FILLED    32 non-null float64\n",
      "NUMBER OF SECTIONS                   32 non-null float64\n",
      "AVERAGE CLASS SIZE                   32 non-null float64\n",
      "SIZE OF SMALLEST CLASS               32 non-null float64\n",
      "SIZE OF LARGEST CLASS                32 non-null float64\n",
      "SCHOOLWIDE PUPIL-TEACHER RATIO       32 non-null float64\n",
      "dtypes: float64(6), int64(2)\n",
      "memory usage: 2.2 KB\n"
     ]
    },
    {
     "data": {
      "text/html": [
       "<div>\n",
       "<table border=\"1\" class=\"dataframe\">\n",
       "  <thead>\n",
       "    <tr style=\"text-align: right;\">\n",
       "      <th></th>\n",
       "      <th>District</th>\n",
       "      <th>CSD</th>\n",
       "      <th>NUMBER OF STUDENTS / SEATS FILLED</th>\n",
       "      <th>NUMBER OF SECTIONS</th>\n",
       "      <th>AVERAGE CLASS SIZE</th>\n",
       "      <th>SIZE OF SMALLEST CLASS</th>\n",
       "      <th>SIZE OF LARGEST CLASS</th>\n",
       "      <th>SCHOOLWIDE PUPIL-TEACHER RATIO</th>\n",
       "    </tr>\n",
       "  </thead>\n",
       "  <tbody>\n",
       "    <tr>\n",
       "      <th>0</th>\n",
       "      <td>1</td>\n",
       "      <td>1</td>\n",
       "      <td>57.533719</td>\n",
       "      <td>2.672447</td>\n",
       "      <td>20.774759</td>\n",
       "      <td>19.042389</td>\n",
       "      <td>22.418112</td>\n",
       "      <td>12.319355</td>\n",
       "    </tr>\n",
       "    <tr>\n",
       "      <th>1</th>\n",
       "      <td>2</td>\n",
       "      <td>2</td>\n",
       "      <td>107.259830</td>\n",
       "      <td>4.220510</td>\n",
       "      <td>23.794368</td>\n",
       "      <td>20.898512</td>\n",
       "      <td>26.222104</td>\n",
       "      <td>14.770874</td>\n",
       "    </tr>\n",
       "    <tr>\n",
       "      <th>2</th>\n",
       "      <td>3</td>\n",
       "      <td>3</td>\n",
       "      <td>84.129252</td>\n",
       "      <td>3.417687</td>\n",
       "      <td>22.614150</td>\n",
       "      <td>20.481633</td>\n",
       "      <td>24.519728</td>\n",
       "      <td>13.810638</td>\n",
       "    </tr>\n",
       "  </tbody>\n",
       "</table>\n",
       "</div>"
      ],
      "text/plain": [
       "   District  CSD  NUMBER OF STUDENTS / SEATS FILLED  NUMBER OF SECTIONS  \\\n",
       "0         1    1                          57.533719            2.672447   \n",
       "1         2    2                         107.259830            4.220510   \n",
       "2         3    3                          84.129252            3.417687   \n",
       "\n",
       "   AVERAGE CLASS SIZE  SIZE OF SMALLEST CLASS  SIZE OF LARGEST CLASS  \\\n",
       "0           20.774759               19.042389              22.418112   \n",
       "1           23.794368               20.898512              26.222104   \n",
       "2           22.614150               20.481633              24.519728   \n",
       "\n",
       "   SCHOOLWIDE PUPIL-TEACHER RATIO  \n",
       "0                       12.319355  \n",
       "1                       14.770874  \n",
       "2                       13.810638  "
      ]
     },
     "execution_count": 30,
     "metadata": {},
     "output_type": "execute_result"
    }
   ],
   "source": [
    "classsize_subject = class_size.groupby(['District']).mean()\n",
    "classsize_subject = classsize_subject.reset_index()\n",
    "classsize_subject.info()\n",
    "classsize_subject.head(3)"
   ]
  },
  {
   "cell_type": "code",
   "execution_count": 15,
   "metadata": {
    "collapsed": true
   },
   "outputs": [],
   "source": [
    "classsize_subject['District'] = classsize_subject['District'].astype(float)"
   ]
  },
  {
   "cell_type": "code",
   "execution_count": 31,
   "metadata": {
    "collapsed": false
   },
   "outputs": [
    {
     "name": "stdout",
     "output_type": "stream",
     "text": [
      "<class 'pandas.core.frame.DataFrame'>\n",
      "Int64Index: 32 entries, 0 to 31\n",
      "Data columns (total 12 columns):\n",
      "District                             32 non-null float64\n",
      "SAT_avg_reading                      32 non-null float64\n",
      "SAT_avg_writing                      32 non-null float64\n",
      "SAT_avg_math                         32 non-null float64\n",
      "Total_Score                          32 non-null float64\n",
      "CSD                                  32 non-null int64\n",
      "NUMBER OF STUDENTS / SEATS FILLED    32 non-null float64\n",
      "NUMBER OF SECTIONS                   32 non-null float64\n",
      "AVERAGE CLASS SIZE                   32 non-null float64\n",
      "SIZE OF SMALLEST CLASS               32 non-null float64\n",
      "SIZE OF LARGEST CLASS                32 non-null float64\n",
      "SCHOOLWIDE PUPIL-TEACHER RATIO       32 non-null float64\n",
      "dtypes: float64(11), int64(1)\n",
      "memory usage: 3.2 KB\n"
     ]
    },
    {
     "data": {
      "text/html": [
       "<div>\n",
       "<table border=\"1\" class=\"dataframe\">\n",
       "  <thead>\n",
       "    <tr style=\"text-align: right;\">\n",
       "      <th></th>\n",
       "      <th>District</th>\n",
       "      <th>SAT_avg_reading</th>\n",
       "      <th>SAT_avg_writing</th>\n",
       "      <th>SAT_avg_math</th>\n",
       "      <th>Total_Score</th>\n",
       "      <th>CSD</th>\n",
       "      <th>NUMBER OF STUDENTS / SEATS FILLED</th>\n",
       "      <th>NUMBER OF SECTIONS</th>\n",
       "      <th>AVERAGE CLASS SIZE</th>\n",
       "      <th>SIZE OF SMALLEST CLASS</th>\n",
       "      <th>SIZE OF LARGEST CLASS</th>\n",
       "      <th>SCHOOLWIDE PUPIL-TEACHER RATIO</th>\n",
       "    </tr>\n",
       "  </thead>\n",
       "  <tbody>\n",
       "    <tr>\n",
       "      <th>0</th>\n",
       "      <td>1</td>\n",
       "      <td>423.777778</td>\n",
       "      <td>413.555556</td>\n",
       "      <td>468.444444</td>\n",
       "      <td>1305.777778</td>\n",
       "      <td>1</td>\n",
       "      <td>57.533719</td>\n",
       "      <td>2.672447</td>\n",
       "      <td>20.774759</td>\n",
       "      <td>19.042389</td>\n",
       "      <td>22.418112</td>\n",
       "      <td>12.319355</td>\n",
       "    </tr>\n",
       "    <tr>\n",
       "      <th>1</th>\n",
       "      <td>2</td>\n",
       "      <td>424.068966</td>\n",
       "      <td>419.448276</td>\n",
       "      <td>441.344828</td>\n",
       "      <td>1284.862069</td>\n",
       "      <td>2</td>\n",
       "      <td>107.259830</td>\n",
       "      <td>4.220510</td>\n",
       "      <td>23.794368</td>\n",
       "      <td>20.898512</td>\n",
       "      <td>26.222104</td>\n",
       "      <td>14.770874</td>\n",
       "    </tr>\n",
       "    <tr>\n",
       "      <th>2</th>\n",
       "      <td>3</td>\n",
       "      <td>424.846154</td>\n",
       "      <td>417.076923</td>\n",
       "      <td>426.000000</td>\n",
       "      <td>1267.923077</td>\n",
       "      <td>3</td>\n",
       "      <td>84.129252</td>\n",
       "      <td>3.417687</td>\n",
       "      <td>22.614150</td>\n",
       "      <td>20.481633</td>\n",
       "      <td>24.519728</td>\n",
       "      <td>13.810638</td>\n",
       "    </tr>\n",
       "    <tr>\n",
       "      <th>3</th>\n",
       "      <td>4</td>\n",
       "      <td>393.142857</td>\n",
       "      <td>392.714286</td>\n",
       "      <td>405.285714</td>\n",
       "      <td>1191.142857</td>\n",
       "      <td>4</td>\n",
       "      <td>65.478411</td>\n",
       "      <td>2.873921</td>\n",
       "      <td>21.646287</td>\n",
       "      <td>19.861831</td>\n",
       "      <td>23.233161</td>\n",
       "      <td>12.320588</td>\n",
       "    </tr>\n",
       "    <tr>\n",
       "      <th>4</th>\n",
       "      <td>5</td>\n",
       "      <td>407.333333</td>\n",
       "      <td>401.222222</td>\n",
       "      <td>409.666667</td>\n",
       "      <td>1218.222222</td>\n",
       "      <td>5</td>\n",
       "      <td>69.512059</td>\n",
       "      <td>3.066790</td>\n",
       "      <td>22.166048</td>\n",
       "      <td>20.189239</td>\n",
       "      <td>24.031540</td>\n",
       "      <td>12.722581</td>\n",
       "    </tr>\n",
       "  </tbody>\n",
       "</table>\n",
       "</div>"
      ],
      "text/plain": [
       "   District  SAT_avg_reading  SAT_avg_writing  SAT_avg_math  Total_Score  CSD  \\\n",
       "0         1       423.777778       413.555556    468.444444  1305.777778    1   \n",
       "1         2       424.068966       419.448276    441.344828  1284.862069    2   \n",
       "2         3       424.846154       417.076923    426.000000  1267.923077    3   \n",
       "3         4       393.142857       392.714286    405.285714  1191.142857    4   \n",
       "4         5       407.333333       401.222222    409.666667  1218.222222    5   \n",
       "\n",
       "   NUMBER OF STUDENTS / SEATS FILLED  NUMBER OF SECTIONS  AVERAGE CLASS SIZE  \\\n",
       "0                          57.533719            2.672447           20.774759   \n",
       "1                         107.259830            4.220510           23.794368   \n",
       "2                          84.129252            3.417687           22.614150   \n",
       "3                          65.478411            2.873921           21.646287   \n",
       "4                          69.512059            3.066790           22.166048   \n",
       "\n",
       "   SIZE OF SMALLEST CLASS  SIZE OF LARGEST CLASS  \\\n",
       "0               19.042389              22.418112   \n",
       "1               20.898512              26.222104   \n",
       "2               20.481633              24.519728   \n",
       "3               19.861831              23.233161   \n",
       "4               20.189239              24.031540   \n",
       "\n",
       "   SCHOOLWIDE PUPIL-TEACHER RATIO  \n",
       "0                       12.319355  \n",
       "1                       14.770874  \n",
       "2                       13.810638  \n",
       "3                       12.320588  \n",
       "4                       12.722581  "
      ]
     },
     "execution_count": 31,
     "metadata": {},
     "output_type": "execute_result"
    }
   ],
   "source": [
    "SAT_vs_classsize = pd.merge(SAT_Score, classsize_subject, how='inner', on='District')\n",
    "SAT_vs_classsize.columns\n",
    "SAT_vs_classsize.info()\n",
    "SAT_vs_classsize.head()"
   ]
  },
  {
   "cell_type": "code",
   "execution_count": 32,
   "metadata": {
    "collapsed": false
   },
   "outputs": [
    {
     "name": "stdout",
     "output_type": "stream",
     "text": [
      "R-squared value for Class Size vs Total Score: 0.432715672454\n",
      "Intercept    34.558318\n",
      "cls_size     51.710725\n",
      "dtype: float64\n",
      "20.363030303 24.5814338235\n",
      "R-squared value for Class Size vs Total Score: 0.492042799645\n",
      "Intercept           9279.888055\n",
      "cls_size            -768.168435\n",
      "I(cls_size ** 2)      18.130946\n",
      "dtype: float64\n"
     ]
    }
   ],
   "source": [
    "#Setting X and Y variables\n",
    "cls_size = SAT_vs_classsize['AVERAGE CLASS SIZE']\n",
    "tot_score = SAT_vs_classsize['Total_Score']\n",
    "\n",
    "# Fitting linear regression model \n",
    "model_SAT_vs_classsize = smf.ols(formula='(tot_score) ~ (cls_size) ' , data= SAT_vs_classsize).fit()\n",
    "print \"R-squared value for Class Size vs Total Score:\", model_SAT_vs_classsize.rsquared\n",
    "print model_SAT_vs_classsize.params\n",
    "\n",
    "# Using limit values for linspace function\n",
    "lower1 = np.min(cls_size)\n",
    "upper1 = np.max(cls_size)\n",
    "print lower1 , upper1\n",
    "\n",
    "# Generating predicted values using the above model1 parameters\n",
    "x_dummy = pd.DataFrame({'cls_size': np.linspace(lower1, upper1, 100)})\n",
    "predicted_model = model_SAT_vs_classsize.predict(x_dummy)\n",
    "\n",
    "# Fitting a second degree curve linear regression model\n",
    "model2_SAT_vs_classsize = smf.ols(formula='(tot_score) ~ (cls_size) + I(cls_size**2)', data= SAT_vs_classsize).fit()\n",
    "print \"R-squared value for Class Size vs Total Score:\", model2_SAT_vs_classsize.rsquared\n",
    "print model2_SAT_vs_classsize.params\n",
    "\n",
    "# Generating predicted values using the above model2 parameters\n",
    "x2_dummy = pd.DataFrame({'cls_atnd': np.linspace(lower1, upper1, 100)})\n",
    "predicted2_model = model2_SAT_vs_classsize.predict(x_dummy)\n"
   ]
  },
  {
   "cell_type": "code",
   "execution_count": 35,
   "metadata": {
    "collapsed": false,
    "scrolled": false
   },
   "outputs": [
    {
     "data": {
      "text/plain": [
       "(1050, 1400)"
      ]
     },
     "execution_count": 35,
     "metadata": {},
     "output_type": "execute_result"
    },
    {
     "data": {
      "image/png": "[encoded data removed]",
      "text/plain": [
       "<matplotlib.figure.Figure at 0x183ae7b8>"
      ]
     },
     "metadata": {},
     "output_type": "display_data"
    }
   ],
   "source": [
    "pl.figure(figsize=(8, 8))\n",
    "pl.title('SAT vs Attendance')\n",
    "pl.xlabel('Average School Attendance')\n",
    "pl.ylabel('Total SAT Score')\n",
    "pl.scatter(cls_size,tot_score)\n",
    "pl.plot(x_dummy, predicted_model, 'b', label=\"Fitted Regression Line\", linestyle='-')\n",
    "pl.plot(x2_dummy,predicted2_model, 'r', linestyle='--', label = \"Analytical Regression\")\n",
    "pl.legend(loc=\"upper left\")\n",
    "pl.xlim(int(lower1) , int(upper1+1))\n",
    "pl.ylim(1050,1400)\n",
    "\n",
    "\n"
   ]
  },
  {
   "cell_type": "code",
   "execution_count": null,
   "metadata": {
    "collapsed": true
   },
   "outputs": [],
   "source": []
  },
  {
   "cell_type": "code",
   "execution_count": null,
   "metadata": {
    "collapsed": true
   },
   "outputs": [],
   "source": []
  }
 ],
 "metadata": {
  "kernelspec": {
   "display_name": "Python 2",
   "language": "python",
   "name": "python2"
  },
  "language_info": {
   "codemirror_mode": {
    "name": "ipython",
    "version": 2
   },
   "file_extension": ".py",
   "mimetype": "text/x-python",
   "name": "python",
   "nbconvert_exporter": "python",
   "pygments_lexer": "ipython2",
   "version": "2.7.10"
  }
 },
 "nbformat": 4,
 "nbformat_minor": 0
}
