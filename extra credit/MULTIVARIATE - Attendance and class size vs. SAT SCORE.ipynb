{
 "cells": [
  {
   "cell_type": "code",
   "execution_count": 2,
   "metadata": {
    "collapsed": false,
    "scrolled": false
   },
   "outputs": [
    {
     "name": "stdout",
     "output_type": "stream",
     "text": [
      "Populating the interactive namespace from numpy and matplotlib\n"
     ]
    }
   ],
   "source": [
    "#Importing Packages\n",
    "import csv\n",
    "import urllib2\n",
    "import os\n",
    "import pylab as pl\n",
    "import pandas as pd\n",
    "from pandas.tools.plotting import scatter_matrix\n",
    "import statsmodels.api as sm\n",
    "import statsmodels.formula.api as smf\n",
    "\n",
    "%pylab inline \n",
    "\n",
    "# IMPORTING THE FILE FOR SAT SCORES FOR 2012\n",
    "SAT_Score = pd.read_csv(\"https://data.cityofnewyork.us/api/views/f9bf-2cp4/rows.csv?accessType=DOWNLOAD\")\n"
   ]
  },
  {
   "cell_type": "code",
   "execution_count": 3,
   "metadata": {
    "collapsed": false
   },
   "outputs": [],
   "source": [
    "SAT_Score.replace('s','NaN', inplace=True, regex=True)\n",
    "SAT_Score = SAT_Score.dropna()"
   ]
  },
  {
   "cell_type": "code",
   "execution_count": 4,
   "metadata": {
    "collapsed": false
   },
   "outputs": [
    {
     "name": "stdout",
     "output_type": "stream",
     "text": [
      "<class 'pandas.core.frame.DataFrame'>\n",
      "Int64Index: 478 entries, 0 to 477\n",
      "Data columns (total 10 columns):\n",
      "DBN                                478 non-null object\n",
      "SCHOOL NAME                        478 non-null object\n",
      "Num of SAT Test Takers             478 non-null object\n",
      "SAT Critical Reading Avg. Score    478 non-null object\n",
      "SAT Math Avg. Score                478 non-null object\n",
      "SAT Writing Avg. Score             478 non-null object\n",
      "District                           478 non-null float64\n",
      "SAT_avg_reading                    421 non-null float64\n",
      "SAT_avg_writing                    421 non-null float64\n",
      "SAT_avg_math                       421 non-null float64\n",
      "dtypes: float64(4), object(6)\n",
      "memory usage: 41.1+ KB\n"
     ]
    }
   ],
   "source": [
    "SAT_Score['District'] = SAT_Score['DBN'].map(lambda x: str(x)[:2])\n",
    "SAT_Score['District'] = (SAT_Score['District']).astype(float)\n",
    "# SAT_Score['Num_test_taker'] = (SAT_Score['Num of SAT Test Takers']).astype(float)\n",
    "SAT_Score['SAT_avg_reading'] = (SAT_Score['SAT Critical Reading Avg. Score']).astype(float)\n",
    "SAT_Score['SAT_avg_writing'] = (SAT_Score['SAT Writing Avg. Score']).astype(float)\n",
    "SAT_Score['SAT_avg_math'] = (SAT_Score['SAT Math Avg. Score']).astype(float)\n",
    "\n",
    "SAT_Score.info()"
   ]
  },
  {
   "cell_type": "code",
   "execution_count": 5,
   "metadata": {
    "collapsed": false
   },
   "outputs": [],
   "source": [
    "SAT_Score = SAT_Score.groupby('District').mean()"
   ]
  },
  {
   "cell_type": "code",
   "execution_count": 6,
   "metadata": {
    "collapsed": false
   },
   "outputs": [],
   "source": [
    "SAT_Score = SAT_Score.reset_index()\n",
    "SAT_Score = SAT_Score [0:32]"
   ]
  },
  {
   "cell_type": "code",
   "execution_count": 7,
   "metadata": {
    "collapsed": false
   },
   "outputs": [
    {
     "data": {
      "text/html": [
       "<div>\n",
       "<table border=\"1\" class=\"dataframe\">\n",
       "  <thead>\n",
       "    <tr style=\"text-align: right;\">\n",
       "      <th></th>\n",
       "      <th>District</th>\n",
       "      <th>SAT_avg_reading</th>\n",
       "      <th>SAT_avg_writing</th>\n",
       "      <th>SAT_avg_math</th>\n",
       "    </tr>\n",
       "  </thead>\n",
       "  <tbody>\n",
       "    <tr>\n",
       "      <th>0</th>\n",
       "      <td>1</td>\n",
       "      <td>423.777778</td>\n",
       "      <td>413.555556</td>\n",
       "      <td>468.444444</td>\n",
       "    </tr>\n",
       "    <tr>\n",
       "      <th>1</th>\n",
       "      <td>2</td>\n",
       "      <td>424.068966</td>\n",
       "      <td>419.448276</td>\n",
       "      <td>441.344828</td>\n",
       "    </tr>\n",
       "    <tr>\n",
       "      <th>2</th>\n",
       "      <td>3</td>\n",
       "      <td>424.846154</td>\n",
       "      <td>417.076923</td>\n",
       "      <td>426.000000</td>\n",
       "    </tr>\n",
       "  </tbody>\n",
       "</table>\n",
       "</div>"
      ],
      "text/plain": [
       "   District  SAT_avg_reading  SAT_avg_writing  SAT_avg_math\n",
       "0         1       423.777778       413.555556    468.444444\n",
       "1         2       424.068966       419.448276    441.344828\n",
       "2         3       424.846154       417.076923    426.000000"
      ]
     },
     "execution_count": 7,
     "metadata": {},
     "output_type": "execute_result"
    }
   ],
   "source": [
    "SAT_Score.head(3)"
   ]
  },
  {
   "cell_type": "code",
   "execution_count": 8,
   "metadata": {
    "collapsed": true
   },
   "outputs": [],
   "source": [
    "SAT_Score['Total_Score'] = pd.DataFrame(SAT_Score['SAT_avg_reading'] + SAT_Score['SAT_avg_writing'] +\n",
    "                                        SAT_Score['SAT_avg_math'])"
   ]
  },
  {
   "cell_type": "code",
   "execution_count": 9,
   "metadata": {
    "collapsed": false
   },
   "outputs": [
    {
     "data": {
      "text/html": [
       "<div>\n",
       "<table border=\"1\" class=\"dataframe\">\n",
       "  <thead>\n",
       "    <tr style=\"text-align: right;\">\n",
       "      <th></th>\n",
       "      <th>District</th>\n",
       "      <th>SAT_avg_reading</th>\n",
       "      <th>SAT_avg_writing</th>\n",
       "      <th>SAT_avg_math</th>\n",
       "      <th>Total_Score</th>\n",
       "    </tr>\n",
       "  </thead>\n",
       "  <tbody>\n",
       "    <tr>\n",
       "      <th>0</th>\n",
       "      <td>1</td>\n",
       "      <td>423.777778</td>\n",
       "      <td>413.555556</td>\n",
       "      <td>468.444444</td>\n",
       "      <td>1305.777778</td>\n",
       "    </tr>\n",
       "    <tr>\n",
       "      <th>1</th>\n",
       "      <td>2</td>\n",
       "      <td>424.068966</td>\n",
       "      <td>419.448276</td>\n",
       "      <td>441.344828</td>\n",
       "      <td>1284.862069</td>\n",
       "    </tr>\n",
       "    <tr>\n",
       "      <th>2</th>\n",
       "      <td>3</td>\n",
       "      <td>424.846154</td>\n",
       "      <td>417.076923</td>\n",
       "      <td>426.000000</td>\n",
       "      <td>1267.923077</td>\n",
       "    </tr>\n",
       "  </tbody>\n",
       "</table>\n",
       "</div>"
      ],
      "text/plain": [
       "   District  SAT_avg_reading  SAT_avg_writing  SAT_avg_math  Total_Score\n",
       "0         1       423.777778       413.555556    468.444444  1305.777778\n",
       "1         2       424.068966       419.448276    441.344828  1284.862069\n",
       "2         3       424.846154       417.076923    426.000000  1267.923077"
      ]
     },
     "execution_count": 9,
     "metadata": {},
     "output_type": "execute_result"
    }
   ],
   "source": [
    "SAT_Score.head(3)"
   ]
  },
  {
   "cell_type": "code",
   "execution_count": 10,
   "metadata": {
    "collapsed": false
   },
   "outputs": [
    {
     "name": "stdout",
     "output_type": "stream",
     "text": [
      "<class 'pandas.core.frame.DataFrame'>\n",
      "Int64Index: 35 entries, 0 to 34\n",
      "Data columns (total 3 columns):\n",
      "District                  35 non-null object\n",
      "YTD % Attendance (Avg)    35 non-null object\n",
      "YTD Enrollment (Avg)      35 non-null int64\n",
      "dtypes: int64(1), object(2)\n",
      "memory usage: 1.1+ KB\n"
     ]
    }
   ],
   "source": [
    "attendance = pd.read_csv(\"https://data.cityofnewyork.us/api/views/rfpq-hs49/rows.csv?accessType=DOWNLOAD\")\n",
    "attendance.info()"
   ]
  },
  {
   "cell_type": "code",
   "execution_count": 15,
   "metadata": {
    "collapsed": false
   },
   "outputs": [
    {
     "data": {
      "text/html": [
       "<div>\n",
       "<table border=\"1\" class=\"dataframe\">\n",
       "  <thead>\n",
       "    <tr style=\"text-align: right;\">\n",
       "      <th></th>\n",
       "      <th>District</th>\n",
       "      <th>YTD % Attendance (Avg)</th>\n",
       "      <th>YTD Enrollment (Avg)</th>\n",
       "    </tr>\n",
       "  </thead>\n",
       "  <tbody>\n",
       "    <tr>\n",
       "      <th>0</th>\n",
       "      <td>DISTRICT 01</td>\n",
       "      <td>91.18%</td>\n",
       "      <td>12367</td>\n",
       "    </tr>\n",
       "    <tr>\n",
       "      <th>1</th>\n",
       "      <td>DISTRICT 02</td>\n",
       "      <td>89.01%</td>\n",
       "      <td>60823</td>\n",
       "    </tr>\n",
       "    <tr>\n",
       "      <th>2</th>\n",
       "      <td>DISTRICT 03</td>\n",
       "      <td>89.28%</td>\n",
       "      <td>21962</td>\n",
       "    </tr>\n",
       "  </tbody>\n",
       "</table>\n",
       "</div>"
      ],
      "text/plain": [
       "      District YTD % Attendance (Avg)  YTD Enrollment (Avg)\n",
       "0  DISTRICT 01                 91.18%                 12367\n",
       "1  DISTRICT 02                 89.01%                 60823\n",
       "2  DISTRICT 03                 89.28%                 21962"
      ]
     },
     "execution_count": 15,
     "metadata": {},
     "output_type": "execute_result"
    }
   ],
   "source": [
    "attendance.head(3)"
   ]
  },
  {
   "cell_type": "code",
   "execution_count": 16,
   "metadata": {
    "collapsed": false
   },
   "outputs": [],
   "source": [
    "attendance['District'] = attendance['District'].map(lambda x: str(x)[-2:])"
   ]
  },
  {
   "cell_type": "code",
   "execution_count": 17,
   "metadata": {
    "collapsed": false
   },
   "outputs": [
    {
     "name": "stdout",
     "output_type": "stream",
     "text": [
      "<class 'pandas.core.frame.DataFrame'>\n",
      "Int64Index: 35 entries, 0 to 34\n",
      "Data columns (total 3 columns):\n",
      "District                  35 non-null object\n",
      "YTD % Attendance (Avg)    35 non-null object\n",
      "YTD Enrollment (Avg)      35 non-null int64\n",
      "dtypes: int64(1), object(2)\n",
      "memory usage: 1.1+ KB\n"
     ]
    }
   ],
   "source": [
    "attendance.info()"
   ]
  },
  {
   "cell_type": "code",
   "execution_count": 18,
   "metadata": {
    "collapsed": true
   },
   "outputs": [],
   "source": [
    "attendance = attendance [0:32]"
   ]
  },
  {
   "cell_type": "code",
   "execution_count": 19,
   "metadata": {
    "collapsed": false
   },
   "outputs": [],
   "source": [
    "attendance['District'] = attendance['District'].astype(float)"
   ]
  },
  {
   "cell_type": "code",
   "execution_count": 20,
   "metadata": {
    "collapsed": false
   },
   "outputs": [
    {
     "data": {
      "text/plain": [
       "str"
      ]
     },
     "execution_count": 20,
     "metadata": {},
     "output_type": "execute_result"
    }
   ],
   "source": [
    "type(attendance.iloc[30,1])"
   ]
  },
  {
   "cell_type": "code",
   "execution_count": 21,
   "metadata": {
    "collapsed": false
   },
   "outputs": [],
   "source": [
    "attendance['class_attend'] = (attendance['YTD % Attendance (Avg)'].map(lambda x: str(x)[:-1])).astype(float)"
   ]
  },
  {
   "cell_type": "code",
   "execution_count": 22,
   "metadata": {
    "collapsed": false
   },
   "outputs": [
    {
     "data": {
      "text/plain": [
       "numpy.float64"
      ]
     },
     "execution_count": 22,
     "metadata": {},
     "output_type": "execute_result"
    }
   ],
   "source": [
    "attendance\n",
    "type(attendance.iloc[30,3])"
   ]
  },
  {
   "cell_type": "code",
   "execution_count": 23,
   "metadata": {
    "collapsed": false
   },
   "outputs": [
    {
     "name": "stdout",
     "output_type": "stream",
     "text": [
      "<class 'pandas.core.frame.DataFrame'>\n",
      "Int64Index: 32 entries, 0 to 31\n",
      "Data columns (total 4 columns):\n",
      "District                  32 non-null float64\n",
      "YTD % Attendance (Avg)    32 non-null object\n",
      "YTD Enrollment (Avg)      32 non-null int64\n",
      "class_attend              32 non-null float64\n",
      "dtypes: float64(2), int64(1), object(1)\n",
      "memory usage: 1.2+ KB\n"
     ]
    }
   ],
   "source": [
    "attendance.head()\n",
    "attendance.info()"
   ]
  },
  {
   "cell_type": "code",
   "execution_count": 24,
   "metadata": {
    "collapsed": false
   },
   "outputs": [
    {
     "name": "stdout",
     "output_type": "stream",
     "text": [
      "<class 'pandas.core.frame.DataFrame'>\n",
      "Int64Index: 32 entries, 0 to 31\n",
      "Data columns (total 8 columns):\n",
      "District                  32 non-null float64\n",
      "SAT_avg_reading           32 non-null float64\n",
      "SAT_avg_writing           32 non-null float64\n",
      "SAT_avg_math              32 non-null float64\n",
      "Total_Score               32 non-null float64\n",
      "YTD % Attendance (Avg)    32 non-null object\n",
      "YTD Enrollment (Avg)      32 non-null int64\n",
      "class_attend              32 non-null float64\n",
      "dtypes: float64(6), int64(1), object(1)\n",
      "memory usage: 2.2+ KB\n"
     ]
    },
    {
     "data": {
      "text/html": [
       "<div>\n",
       "<table border=\"1\" class=\"dataframe\">\n",
       "  <thead>\n",
       "    <tr style=\"text-align: right;\">\n",
       "      <th></th>\n",
       "      <th>District</th>\n",
       "      <th>SAT_avg_reading</th>\n",
       "      <th>SAT_avg_writing</th>\n",
       "      <th>SAT_avg_math</th>\n",
       "      <th>Total_Score</th>\n",
       "      <th>YTD % Attendance (Avg)</th>\n",
       "      <th>YTD Enrollment (Avg)</th>\n",
       "      <th>class_attend</th>\n",
       "    </tr>\n",
       "  </thead>\n",
       "  <tbody>\n",
       "    <tr>\n",
       "      <th>0</th>\n",
       "      <td>1</td>\n",
       "      <td>423.777778</td>\n",
       "      <td>413.555556</td>\n",
       "      <td>468.444444</td>\n",
       "      <td>1305.777778</td>\n",
       "      <td>91.18%</td>\n",
       "      <td>12367</td>\n",
       "      <td>91.18</td>\n",
       "    </tr>\n",
       "    <tr>\n",
       "      <th>1</th>\n",
       "      <td>2</td>\n",
       "      <td>424.068966</td>\n",
       "      <td>419.448276</td>\n",
       "      <td>441.344828</td>\n",
       "      <td>1284.862069</td>\n",
       "      <td>89.01%</td>\n",
       "      <td>60823</td>\n",
       "      <td>89.01</td>\n",
       "    </tr>\n",
       "    <tr>\n",
       "      <th>2</th>\n",
       "      <td>3</td>\n",
       "      <td>424.846154</td>\n",
       "      <td>417.076923</td>\n",
       "      <td>426.000000</td>\n",
       "      <td>1267.923077</td>\n",
       "      <td>89.28%</td>\n",
       "      <td>21962</td>\n",
       "      <td>89.28</td>\n",
       "    </tr>\n",
       "  </tbody>\n",
       "</table>\n",
       "</div>"
      ],
      "text/plain": [
       "   District  SAT_avg_reading  SAT_avg_writing  SAT_avg_math  Total_Score  \\\n",
       "0         1       423.777778       413.555556    468.444444  1305.777778   \n",
       "1         2       424.068966       419.448276    441.344828  1284.862069   \n",
       "2         3       424.846154       417.076923    426.000000  1267.923077   \n",
       "\n",
       "  YTD % Attendance (Avg)  YTD Enrollment (Avg)  class_attend  \n",
       "0                 91.18%                 12367         91.18  \n",
       "1                 89.01%                 60823         89.01  \n",
       "2                 89.28%                 21962         89.28  "
      ]
     },
     "execution_count": 24,
     "metadata": {},
     "output_type": "execute_result"
    }
   ],
   "source": [
    "SAT_vs_attend = pd.merge(SAT_Score, attendance, how='inner', on='District')\n",
    "SAT_vs_attend.columns\n",
    "SAT_vs_attend.info()\n",
    "SAT_vs_attend.head(3)"
   ]
  },
  {
   "cell_type": "code",
   "execution_count": 25,
   "metadata": {
    "collapsed": false
   },
   "outputs": [],
   "source": [
    "# #Setting X and Y variables\n",
    "# cls_atnd = SAT_vs_attend['class_attend']\n",
    "# tot_score = SAT_vs_attend['Total_Score']\n",
    "\n",
    "# # Fitting linear regression model \n",
    "# model_SAT_vs_attend = smf.ols(formula='(tot_score) ~ (cls_atnd) ' , data= SAT_vs_attend).fit()\n",
    "# print \"R-squared value for Attendence vs Total Score:\", model_SAT_vs_attend.rsquared\n",
    "# print model_SAT_vs_attend.params\n",
    "\n",
    "# # Using limit values for linspace function\n",
    "# lower1 = np.min(cls_atnd)\n",
    "# upper1 = np.max(cls_atnd)\n",
    "# print lower1 , upper1\n",
    "\n",
    "# # Generating predicted values using the above model1 parameters\n",
    "# x_dummy = pd.DataFrame({'cls_atnd': np.linspace(lower1, upper1, 100)})\n",
    "# predicted_model = model_SAT_vs_attend.predict(x_dummy)\n",
    "\n",
    "# # Fitting a second degree curve linear regression model\n",
    "# model2_SAT_vs_attend = smf.ols(formula='(tot_score) ~ (cls_atnd) + I(cls_atnd**2)', data= SAT_vs_attend).fit()\n",
    "# print \"R-squared value for Attendence vs Total Score:\", model2_SAT_vs_attend.rsquared\n",
    "# print model2_SAT_vs_attend.params\n",
    "\n",
    "# # Generating predicted values using the above model2 parameters\n",
    "# x2_dummy = pd.DataFrame({'cls_atnd': np.linspace(lower1, upper1, 100)})\n",
    "# predicted2_model = model2_SAT_vs_attend.predict(x_dummy)\n"
   ]
  },
  {
   "cell_type": "code",
   "execution_count": 11,
   "metadata": {
    "collapsed": false
   },
   "outputs": [
    {
     "name": "stdout",
     "output_type": "stream",
     "text": [
      "<class 'pandas.core.frame.DataFrame'>\n",
      "Int64Index: 27611 entries, 0 to 27610\n",
      "Data columns (total 16 columns):\n",
      "CSD                                     27611 non-null int64\n",
      "BOROUGH                                 27611 non-null object\n",
      "SCHOOL CODE                             27611 non-null object\n",
      "SCHOOL NAME                             27611 non-null object\n",
      "GRADE                                   26127 non-null object\n",
      "PROGRAM TYPE                            26127 non-null object\n",
      "CORE SUBJECT (MS CORE and 9-12 ONLY)    26127 non-null object\n",
      "CORE COURSE (MS CORE and 9-12 ONLY)     26127 non-null object\n",
      "SERVICE CATEGORY(K-9* ONLY)             26127 non-null object\n",
      "NUMBER OF STUDENTS / SEATS FILLED       26127 non-null float64\n",
      "NUMBER OF SECTIONS                      26127 non-null float64\n",
      "AVERAGE CLASS SIZE                      26127 non-null float64\n",
      "SIZE OF SMALLEST CLASS                  26127 non-null float64\n",
      "SIZE OF LARGEST CLASS                   26127 non-null float64\n",
      "DATA SOURCE                             26127 non-null object\n",
      "SCHOOLWIDE PUPIL-TEACHER RATIO          1484 non-null float64\n",
      "dtypes: float64(6), int64(1), object(9)\n",
      "memory usage: 3.6+ MB\n"
     ]
    }
   ],
   "source": [
    "class_size = pd.read_csv('https://data.cityofnewyork.us/api/views/urz7-pzb3/rows.csv?accessType=DOWNLOAD')\n",
    "class_size.info()"
   ]
  },
  {
   "cell_type": "code",
   "execution_count": 14,
   "metadata": {
    "collapsed": false
   },
   "outputs": [],
   "source": [
    "class_size['District'] = class_size['CSD']\n",
    "classsize = class_size.groupby(['District','GRADE ','CORE SUBJECT (MS CORE and 9-12 ONLY)']).mean()"
   ]
  },
  {
   "cell_type": "code",
   "execution_count": 15,
   "metadata": {
    "collapsed": false,
    "scrolled": false
   },
   "outputs": [
    {
     "data": {
      "text/html": [
       "<div>\n",
       "<table border=\"1\" class=\"dataframe\">\n",
       "  <thead>\n",
       "    <tr style=\"text-align: right;\">\n",
       "      <th></th>\n",
       "      <th></th>\n",
       "      <th></th>\n",
       "      <th>CSD</th>\n",
       "      <th>NUMBER OF STUDENTS / SEATS FILLED</th>\n",
       "      <th>NUMBER OF SECTIONS</th>\n",
       "      <th>AVERAGE CLASS SIZE</th>\n",
       "      <th>SIZE OF SMALLEST CLASS</th>\n",
       "      <th>SIZE OF LARGEST CLASS</th>\n",
       "      <th>SCHOOLWIDE PUPIL-TEACHER RATIO</th>\n",
       "    </tr>\n",
       "    <tr>\n",
       "      <th>District</th>\n",
       "      <th>GRADE</th>\n",
       "      <th>CORE SUBJECT (MS CORE and 9-12 ONLY)</th>\n",
       "      <th></th>\n",
       "      <th></th>\n",
       "      <th></th>\n",
       "      <th></th>\n",
       "      <th></th>\n",
       "      <th></th>\n",
       "      <th></th>\n",
       "    </tr>\n",
       "  </thead>\n",
       "  <tbody>\n",
       "    <tr>\n",
       "      <th rowspan=\"2\" valign=\"top\">1</th>\n",
       "      <th rowspan=\"2\" valign=\"top\">MS Core</th>\n",
       "      <th>ENGLISH</th>\n",
       "      <td>1</td>\n",
       "      <td>69.647059</td>\n",
       "      <td>2.941176</td>\n",
       "      <td>21.488235</td>\n",
       "      <td>19.588235</td>\n",
       "      <td>23.176471</td>\n",
       "      <td>NaN</td>\n",
       "    </tr>\n",
       "    <tr>\n",
       "      <th>MATH</th>\n",
       "      <td>1</td>\n",
       "      <td>60.840000</td>\n",
       "      <td>2.760000</td>\n",
       "      <td>21.888000</td>\n",
       "      <td>19.800000</td>\n",
       "      <td>23.480000</td>\n",
       "      <td>NaN</td>\n",
       "    </tr>\n",
       "    <tr>\n",
       "      <th rowspan=\"2\" valign=\"top\">2</th>\n",
       "      <th rowspan=\"2\" valign=\"top\">MS Core</th>\n",
       "      <th>ENGLISH</th>\n",
       "      <td>2</td>\n",
       "      <td>156.281250</td>\n",
       "      <td>5.968750</td>\n",
       "      <td>23.375000</td>\n",
       "      <td>20.718750</td>\n",
       "      <td>25.531250</td>\n",
       "      <td>NaN</td>\n",
       "    </tr>\n",
       "    <tr>\n",
       "      <th>MATH</th>\n",
       "      <td>2</td>\n",
       "      <td>154.361111</td>\n",
       "      <td>5.888889</td>\n",
       "      <td>24.427778</td>\n",
       "      <td>21.527778</td>\n",
       "      <td>26.833333</td>\n",
       "      <td>NaN</td>\n",
       "    </tr>\n",
       "    <tr>\n",
       "      <th>3</th>\n",
       "      <th>MS Core</th>\n",
       "      <th>ENGLISH</th>\n",
       "      <td>3</td>\n",
       "      <td>96.625000</td>\n",
       "      <td>4.031250</td>\n",
       "      <td>22.300000</td>\n",
       "      <td>19.968750</td>\n",
       "      <td>24.375000</td>\n",
       "      <td>NaN</td>\n",
       "    </tr>\n",
       "  </tbody>\n",
       "</table>\n",
       "</div>"
      ],
      "text/plain": [
       "                                                       CSD  \\\n",
       "District GRADE   CORE SUBJECT (MS CORE and 9-12 ONLY)        \n",
       "1        MS Core ENGLISH                                 1   \n",
       "                 MATH                                    1   \n",
       "2        MS Core ENGLISH                                 2   \n",
       "                 MATH                                    2   \n",
       "3        MS Core ENGLISH                                 3   \n",
       "\n",
       "                                                       NUMBER OF STUDENTS / SEATS FILLED  \\\n",
       "District GRADE   CORE SUBJECT (MS CORE and 9-12 ONLY)                                      \n",
       "1        MS Core ENGLISH                                                       69.647059   \n",
       "                 MATH                                                          60.840000   \n",
       "2        MS Core ENGLISH                                                      156.281250   \n",
       "                 MATH                                                         154.361111   \n",
       "3        MS Core ENGLISH                                                       96.625000   \n",
       "\n",
       "                                                       NUMBER OF SECTIONS  \\\n",
       "District GRADE   CORE SUBJECT (MS CORE and 9-12 ONLY)                       \n",
       "1        MS Core ENGLISH                                         2.941176   \n",
       "                 MATH                                            2.760000   \n",
       "2        MS Core ENGLISH                                         5.968750   \n",
       "                 MATH                                            5.888889   \n",
       "3        MS Core ENGLISH                                         4.031250   \n",
       "\n",
       "                                                       AVERAGE CLASS SIZE  \\\n",
       "District GRADE   CORE SUBJECT (MS CORE and 9-12 ONLY)                       \n",
       "1        MS Core ENGLISH                                        21.488235   \n",
       "                 MATH                                           21.888000   \n",
       "2        MS Core ENGLISH                                        23.375000   \n",
       "                 MATH                                           24.427778   \n",
       "3        MS Core ENGLISH                                        22.300000   \n",
       "\n",
       "                                                       SIZE OF SMALLEST CLASS  \\\n",
       "District GRADE   CORE SUBJECT (MS CORE and 9-12 ONLY)                           \n",
       "1        MS Core ENGLISH                                            19.588235   \n",
       "                 MATH                                               19.800000   \n",
       "2        MS Core ENGLISH                                            20.718750   \n",
       "                 MATH                                               21.527778   \n",
       "3        MS Core ENGLISH                                            19.968750   \n",
       "\n",
       "                                                       SIZE OF LARGEST CLASS  \\\n",
       "District GRADE   CORE SUBJECT (MS CORE and 9-12 ONLY)                          \n",
       "1        MS Core ENGLISH                                           23.176471   \n",
       "                 MATH                                              23.480000   \n",
       "2        MS Core ENGLISH                                           25.531250   \n",
       "                 MATH                                              26.833333   \n",
       "3        MS Core ENGLISH                                           24.375000   \n",
       "\n",
       "                                                       SCHOOLWIDE PUPIL-TEACHER RATIO  \n",
       "District GRADE   CORE SUBJECT (MS CORE and 9-12 ONLY)                                  \n",
       "1        MS Core ENGLISH                                                          NaN  \n",
       "                 MATH                                                             NaN  \n",
       "2        MS Core ENGLISH                                                          NaN  \n",
       "                 MATH                                                             NaN  \n",
       "3        MS Core ENGLISH                                                          NaN  "
      ]
     },
     "execution_count": 15,
     "metadata": {},
     "output_type": "execute_result"
    }
   ],
   "source": [
    "classsize_subject = classsize[(classsize.index.get_level_values('GRADE ') == 'MS Core') & \n",
    "              ((classsize.index.get_level_values('CORE SUBJECT (MS CORE and 9-12 ONLY)') == 'ENGLISH') |\n",
    "                (classsize.index.get_level_values('CORE SUBJECT (MS CORE and 9-12 ONLY)') == 'MATH'))]\n",
    "classsize_subject.head()\n",
    "\n"
   ]
  },
  {
   "cell_type": "code",
   "execution_count": 17,
   "metadata": {
    "collapsed": false
   },
   "outputs": [
    {
     "name": "stdout",
     "output_type": "stream",
     "text": [
      "<class 'pandas.core.frame.DataFrame'>\n",
      "Int64Index: 32 entries, 0 to 31\n",
      "Data columns (total 8 columns):\n",
      "District                             32 non-null int64\n",
      "CSD                                  32 non-null int64\n",
      "NUMBER OF STUDENTS / SEATS FILLED    32 non-null float64\n",
      "NUMBER OF SECTIONS                   32 non-null float64\n",
      "AVERAGE CLASS SIZE                   32 non-null float64\n",
      "SIZE OF SMALLEST CLASS               32 non-null float64\n",
      "SIZE OF LARGEST CLASS                32 non-null float64\n",
      "SCHOOLWIDE PUPIL-TEACHER RATIO       32 non-null float64\n",
      "dtypes: float64(6), int64(2)\n",
      "memory usage: 2.2 KB\n"
     ]
    },
    {
     "data": {
      "text/html": [
       "<div>\n",
       "<table border=\"1\" class=\"dataframe\">\n",
       "  <thead>\n",
       "    <tr style=\"text-align: right;\">\n",
       "      <th></th>\n",
       "      <th>District</th>\n",
       "      <th>CSD</th>\n",
       "      <th>NUMBER OF STUDENTS / SEATS FILLED</th>\n",
       "      <th>NUMBER OF SECTIONS</th>\n",
       "      <th>AVERAGE CLASS SIZE</th>\n",
       "      <th>SIZE OF SMALLEST CLASS</th>\n",
       "      <th>SIZE OF LARGEST CLASS</th>\n",
       "      <th>SCHOOLWIDE PUPIL-TEACHER RATIO</th>\n",
       "    </tr>\n",
       "  </thead>\n",
       "  <tbody>\n",
       "    <tr>\n",
       "      <th>0</th>\n",
       "      <td>1</td>\n",
       "      <td>1</td>\n",
       "      <td>57.533719</td>\n",
       "      <td>2.672447</td>\n",
       "      <td>20.774759</td>\n",
       "      <td>19.042389</td>\n",
       "      <td>22.418112</td>\n",
       "      <td>12.319355</td>\n",
       "    </tr>\n",
       "    <tr>\n",
       "      <th>1</th>\n",
       "      <td>2</td>\n",
       "      <td>2</td>\n",
       "      <td>107.259830</td>\n",
       "      <td>4.220510</td>\n",
       "      <td>23.794368</td>\n",
       "      <td>20.898512</td>\n",
       "      <td>26.222104</td>\n",
       "      <td>14.770874</td>\n",
       "    </tr>\n",
       "    <tr>\n",
       "      <th>2</th>\n",
       "      <td>3</td>\n",
       "      <td>3</td>\n",
       "      <td>84.129252</td>\n",
       "      <td>3.417687</td>\n",
       "      <td>22.614150</td>\n",
       "      <td>20.481633</td>\n",
       "      <td>24.519728</td>\n",
       "      <td>13.810638</td>\n",
       "    </tr>\n",
       "    <tr>\n",
       "      <th>3</th>\n",
       "      <td>4</td>\n",
       "      <td>4</td>\n",
       "      <td>65.478411</td>\n",
       "      <td>2.873921</td>\n",
       "      <td>21.646287</td>\n",
       "      <td>19.861831</td>\n",
       "      <td>23.233161</td>\n",
       "      <td>12.320588</td>\n",
       "    </tr>\n",
       "    <tr>\n",
       "      <th>4</th>\n",
       "      <td>5</td>\n",
       "      <td>5</td>\n",
       "      <td>69.512059</td>\n",
       "      <td>3.066790</td>\n",
       "      <td>22.166048</td>\n",
       "      <td>20.189239</td>\n",
       "      <td>24.031540</td>\n",
       "      <td>12.722581</td>\n",
       "    </tr>\n",
       "    <tr>\n",
       "      <th>5</th>\n",
       "      <td>6</td>\n",
       "      <td>6</td>\n",
       "      <td>98.719225</td>\n",
       "      <td>4.038728</td>\n",
       "      <td>23.358921</td>\n",
       "      <td>20.838174</td>\n",
       "      <td>25.502075</td>\n",
       "      <td>13.417391</td>\n",
       "    </tr>\n",
       "    <tr>\n",
       "      <th>6</th>\n",
       "      <td>7</td>\n",
       "      <td>7</td>\n",
       "      <td>74.523507</td>\n",
       "      <td>3.365947</td>\n",
       "      <td>21.323380</td>\n",
       "      <td>18.838628</td>\n",
       "      <td>23.392630</td>\n",
       "      <td>12.536585</td>\n",
       "    </tr>\n",
       "    <tr>\n",
       "      <th>7</th>\n",
       "      <td>8</td>\n",
       "      <td>8</td>\n",
       "      <td>94.168132</td>\n",
       "      <td>4.061538</td>\n",
       "      <td>21.948681</td>\n",
       "      <td>19.437363</td>\n",
       "      <td>24.026374</td>\n",
       "      <td>13.506000</td>\n",
       "    </tr>\n",
       "    <tr>\n",
       "      <th>8</th>\n",
       "      <td>9</td>\n",
       "      <td>9</td>\n",
       "      <td>83.698082</td>\n",
       "      <td>3.692244</td>\n",
       "      <td>21.638699</td>\n",
       "      <td>19.002502</td>\n",
       "      <td>23.945788</td>\n",
       "      <td>12.862319</td>\n",
       "    </tr>\n",
       "    <tr>\n",
       "      <th>9</th>\n",
       "      <td>10</td>\n",
       "      <td>10</td>\n",
       "      <td>107.463300</td>\n",
       "      <td>4.437037</td>\n",
       "      <td>22.559125</td>\n",
       "      <td>19.771044</td>\n",
       "      <td>24.832997</td>\n",
       "      <td>13.708434</td>\n",
       "    </tr>\n",
       "    <tr>\n",
       "      <th>10</th>\n",
       "      <td>11</td>\n",
       "      <td>11</td>\n",
       "      <td>99.972272</td>\n",
       "      <td>4.019678</td>\n",
       "      <td>23.516011</td>\n",
       "      <td>20.811270</td>\n",
       "      <td>25.836315</td>\n",
       "      <td>14.861404</td>\n",
       "    </tr>\n",
       "    <tr>\n",
       "      <th>11</th>\n",
       "      <td>12</td>\n",
       "      <td>12</td>\n",
       "      <td>68.958919</td>\n",
       "      <td>3.128649</td>\n",
       "      <td>21.332216</td>\n",
       "      <td>19.135135</td>\n",
       "      <td>23.428108</td>\n",
       "      <td>12.907843</td>\n",
       "    </tr>\n",
       "    <tr>\n",
       "      <th>12</th>\n",
       "      <td>13</td>\n",
       "      <td>13</td>\n",
       "      <td>102.105048</td>\n",
       "      <td>4.066849</td>\n",
       "      <td>21.959345</td>\n",
       "      <td>19.710778</td>\n",
       "      <td>23.976808</td>\n",
       "      <td>13.858696</td>\n",
       "    </tr>\n",
       "    <tr>\n",
       "      <th>13</th>\n",
       "      <td>14</td>\n",
       "      <td>14</td>\n",
       "      <td>84.168142</td>\n",
       "      <td>3.517699</td>\n",
       "      <td>22.832743</td>\n",
       "      <td>20.091445</td>\n",
       "      <td>25.308260</td>\n",
       "      <td>13.202381</td>\n",
       "    </tr>\n",
       "    <tr>\n",
       "      <th>14</th>\n",
       "      <td>15</td>\n",
       "      <td>15</td>\n",
       "      <td>82.468354</td>\n",
       "      <td>3.501266</td>\n",
       "      <td>21.899620</td>\n",
       "      <td>19.735443</td>\n",
       "      <td>23.782278</td>\n",
       "      <td>13.027273</td>\n",
       "    </tr>\n",
       "    <tr>\n",
       "      <th>15</th>\n",
       "      <td>16</td>\n",
       "      <td>16</td>\n",
       "      <td>71.881818</td>\n",
       "      <td>3.284848</td>\n",
       "      <td>20.363030</td>\n",
       "      <td>18.212121</td>\n",
       "      <td>22.221212</td>\n",
       "      <td>12.556000</td>\n",
       "    </tr>\n",
       "    <tr>\n",
       "      <th>16</th>\n",
       "      <td>17</td>\n",
       "      <td>17</td>\n",
       "      <td>87.678351</td>\n",
       "      <td>3.640206</td>\n",
       "      <td>22.858351</td>\n",
       "      <td>20.078351</td>\n",
       "      <td>25.111340</td>\n",
       "      <td>13.928000</td>\n",
       "    </tr>\n",
       "    <tr>\n",
       "      <th>17</th>\n",
       "      <td>18</td>\n",
       "      <td>18</td>\n",
       "      <td>79.848739</td>\n",
       "      <td>3.443697</td>\n",
       "      <td>21.930420</td>\n",
       "      <td>19.813445</td>\n",
       "      <td>23.944538</td>\n",
       "      <td>13.757143</td>\n",
       "    </tr>\n",
       "    <tr>\n",
       "      <th>18</th>\n",
       "      <td>19</td>\n",
       "      <td>19</td>\n",
       "      <td>83.403204</td>\n",
       "      <td>3.542056</td>\n",
       "      <td>22.026702</td>\n",
       "      <td>19.691589</td>\n",
       "      <td>23.967957</td>\n",
       "      <td>13.513043</td>\n",
       "    </tr>\n",
       "    <tr>\n",
       "      <th>19</th>\n",
       "      <td>20</td>\n",
       "      <td>20</td>\n",
       "      <td>166.083333</td>\n",
       "      <td>6.336111</td>\n",
       "      <td>23.971389</td>\n",
       "      <td>21.222222</td>\n",
       "      <td>25.765278</td>\n",
       "      <td>14.974419</td>\n",
       "    </tr>\n",
       "    <tr>\n",
       "      <th>20</th>\n",
       "      <td>21</td>\n",
       "      <td>21</td>\n",
       "      <td>129.976298</td>\n",
       "      <td>4.990971</td>\n",
       "      <td>23.531264</td>\n",
       "      <td>20.700903</td>\n",
       "      <td>25.756208</td>\n",
       "      <td>14.355000</td>\n",
       "    </tr>\n",
       "    <tr>\n",
       "      <th>21</th>\n",
       "      <td>22</td>\n",
       "      <td>22</td>\n",
       "      <td>144.202532</td>\n",
       "      <td>5.302391</td>\n",
       "      <td>24.093390</td>\n",
       "      <td>21.741210</td>\n",
       "      <td>25.590717</td>\n",
       "      <td>14.778947</td>\n",
       "    </tr>\n",
       "    <tr>\n",
       "      <th>22</th>\n",
       "      <td>23</td>\n",
       "      <td>23</td>\n",
       "      <td>67.748945</td>\n",
       "      <td>3.059072</td>\n",
       "      <td>21.141350</td>\n",
       "      <td>18.966245</td>\n",
       "      <td>23.109705</td>\n",
       "      <td>13.751852</td>\n",
       "    </tr>\n",
       "    <tr>\n",
       "      <th>23</th>\n",
       "      <td>24</td>\n",
       "      <td>24</td>\n",
       "      <td>154.307350</td>\n",
       "      <td>6.125835</td>\n",
       "      <td>23.766927</td>\n",
       "      <td>20.928731</td>\n",
       "      <td>25.893096</td>\n",
       "      <td>15.206122</td>\n",
       "    </tr>\n",
       "    <tr>\n",
       "      <th>24</th>\n",
       "      <td>25</td>\n",
       "      <td>25</td>\n",
       "      <td>130.986859</td>\n",
       "      <td>4.989488</td>\n",
       "      <td>24.287385</td>\n",
       "      <td>21.798949</td>\n",
       "      <td>26.237845</td>\n",
       "      <td>15.411628</td>\n",
       "    </tr>\n",
       "    <tr>\n",
       "      <th>25</th>\n",
       "      <td>26</td>\n",
       "      <td>26</td>\n",
       "      <td>192.540441</td>\n",
       "      <td>6.753676</td>\n",
       "      <td>24.581434</td>\n",
       "      <td>21.613971</td>\n",
       "      <td>26.398897</td>\n",
       "      <td>16.635484</td>\n",
       "    </tr>\n",
       "    <tr>\n",
       "      <th>26</th>\n",
       "      <td>27</td>\n",
       "      <td>27</td>\n",
       "      <td>120.789809</td>\n",
       "      <td>4.719745</td>\n",
       "      <td>23.190537</td>\n",
       "      <td>20.973612</td>\n",
       "      <td>24.970883</td>\n",
       "      <td>14.396610</td>\n",
       "    </tr>\n",
       "    <tr>\n",
       "      <th>27</th>\n",
       "      <td>28</td>\n",
       "      <td>28</td>\n",
       "      <td>133.213439</td>\n",
       "      <td>5.113307</td>\n",
       "      <td>23.907378</td>\n",
       "      <td>21.064559</td>\n",
       "      <td>25.938076</td>\n",
       "      <td>15.686667</td>\n",
       "    </tr>\n",
       "    <tr>\n",
       "      <th>28</th>\n",
       "      <td>29</td>\n",
       "      <td>29</td>\n",
       "      <td>98.699301</td>\n",
       "      <td>3.951049</td>\n",
       "      <td>24.121399</td>\n",
       "      <td>21.855944</td>\n",
       "      <td>26.064336</td>\n",
       "      <td>15.713953</td>\n",
       "    </tr>\n",
       "    <tr>\n",
       "      <th>29</th>\n",
       "      <td>30</td>\n",
       "      <td>30</td>\n",
       "      <td>147.654422</td>\n",
       "      <td>5.808163</td>\n",
       "      <td>23.352789</td>\n",
       "      <td>20.395918</td>\n",
       "      <td>25.423129</td>\n",
       "      <td>14.565116</td>\n",
       "    </tr>\n",
       "    <tr>\n",
       "      <th>30</th>\n",
       "      <td>31</td>\n",
       "      <td>31</td>\n",
       "      <td>150.424956</td>\n",
       "      <td>5.745201</td>\n",
       "      <td>24.004538</td>\n",
       "      <td>21.405759</td>\n",
       "      <td>25.855148</td>\n",
       "      <td>15.122727</td>\n",
       "    </tr>\n",
       "    <tr>\n",
       "      <th>31</th>\n",
       "      <td>32</td>\n",
       "      <td>32</td>\n",
       "      <td>91.270208</td>\n",
       "      <td>3.939954</td>\n",
       "      <td>21.887067</td>\n",
       "      <td>19.457275</td>\n",
       "      <td>24.041570</td>\n",
       "      <td>13.803846</td>\n",
       "    </tr>\n",
       "  </tbody>\n",
       "</table>\n",
       "</div>"
      ],
      "text/plain": [
       "    District  CSD  NUMBER OF STUDENTS / SEATS FILLED  NUMBER OF SECTIONS  \\\n",
       "0          1    1                          57.533719            2.672447   \n",
       "1          2    2                         107.259830            4.220510   \n",
       "2          3    3                          84.129252            3.417687   \n",
       "3          4    4                          65.478411            2.873921   \n",
       "4          5    5                          69.512059            3.066790   \n",
       "5          6    6                          98.719225            4.038728   \n",
       "6          7    7                          74.523507            3.365947   \n",
       "7          8    8                          94.168132            4.061538   \n",
       "8          9    9                          83.698082            3.692244   \n",
       "9         10   10                         107.463300            4.437037   \n",
       "10        11   11                          99.972272            4.019678   \n",
       "11        12   12                          68.958919            3.128649   \n",
       "12        13   13                         102.105048            4.066849   \n",
       "13        14   14                          84.168142            3.517699   \n",
       "14        15   15                          82.468354            3.501266   \n",
       "15        16   16                          71.881818            3.284848   \n",
       "16        17   17                          87.678351            3.640206   \n",
       "17        18   18                          79.848739            3.443697   \n",
       "18        19   19                          83.403204            3.542056   \n",
       "19        20   20                         166.083333            6.336111   \n",
       "20        21   21                         129.976298            4.990971   \n",
       "21        22   22                         144.202532            5.302391   \n",
       "22        23   23                          67.748945            3.059072   \n",
       "23        24   24                         154.307350            6.125835   \n",
       "24        25   25                         130.986859            4.989488   \n",
       "25        26   26                         192.540441            6.753676   \n",
       "26        27   27                         120.789809            4.719745   \n",
       "27        28   28                         133.213439            5.113307   \n",
       "28        29   29                          98.699301            3.951049   \n",
       "29        30   30                         147.654422            5.808163   \n",
       "30        31   31                         150.424956            5.745201   \n",
       "31        32   32                          91.270208            3.939954   \n",
       "\n",
       "    AVERAGE CLASS SIZE  SIZE OF SMALLEST CLASS  SIZE OF LARGEST CLASS  \\\n",
       "0            20.774759               19.042389              22.418112   \n",
       "1            23.794368               20.898512              26.222104   \n",
       "2            22.614150               20.481633              24.519728   \n",
       "3            21.646287               19.861831              23.233161   \n",
       "4            22.166048               20.189239              24.031540   \n",
       "5            23.358921               20.838174              25.502075   \n",
       "6            21.323380               18.838628              23.392630   \n",
       "7            21.948681               19.437363              24.026374   \n",
       "8            21.638699               19.002502              23.945788   \n",
       "9            22.559125               19.771044              24.832997   \n",
       "10           23.516011               20.811270              25.836315   \n",
       "11           21.332216               19.135135              23.428108   \n",
       "12           21.959345               19.710778              23.976808   \n",
       "13           22.832743               20.091445              25.308260   \n",
       "14           21.899620               19.735443              23.782278   \n",
       "15           20.363030               18.212121              22.221212   \n",
       "16           22.858351               20.078351              25.111340   \n",
       "17           21.930420               19.813445              23.944538   \n",
       "18           22.026702               19.691589              23.967957   \n",
       "19           23.971389               21.222222              25.765278   \n",
       "20           23.531264               20.700903              25.756208   \n",
       "21           24.093390               21.741210              25.590717   \n",
       "22           21.141350               18.966245              23.109705   \n",
       "23           23.766927               20.928731              25.893096   \n",
       "24           24.287385               21.798949              26.237845   \n",
       "25           24.581434               21.613971              26.398897   \n",
       "26           23.190537               20.973612              24.970883   \n",
       "27           23.907378               21.064559              25.938076   \n",
       "28           24.121399               21.855944              26.064336   \n",
       "29           23.352789               20.395918              25.423129   \n",
       "30           24.004538               21.405759              25.855148   \n",
       "31           21.887067               19.457275              24.041570   \n",
       "\n",
       "    SCHOOLWIDE PUPIL-TEACHER RATIO  \n",
       "0                        12.319355  \n",
       "1                        14.770874  \n",
       "2                        13.810638  \n",
       "3                        12.320588  \n",
       "4                        12.722581  \n",
       "5                        13.417391  \n",
       "6                        12.536585  \n",
       "7                        13.506000  \n",
       "8                        12.862319  \n",
       "9                        13.708434  \n",
       "10                       14.861404  \n",
       "11                       12.907843  \n",
       "12                       13.858696  \n",
       "13                       13.202381  \n",
       "14                       13.027273  \n",
       "15                       12.556000  \n",
       "16                       13.928000  \n",
       "17                       13.757143  \n",
       "18                       13.513043  \n",
       "19                       14.974419  \n",
       "20                       14.355000  \n",
       "21                       14.778947  \n",
       "22                       13.751852  \n",
       "23                       15.206122  \n",
       "24                       15.411628  \n",
       "25                       16.635484  \n",
       "26                       14.396610  \n",
       "27                       15.686667  \n",
       "28                       15.713953  \n",
       "29                       14.565116  \n",
       "30                       15.122727  \n",
       "31                       13.803846  "
      ]
     },
     "execution_count": 17,
     "metadata": {},
     "output_type": "execute_result"
    }
   ],
   "source": [
    "classsize_subject = class_size.groupby(['District']).mean()\n",
    "classsize_subject = classsize_subject.reset_index()\n",
    "classsize_subject.info()\n",
    "classsize_subject"
   ]
  },
  {
   "cell_type": "code",
   "execution_count": null,
   "metadata": {
    "collapsed": true
   },
   "outputs": [],
   "source": []
  }
 ],
 "metadata": {
  "kernelspec": {
   "display_name": "Python 2",
   "language": "python",
   "name": "python2"
  },
  "language_info": {
   "codemirror_mode": {
    "name": "ipython",
    "version": 2
   },
   "file_extension": ".py",
   "mimetype": "text/x-python",
   "name": "python",
   "nbconvert_exporter": "python",
   "pygments_lexer": "ipython2",
   "version": "2.7.10"
  }
 },
 "nbformat": 4,
 "nbformat_minor": 0
}
