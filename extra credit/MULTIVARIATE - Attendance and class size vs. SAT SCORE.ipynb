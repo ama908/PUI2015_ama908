{
 "cells": [
  {
   "cell_type": "code",
   "execution_count": 6,
   "metadata": {
    "collapsed": false,
    "scrolled": false
   },
   "outputs": [
    {
     "name": "stdout",
     "output_type": "stream",
     "text": [
      "Populating the interactive namespace from numpy and matplotlib\n"
     ]
    }
   ],
   "source": [
    "#Importing Packages\n",
    "import csv\n",
    "import urllib2\n",
    "import os\n",
    "import pylab as pl\n",
    "import pandas as pd\n",
    "from pandas.tools.plotting import scatter_matrix\n",
    "import statsmodels.api as sm\n",
    "import statsmodels.formula.api as smf\n",
    "\n",
    "%pylab inline \n",
    "\n",
    "# IMPORTING THE FILE FOR SAT SCORES FOR 2012\n",
    "SAT_Score = pd.read_csv(\"https://data.cityofnewyork.us/api/views/f9bf-2cp4/rows.csv?accessType=DOWNLOAD\")\n"
   ]
  },
  {
   "cell_type": "code",
   "execution_count": 7,
   "metadata": {
    "collapsed": false
   },
   "outputs": [],
   "source": [
    "SAT_Score.replace('s','NaN', inplace=True, regex=True)\n",
    "SAT_Score = SAT_Score.dropna()"
   ]
  },
  {
   "cell_type": "code",
   "execution_count": 8,
   "metadata": {
    "collapsed": false
   },
   "outputs": [
    {
     "name": "stdout",
     "output_type": "stream",
     "text": [
      "<class 'pandas.core.frame.DataFrame'>\n",
      "Int64Index: 478 entries, 0 to 477\n",
      "Data columns (total 10 columns):\n",
      "DBN                                478 non-null object\n",
      "SCHOOL NAME                        478 non-null object\n",
      "Num of SAT Test Takers             478 non-null object\n",
      "SAT Critical Reading Avg. Score    478 non-null object\n",
      "SAT Math Avg. Score                478 non-null object\n",
      "SAT Writing Avg. Score             478 non-null object\n",
      "District                           478 non-null float64\n",
      "SAT_avg_reading                    421 non-null float64\n",
      "SAT_avg_writing                    421 non-null float64\n",
      "SAT_avg_math                       421 non-null float64\n",
      "dtypes: float64(4), object(6)\n",
      "memory usage: 41.1+ KB\n"
     ]
    }
   ],
   "source": [
    "SAT_Score['District'] = SAT_Score['DBN'].map(lambda x: str(x)[:2])\n",
    "SAT_Score['District'] = (SAT_Score['District']).astype(float)\n",
    "# SAT_Score['Num_test_taker'] = (SAT_Score['Num of SAT Test Takers']).astype(float)\n",
    "SAT_Score['SAT_avg_reading'] = (SAT_Score['SAT Critical Reading Avg. Score']).astype(float)\n",
    "SAT_Score['SAT_avg_writing'] = (SAT_Score['SAT Writing Avg. Score']).astype(float)\n",
    "SAT_Score['SAT_avg_math'] = (SAT_Score['SAT Math Avg. Score']).astype(float)\n",
    "\n",
    "SAT_Score.info()"
   ]
  },
  {
   "cell_type": "code",
   "execution_count": 9,
   "metadata": {
    "collapsed": false
   },
   "outputs": [],
   "source": [
    "SAT_Score = SAT_Score.groupby('District').mean()"
   ]
  },
  {
   "cell_type": "code",
   "execution_count": 10,
   "metadata": {
    "collapsed": false
   },
   "outputs": [],
   "source": [
    "SAT_Score = SAT_Score.reset_index()\n",
    "SAT_Score = SAT_Score [0:32]"
   ]
  },
  {
   "cell_type": "code",
   "execution_count": 11,
   "metadata": {
    "collapsed": false
   },
   "outputs": [
    {
     "data": {
      "text/html": [
       "<div>\n",
       "<table border=\"1\" class=\"dataframe\">\n",
       "  <thead>\n",
       "    <tr style=\"text-align: right;\">\n",
       "      <th></th>\n",
       "      <th>District</th>\n",
       "      <th>SAT_avg_reading</th>\n",
       "      <th>SAT_avg_writing</th>\n",
       "      <th>SAT_avg_math</th>\n",
       "    </tr>\n",
       "  </thead>\n",
       "  <tbody>\n",
       "    <tr>\n",
       "      <th>0</th>\n",
       "      <td>1</td>\n",
       "      <td>423.777778</td>\n",
       "      <td>413.555556</td>\n",
       "      <td>468.444444</td>\n",
       "    </tr>\n",
       "    <tr>\n",
       "      <th>1</th>\n",
       "      <td>2</td>\n",
       "      <td>424.068966</td>\n",
       "      <td>419.448276</td>\n",
       "      <td>441.344828</td>\n",
       "    </tr>\n",
       "    <tr>\n",
       "      <th>2</th>\n",
       "      <td>3</td>\n",
       "      <td>424.846154</td>\n",
       "      <td>417.076923</td>\n",
       "      <td>426.000000</td>\n",
       "    </tr>\n",
       "  </tbody>\n",
       "</table>\n",
       "</div>"
      ],
      "text/plain": [
       "   District  SAT_avg_reading  SAT_avg_writing  SAT_avg_math\n",
       "0         1       423.777778       413.555556    468.444444\n",
       "1         2       424.068966       419.448276    441.344828\n",
       "2         3       424.846154       417.076923    426.000000"
      ]
     },
     "execution_count": 11,
     "metadata": {},
     "output_type": "execute_result"
    }
   ],
   "source": [
    "SAT_Score.head(3)"
   ]
  },
  {
   "cell_type": "code",
   "execution_count": 12,
   "metadata": {
    "collapsed": true
   },
   "outputs": [],
   "source": [
    "SAT_Score['Total_Score'] = pd.DataFrame(SAT_Score['SAT_avg_reading'] + SAT_Score['SAT_avg_writing'] +\n",
    "                                        SAT_Score['SAT_avg_math'])"
   ]
  },
  {
   "cell_type": "code",
   "execution_count": 13,
   "metadata": {
    "collapsed": false
   },
   "outputs": [
    {
     "data": {
      "text/html": [
       "<div>\n",
       "<table border=\"1\" class=\"dataframe\">\n",
       "  <thead>\n",
       "    <tr style=\"text-align: right;\">\n",
       "      <th></th>\n",
       "      <th>District</th>\n",
       "      <th>SAT_avg_reading</th>\n",
       "      <th>SAT_avg_writing</th>\n",
       "      <th>SAT_avg_math</th>\n",
       "      <th>Total_Score</th>\n",
       "    </tr>\n",
       "  </thead>\n",
       "  <tbody>\n",
       "    <tr>\n",
       "      <th>0</th>\n",
       "      <td>1</td>\n",
       "      <td>423.777778</td>\n",
       "      <td>413.555556</td>\n",
       "      <td>468.444444</td>\n",
       "      <td>1305.777778</td>\n",
       "    </tr>\n",
       "    <tr>\n",
       "      <th>1</th>\n",
       "      <td>2</td>\n",
       "      <td>424.068966</td>\n",
       "      <td>419.448276</td>\n",
       "      <td>441.344828</td>\n",
       "      <td>1284.862069</td>\n",
       "    </tr>\n",
       "    <tr>\n",
       "      <th>2</th>\n",
       "      <td>3</td>\n",
       "      <td>424.846154</td>\n",
       "      <td>417.076923</td>\n",
       "      <td>426.000000</td>\n",
       "      <td>1267.923077</td>\n",
       "    </tr>\n",
       "  </tbody>\n",
       "</table>\n",
       "</div>"
      ],
      "text/plain": [
       "   District  SAT_avg_reading  SAT_avg_writing  SAT_avg_math  Total_Score\n",
       "0         1       423.777778       413.555556    468.444444  1305.777778\n",
       "1         2       424.068966       419.448276    441.344828  1284.862069\n",
       "2         3       424.846154       417.076923    426.000000  1267.923077"
      ]
     },
     "execution_count": 13,
     "metadata": {},
     "output_type": "execute_result"
    }
   ],
   "source": [
    "SAT_Score.head(3)"
   ]
  },
  {
   "cell_type": "code",
   "execution_count": 14,
   "metadata": {
    "collapsed": false
   },
   "outputs": [
    {
     "name": "stdout",
     "output_type": "stream",
     "text": [
      "<class 'pandas.core.frame.DataFrame'>\n",
      "Int64Index: 35 entries, 0 to 34\n",
      "Data columns (total 3 columns):\n",
      "District                  35 non-null object\n",
      "YTD % Attendance (Avg)    35 non-null object\n",
      "YTD Enrollment (Avg)      35 non-null int64\n",
      "dtypes: int64(1), object(2)\n",
      "memory usage: 1.1+ KB\n"
     ]
    }
   ],
   "source": [
    "attendance = pd.read_csv(\"https://data.cityofnewyork.us/api/views/rfpq-hs49/rows.csv?accessType=DOWNLOAD\")\n",
    "attendance.info()"
   ]
  },
  {
   "cell_type": "code",
   "execution_count": 15,
   "metadata": {
    "collapsed": false
   },
   "outputs": [
    {
     "data": {
      "text/html": [
       "<div>\n",
       "<table border=\"1\" class=\"dataframe\">\n",
       "  <thead>\n",
       "    <tr style=\"text-align: right;\">\n",
       "      <th></th>\n",
       "      <th>District</th>\n",
       "      <th>YTD % Attendance (Avg)</th>\n",
       "      <th>YTD Enrollment (Avg)</th>\n",
       "    </tr>\n",
       "  </thead>\n",
       "  <tbody>\n",
       "    <tr>\n",
       "      <th>0</th>\n",
       "      <td>DISTRICT 01</td>\n",
       "      <td>91.18%</td>\n",
       "      <td>12367</td>\n",
       "    </tr>\n",
       "    <tr>\n",
       "      <th>1</th>\n",
       "      <td>DISTRICT 02</td>\n",
       "      <td>89.01%</td>\n",
       "      <td>60823</td>\n",
       "    </tr>\n",
       "    <tr>\n",
       "      <th>2</th>\n",
       "      <td>DISTRICT 03</td>\n",
       "      <td>89.28%</td>\n",
       "      <td>21962</td>\n",
       "    </tr>\n",
       "  </tbody>\n",
       "</table>\n",
       "</div>"
      ],
      "text/plain": [
       "      District YTD % Attendance (Avg)  YTD Enrollment (Avg)\n",
       "0  DISTRICT 01                 91.18%                 12367\n",
       "1  DISTRICT 02                 89.01%                 60823\n",
       "2  DISTRICT 03                 89.28%                 21962"
      ]
     },
     "execution_count": 15,
     "metadata": {},
     "output_type": "execute_result"
    }
   ],
   "source": [
    "attendance.head(3)"
   ]
  },
  {
   "cell_type": "code",
   "execution_count": 16,
   "metadata": {
    "collapsed": false
   },
   "outputs": [],
   "source": [
    "attendance['District'] = attendance['District'].map(lambda x: str(x)[-2:])"
   ]
  },
  {
   "cell_type": "code",
   "execution_count": 17,
   "metadata": {
    "collapsed": false
   },
   "outputs": [
    {
     "name": "stdout",
     "output_type": "stream",
     "text": [
      "<class 'pandas.core.frame.DataFrame'>\n",
      "Int64Index: 35 entries, 0 to 34\n",
      "Data columns (total 3 columns):\n",
      "District                  35 non-null object\n",
      "YTD % Attendance (Avg)    35 non-null object\n",
      "YTD Enrollment (Avg)      35 non-null int64\n",
      "dtypes: int64(1), object(2)\n",
      "memory usage: 1.1+ KB\n"
     ]
    }
   ],
   "source": [
    "attendance.info()"
   ]
  },
  {
   "cell_type": "code",
   "execution_count": 18,
   "metadata": {
    "collapsed": true
   },
   "outputs": [],
   "source": [
    "attendance = attendance [0:32]"
   ]
  },
  {
   "cell_type": "code",
   "execution_count": 19,
   "metadata": {
    "collapsed": false
   },
   "outputs": [],
   "source": [
    "attendance['District'] = attendance['District'].astype(float)"
   ]
  },
  {
   "cell_type": "code",
   "execution_count": 20,
   "metadata": {
    "collapsed": false
   },
   "outputs": [
    {
     "data": {
      "text/plain": [
       "str"
      ]
     },
     "execution_count": 20,
     "metadata": {},
     "output_type": "execute_result"
    }
   ],
   "source": [
    "type(attendance.iloc[30,1])"
   ]
  },
  {
   "cell_type": "code",
   "execution_count": 21,
   "metadata": {
    "collapsed": false
   },
   "outputs": [],
   "source": [
    "attendance['class_attend'] = (attendance['YTD % Attendance (Avg)'].map(lambda x: str(x)[:-1])).astype(float)"
   ]
  },
  {
   "cell_type": "code",
   "execution_count": 22,
   "metadata": {
    "collapsed": false
   },
   "outputs": [
    {
     "data": {
      "text/plain": [
       "numpy.float64"
      ]
     },
     "execution_count": 22,
     "metadata": {},
     "output_type": "execute_result"
    }
   ],
   "source": [
    "attendance\n",
    "type(attendance.iloc[30,3])"
   ]
  },
  {
   "cell_type": "code",
   "execution_count": 23,
   "metadata": {
    "collapsed": false
   },
   "outputs": [
    {
     "name": "stdout",
     "output_type": "stream",
     "text": [
      "<class 'pandas.core.frame.DataFrame'>\n",
      "Int64Index: 32 entries, 0 to 31\n",
      "Data columns (total 4 columns):\n",
      "District                  32 non-null float64\n",
      "YTD % Attendance (Avg)    32 non-null object\n",
      "YTD Enrollment (Avg)      32 non-null int64\n",
      "class_attend              32 non-null float64\n",
      "dtypes: float64(2), int64(1), object(1)\n",
      "memory usage: 1.2+ KB\n"
     ]
    }
   ],
   "source": [
    "attendance.head()\n",
    "attendance.info()"
   ]
  },
  {
   "cell_type": "code",
   "execution_count": 24,
   "metadata": {
    "collapsed": false
   },
   "outputs": [
    {
     "name": "stdout",
     "output_type": "stream",
     "text": [
      "<class 'pandas.core.frame.DataFrame'>\n",
      "Int64Index: 32 entries, 0 to 31\n",
      "Data columns (total 8 columns):\n",
      "District                  32 non-null float64\n",
      "SAT_avg_reading           32 non-null float64\n",
      "SAT_avg_writing           32 non-null float64\n",
      "SAT_avg_math              32 non-null float64\n",
      "Total_Score               32 non-null float64\n",
      "YTD % Attendance (Avg)    32 non-null object\n",
      "YTD Enrollment (Avg)      32 non-null int64\n",
      "class_attend              32 non-null float64\n",
      "dtypes: float64(6), int64(1), object(1)\n",
      "memory usage: 2.2+ KB\n"
     ]
    },
    {
     "data": {
      "text/html": [
       "<div>\n",
       "<table border=\"1\" class=\"dataframe\">\n",
       "  <thead>\n",
       "    <tr style=\"text-align: right;\">\n",
       "      <th></th>\n",
       "      <th>District</th>\n",
       "      <th>SAT_avg_reading</th>\n",
       "      <th>SAT_avg_writing</th>\n",
       "      <th>SAT_avg_math</th>\n",
       "      <th>Total_Score</th>\n",
       "      <th>YTD % Attendance (Avg)</th>\n",
       "      <th>YTD Enrollment (Avg)</th>\n",
       "      <th>class_attend</th>\n",
       "    </tr>\n",
       "  </thead>\n",
       "  <tbody>\n",
       "    <tr>\n",
       "      <th>0</th>\n",
       "      <td>1</td>\n",
       "      <td>423.777778</td>\n",
       "      <td>413.555556</td>\n",
       "      <td>468.444444</td>\n",
       "      <td>1305.777778</td>\n",
       "      <td>91.18%</td>\n",
       "      <td>12367</td>\n",
       "      <td>91.18</td>\n",
       "    </tr>\n",
       "    <tr>\n",
       "      <th>1</th>\n",
       "      <td>2</td>\n",
       "      <td>424.068966</td>\n",
       "      <td>419.448276</td>\n",
       "      <td>441.344828</td>\n",
       "      <td>1284.862069</td>\n",
       "      <td>89.01%</td>\n",
       "      <td>60823</td>\n",
       "      <td>89.01</td>\n",
       "    </tr>\n",
       "    <tr>\n",
       "      <th>2</th>\n",
       "      <td>3</td>\n",
       "      <td>424.846154</td>\n",
       "      <td>417.076923</td>\n",
       "      <td>426.000000</td>\n",
       "      <td>1267.923077</td>\n",
       "      <td>89.28%</td>\n",
       "      <td>21962</td>\n",
       "      <td>89.28</td>\n",
       "    </tr>\n",
       "  </tbody>\n",
       "</table>\n",
       "</div>"
      ],
      "text/plain": [
       "   District  SAT_avg_reading  SAT_avg_writing  SAT_avg_math  Total_Score  \\\n",
       "0         1       423.777778       413.555556    468.444444  1305.777778   \n",
       "1         2       424.068966       419.448276    441.344828  1284.862069   \n",
       "2         3       424.846154       417.076923    426.000000  1267.923077   \n",
       "\n",
       "  YTD % Attendance (Avg)  YTD Enrollment (Avg)  class_attend  \n",
       "0                 91.18%                 12367         91.18  \n",
       "1                 89.01%                 60823         89.01  \n",
       "2                 89.28%                 21962         89.28  "
      ]
     },
     "execution_count": 24,
     "metadata": {},
     "output_type": "execute_result"
    }
   ],
   "source": [
    "SAT_vs_attend = pd.merge(SAT_Score, attendance, how='inner', on='District')\n",
    "SAT_vs_attend.columns\n",
    "SAT_vs_attend.info()\n",
    "SAT_vs_attend.head(3)"
   ]
  },
  {
   "cell_type": "code",
   "execution_count": 25,
   "metadata": {
    "collapsed": false
   },
   "outputs": [],
   "source": [
    "# #Setting X and Y variables\n",
    "# cls_atnd = SAT_vs_attend['class_attend']\n",
    "# tot_score = SAT_vs_attend['Total_Score']\n",
    "\n",
    "# # Fitting linear regression model \n",
    "# model_SAT_vs_attend = smf.ols(formula='(tot_score) ~ (cls_atnd) ' , data= SAT_vs_attend).fit()\n",
    "# print \"R-squared value for Attendence vs Total Score:\", model_SAT_vs_attend.rsquared\n",
    "# print model_SAT_vs_attend.params\n",
    "\n",
    "# # Using limit values for linspace function\n",
    "# lower1 = np.min(cls_atnd)\n",
    "# upper1 = np.max(cls_atnd)\n",
    "# print lower1 , upper1\n",
    "\n",
    "# # Generating predicted values using the above model1 parameters\n",
    "# x_dummy = pd.DataFrame({'cls_atnd': np.linspace(lower1, upper1, 100)})\n",
    "# predicted_model = model_SAT_vs_attend.predict(x_dummy)\n",
    "\n",
    "# # Fitting a second degree curve linear regression model\n",
    "# model2_SAT_vs_attend = smf.ols(formula='(tot_score) ~ (cls_atnd) + I(cls_atnd**2)', data= SAT_vs_attend).fit()\n",
    "# print \"R-squared value for Attendence vs Total Score:\", model2_SAT_vs_attend.rsquared\n",
    "# print model2_SAT_vs_attend.params\n",
    "\n",
    "# # Generating predicted values using the above model2 parameters\n",
    "# x2_dummy = pd.DataFrame({'cls_atnd': np.linspace(lower1, upper1, 100)})\n",
    "# predicted2_model = model2_SAT_vs_attend.predict(x_dummy)\n"
   ]
  },
  {
   "cell_type": "code",
   "execution_count": 28,
   "metadata": {
    "collapsed": false
   },
   "outputs": [
    {
     "name": "stdout",
     "output_type": "stream",
     "text": [
      "<class 'pandas.core.frame.DataFrame'>\n",
      "Int64Index: 27611 entries, 0 to 27610\n",
      "Data columns (total 16 columns):\n",
      "CSD                                     27611 non-null int64\n",
      "BOROUGH                                 27611 non-null object\n",
      "SCHOOL CODE                             27611 non-null object\n",
      "SCHOOL NAME                             27611 non-null object\n",
      "GRADE                                   26127 non-null object\n",
      "PROGRAM TYPE                            26127 non-null object\n",
      "CORE SUBJECT (MS CORE and 9-12 ONLY)    26127 non-null object\n",
      "CORE COURSE (MS CORE and 9-12 ONLY)     26127 non-null object\n",
      "SERVICE CATEGORY(K-9* ONLY)             26127 non-null object\n",
      "NUMBER OF STUDENTS / SEATS FILLED       26127 non-null float64\n",
      "NUMBER OF SECTIONS                      26127 non-null float64\n",
      "AVERAGE CLASS SIZE                      26127 non-null float64\n",
      "SIZE OF SMALLEST CLASS                  26127 non-null float64\n",
      "SIZE OF LARGEST CLASS                   26127 non-null float64\n",
      "DATA SOURCE                             26127 non-null object\n",
      "SCHOOLWIDE PUPIL-TEACHER RATIO          1484 non-null float64\n",
      "dtypes: float64(6), int64(1), object(9)\n",
      "memory usage: 3.6+ MB\n"
     ]
    }
   ],
   "source": [
    "class_size = pd.read_csv('https://data.cityofnewyork.us/api/views/urz7-pzb3/rows.csv?accessType=DOWNLOAD')\n",
    "class_size.info()"
   ]
  },
  {
   "cell_type": "code",
   "execution_count": 27,
   "metadata": {
    "collapsed": false
   },
   "outputs": [
    {
     "ename": "NameError",
     "evalue": "name 'classsize' is not defined",
     "output_type": "error",
     "traceback": [
      "\u001b[1;31m---------------------------------------------------------------------------\u001b[0m",
      "\u001b[1;31mNameError\u001b[0m                                 Traceback (most recent call last)",
      "\u001b[1;32m<ipython-input-27-15855f290e21>\u001b[0m in \u001b[0;36m<module>\u001b[1;34m()\u001b[0m\n\u001b[1;32m----> 1\u001b[1;33m classsize_subject = classsize[(classsize.index.get_level_values('GRADE ') == 'MS Core') & \n\u001b[0m\u001b[0;32m      2\u001b[0m               ((classsize.index.get_level_values('CORE SUBJECT (MS CORE and 9-12 ONLY)') == 'ENGLISH') |\n\u001b[0;32m      3\u001b[0m                 (classsize.index.get_level_values('CORE SUBJECT (MS CORE and 9-12 ONLY)') == 'MATH'))]\n\u001b[0;32m      4\u001b[0m \u001b[0mclasssize_subject\u001b[0m\u001b[1;33m.\u001b[0m\u001b[0mhead\u001b[0m\u001b[1;33m(\u001b[0m\u001b[1;33m)\u001b[0m\u001b[1;33m\u001b[0m\u001b[0m\n",
      "\u001b[1;31mNameError\u001b[0m: name 'classsize' is not defined"
     ]
    }
   ],
   "source": [
    "classsize_subject = classsize[(classsize.index.get_level_values('GRADE ') == 'MS Core') & \n",
    "              ((classsize.index.get_level_values('CORE SUBJECT (MS CORE and 9-12 ONLY)') == 'ENGLISH') |\n",
    "                (classsize.index.get_level_values('CORE SUBJECT (MS CORE and 9-12 ONLY)') == 'MATH'))]\n",
    "classsize_subject.head()"
   ]
  },
  {
   "cell_type": "code",
   "execution_count": null,
   "metadata": {
    "collapsed": false,
    "scrolled": false
   },
   "outputs": [],
   "source": [
    "# pl.figure(figsize=(8, 8))\n",
    "# pl.title('SAT vs Attendance')\n",
    "# pl.xlabel('Average School Attendance')\n",
    "# pl.ylabel('Total SAT Score')\n",
    "# pl.scatter(cls_atnd,tot_score)\n",
    "# pl.plot(x_dummy, predicted_model, 'b', label=\"Fitted Regression Line\", linestyle='-')\n",
    "# pl.plot(x2_dummy,predicted2_model, 'r', linestyle='--', label = \"Analytical Regression\")\n",
    "# pl.legend(loc=\"upper left\")\n",
    "# pl.xlim(int(lower1) , int(upper1+1))\n",
    "# pl.ylim(1050,1400)\n",
    "\n",
    "\n"
   ]
  },
  {
   "cell_type": "code",
   "execution_count": null,
   "metadata": {
    "collapsed": true
   },
   "outputs": [],
   "source": []
  },
  {
   "cell_type": "code",
   "execution_count": null,
   "metadata": {
    "collapsed": true
   },
   "outputs": [],
   "source": []
  }
 ],
 "metadata": {
  "kernelspec": {
   "display_name": "Python 2",
   "language": "python",
   "name": "python2"
  },
  "language_info": {
   "codemirror_mode": {
    "name": "ipython",
    "version": 2
   },
   "file_extension": ".py",
   "mimetype": "text/x-python",
   "name": "python",
   "nbconvert_exporter": "python",
   "pygments_lexer": "ipython2",
   "version": "2.7.10"
  }
 },
 "nbformat": 4,
 "nbformat_minor": 0
}
