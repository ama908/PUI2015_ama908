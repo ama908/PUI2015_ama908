{
 "cells": [
  {
   "cell_type": "code",
   "execution_count": 1,
   "metadata": {
    "collapsed": false,
    "scrolled": false
   },
   "outputs": [
    {
     "name": "stdout",
     "output_type": "stream",
     "text": [
      "Populating the interactive namespace from numpy and matplotlib\n"
     ]
    }
   ],
   "source": [
    "#Importing Packages\n",
    "import csv\n",
    "import urllib2\n",
    "import os\n",
    "import pylab as pl\n",
    "import pandas as pd\n",
    "from pandas.tools.plotting import scatter_matrix\n",
    "import statsmodels.api as sm\n",
    "import statsmodels.formula.api as smf\n",
    "\n",
    "%pylab inline \n",
    "\n",
    "# IMPORTING THE FILE FOR SAT SCORES FOR 2012\n",
    "SAT_Score = pd.read_csv(\"https://data.cityofnewyork.us/api/views/f9bf-2cp4/rows.csv?accessType=DOWNLOAD\")\n"
   ]
  },
  {
   "cell_type": "code",
   "execution_count": 2,
   "metadata": {
    "collapsed": false
   },
   "outputs": [],
   "source": [
    "SAT_Score.replace('s','NaN', inplace=True, regex=True)\n",
    "SAT_Score = SAT_Score.dropna()"
   ]
  },
  {
   "cell_type": "code",
   "execution_count": 3,
   "metadata": {
    "collapsed": false
   },
   "outputs": [
    {
     "name": "stdout",
     "output_type": "stream",
     "text": [
      "<class 'pandas.core.frame.DataFrame'>\n",
      "Int64Index: 478 entries, 0 to 477\n",
      "Data columns (total 8 columns):\n",
      "DBN                                478 non-null object\n",
      "SCHOOL NAME                        478 non-null object\n",
      "Num of SAT Test Takers             478 non-null object\n",
      "SAT Critical Reading Avg. Score    478 non-null object\n",
      "SAT Math Avg. Score                478 non-null object\n",
      "SAT Writing Avg. Score             478 non-null object\n",
      "District                           478 non-null float64\n",
      "SAT_avg_math                       421 non-null float64\n",
      "dtypes: float64(2), object(6)\n",
      "memory usage: 33.6+ KB\n"
     ]
    }
   ],
   "source": [
    "SAT_Score['District'] = SAT_Score['DBN'].map(lambda x: str(x)[:2])\n",
    "SAT_Score['District'] = (SAT_Score['District']).astype(float)\n",
    "# SAT_Score['SAT_avg_reading'] = (SAT_Score['SAT Critical Reading Avg. Score']).astype(float)\n",
    "# SAT_Score['SAT_avg_writing'] = (SAT_Score['SAT Writing Avg. Score']).astype(float)\n",
    "SAT_Score['SAT_avg_math'] = (SAT_Score['SAT Math Avg. Score']).astype(float)\n",
    "\n",
    "SAT_Score.info()"
   ]
  },
  {
   "cell_type": "code",
   "execution_count": 4,
   "metadata": {
    "collapsed": false
   },
   "outputs": [],
   "source": [
    "SAT_Score = SAT_Score.groupby('District').mean()"
   ]
  },
  {
   "cell_type": "code",
   "execution_count": 5,
   "metadata": {
    "collapsed": false
   },
   "outputs": [],
   "source": [
    "SAT_Score = SAT_Score.reset_index()\n",
    "SAT_Score = SAT_Score [0:32]"
   ]
  },
  {
   "cell_type": "code",
   "execution_count": 6,
   "metadata": {
    "collapsed": false
   },
   "outputs": [
    {
     "data": {
      "text/html": [
       "<div>\n",
       "<table border=\"1\" class=\"dataframe\">\n",
       "  <thead>\n",
       "    <tr style=\"text-align: right;\">\n",
       "      <th></th>\n",
       "      <th>District</th>\n",
       "      <th>SAT_avg_math</th>\n",
       "    </tr>\n",
       "  </thead>\n",
       "  <tbody>\n",
       "    <tr>\n",
       "      <th>0</th>\n",
       "      <td>1</td>\n",
       "      <td>468.444444</td>\n",
       "    </tr>\n",
       "    <tr>\n",
       "      <th>1</th>\n",
       "      <td>2</td>\n",
       "      <td>441.344828</td>\n",
       "    </tr>\n",
       "    <tr>\n",
       "      <th>2</th>\n",
       "      <td>3</td>\n",
       "      <td>426.000000</td>\n",
       "    </tr>\n",
       "  </tbody>\n",
       "</table>\n",
       "</div>"
      ],
      "text/plain": [
       "   District  SAT_avg_math\n",
       "0         1    468.444444\n",
       "1         2    441.344828\n",
       "2         3    426.000000"
      ]
     },
     "execution_count": 6,
     "metadata": {},
     "output_type": "execute_result"
    }
   ],
   "source": [
    "SAT_Score.head(3)"
   ]
  },
  {
   "cell_type": "code",
   "execution_count": 8,
   "metadata": {
    "collapsed": false
   },
   "outputs": [],
   "source": [
    "# SAT_Score['Total_Score'] = pd.DataFrame(SAT_Score['SAT_avg_reading'] + SAT_Score['SAT_avg_writing'] +\n",
    "#                                         SAT_Score['SAT_avg_math'])"
   ]
  },
  {
   "cell_type": "code",
   "execution_count": 9,
   "metadata": {
    "collapsed": false
   },
   "outputs": [
    {
     "data": {
      "text/html": [
       "<div>\n",
       "<table border=\"1\" class=\"dataframe\">\n",
       "  <thead>\n",
       "    <tr style=\"text-align: right;\">\n",
       "      <th></th>\n",
       "      <th>District</th>\n",
       "      <th>SAT_avg_math</th>\n",
       "    </tr>\n",
       "  </thead>\n",
       "  <tbody>\n",
       "    <tr>\n",
       "      <th>0</th>\n",
       "      <td>1</td>\n",
       "      <td>468.444444</td>\n",
       "    </tr>\n",
       "    <tr>\n",
       "      <th>1</th>\n",
       "      <td>2</td>\n",
       "      <td>441.344828</td>\n",
       "    </tr>\n",
       "    <tr>\n",
       "      <th>2</th>\n",
       "      <td>3</td>\n",
       "      <td>426.000000</td>\n",
       "    </tr>\n",
       "  </tbody>\n",
       "</table>\n",
       "</div>"
      ],
      "text/plain": [
       "   District  SAT_avg_math\n",
       "0         1    468.444444\n",
       "1         2    441.344828\n",
       "2         3    426.000000"
      ]
     },
     "execution_count": 9,
     "metadata": {},
     "output_type": "execute_result"
    }
   ],
   "source": [
    "SAT_Score.head(3)"
   ]
  },
  {
   "cell_type": "code",
   "execution_count": 24,
   "metadata": {
    "collapsed": false
   },
   "outputs": [
    {
     "name": "stdout",
     "output_type": "stream",
     "text": [
      "<class 'pandas.core.frame.DataFrame'>\n",
      "Int64Index: 1344 entries, 0 to 1343\n",
      "Data columns (total 16 columns):\n",
      "District            1344 non-null int64\n",
      "Grade               1344 non-null object\n",
      "Year                1344 non-null int64\n",
      "Category            1344 non-null object\n",
      "Number Tested       1344 non-null int64\n",
      "Mean Scale Score    1344 non-null int64\n",
      "Level 1 #           1344 non-null int64\n",
      "Level 1 %           1344 non-null object\n",
      "Level 2 #           1344 non-null int64\n",
      "Level 2 %           1344 non-null object\n",
      "Level 3 #           1344 non-null int64\n",
      "Level 3 %           1344 non-null object\n",
      "Level 4 #           1344 non-null int64\n",
      "Level 4 %           1344 non-null object\n",
      "Level 3+4 #         1344 non-null int64\n",
      "Level 3+4 %         1344 non-null object\n",
      "dtypes: int64(9), object(7)\n",
      "memory usage: 178.5+ KB\n"
     ]
    },
    {
     "data": {
      "text/html": [
       "<div>\n",
       "<table border=\"1\" class=\"dataframe\">\n",
       "  <thead>\n",
       "    <tr style=\"text-align: right;\">\n",
       "      <th></th>\n",
       "      <th>District</th>\n",
       "      <th>Grade</th>\n",
       "      <th>Year</th>\n",
       "      <th>Category</th>\n",
       "      <th>Number Tested</th>\n",
       "      <th>Mean Scale Score</th>\n",
       "      <th>Level 1 #</th>\n",
       "      <th>Level 1 %</th>\n",
       "      <th>Level 2 #</th>\n",
       "      <th>Level 2 %</th>\n",
       "      <th>Level 3 #</th>\n",
       "      <th>Level 3 %</th>\n",
       "      <th>Level 4 #</th>\n",
       "      <th>Level 4 %</th>\n",
       "      <th>Level 3+4 #</th>\n",
       "      <th>Level 3+4 %</th>\n",
       "    </tr>\n",
       "  </thead>\n",
       "  <tbody>\n",
       "    <tr>\n",
       "      <th>0</th>\n",
       "      <td>1</td>\n",
       "      <td>3</td>\n",
       "      <td>2006</td>\n",
       "      <td>All Students</td>\n",
       "      <td>936</td>\n",
       "      <td>673</td>\n",
       "      <td>73</td>\n",
       "      <td>7.8%</td>\n",
       "      <td>170</td>\n",
       "      <td>18.2%</td>\n",
       "      <td>484</td>\n",
       "      <td>51.7%</td>\n",
       "      <td>209</td>\n",
       "      <td>22.3%</td>\n",
       "      <td>693</td>\n",
       "      <td>74%</td>\n",
       "    </tr>\n",
       "    <tr>\n",
       "      <th>1</th>\n",
       "      <td>1</td>\n",
       "      <td>3</td>\n",
       "      <td>2007</td>\n",
       "      <td>All Students</td>\n",
       "      <td>836</td>\n",
       "      <td>679</td>\n",
       "      <td>48</td>\n",
       "      <td>5.7%</td>\n",
       "      <td>86</td>\n",
       "      <td>10.3%</td>\n",
       "      <td>511</td>\n",
       "      <td>61.1%</td>\n",
       "      <td>191</td>\n",
       "      <td>22.8%</td>\n",
       "      <td>702</td>\n",
       "      <td>84%</td>\n",
       "    </tr>\n",
       "    <tr>\n",
       "      <th>2</th>\n",
       "      <td>1</td>\n",
       "      <td>3</td>\n",
       "      <td>2008</td>\n",
       "      <td>All Students</td>\n",
       "      <td>862</td>\n",
       "      <td>686</td>\n",
       "      <td>17</td>\n",
       "      <td>2%</td>\n",
       "      <td>94</td>\n",
       "      <td>10.9%</td>\n",
       "      <td>537</td>\n",
       "      <td>62.3%</td>\n",
       "      <td>214</td>\n",
       "      <td>24.8%</td>\n",
       "      <td>751</td>\n",
       "      <td>87.1%</td>\n",
       "    </tr>\n",
       "  </tbody>\n",
       "</table>\n",
       "</div>"
      ],
      "text/plain": [
       "   District Grade  Year      Category  Number Tested  Mean Scale Score  \\\n",
       "0         1     3  2006  All Students            936               673   \n",
       "1         1     3  2007  All Students            836               679   \n",
       "2         1     3  2008  All Students            862               686   \n",
       "\n",
       "   Level 1 # Level 1 %  Level 2 # Level 2 %  Level 3 # Level 3 %  Level 4 #  \\\n",
       "0         73      7.8%        170     18.2%        484     51.7%        209   \n",
       "1         48      5.7%         86     10.3%        511     61.1%        191   \n",
       "2         17        2%         94     10.9%        537     62.3%        214   \n",
       "\n",
       "  Level 4 %  Level 3+4 # Level 3+4 %  \n",
       "0     22.3%          693         74%  \n",
       "1     22.8%          702         84%  \n",
       "2     24.8%          751       87.1%  "
      ]
     },
     "execution_count": 24,
     "metadata": {},
     "output_type": "execute_result"
    }
   ],
   "source": [
    "math_score = pd.read_csv('https://data.cityofnewyork.us/api/views/gyaz-82xj/rows.csv?accessType=DOWNLOAD')\n",
    "math_score.info()\n",
    "math_score.head(3)"
   ]
  },
  {
   "cell_type": "code",
   "execution_count": 40,
   "metadata": {
    "collapsed": false
   },
   "outputs": [
    {
     "data": {
      "text/html": [
       "<div>\n",
       "<table border=\"1\" class=\"dataframe\">\n",
       "  <thead>\n",
       "    <tr style=\"text-align: right;\">\n",
       "      <th></th>\n",
       "      <th>District</th>\n",
       "      <th>Grade</th>\n",
       "      <th>Year</th>\n",
       "      <th>Number Tested</th>\n",
       "      <th>Mean Scale Score</th>\n",
       "      <th>Level 1 #</th>\n",
       "      <th>Level 2 #</th>\n",
       "      <th>Level 3 #</th>\n",
       "      <th>Level 4 #</th>\n",
       "      <th>Level 3+4 #</th>\n",
       "    </tr>\n",
       "  </thead>\n",
       "  <tbody>\n",
       "    <tr>\n",
       "      <th>18</th>\n",
       "      <td>1</td>\n",
       "      <td>6</td>\n",
       "      <td>2006</td>\n",
       "      <td>912</td>\n",
       "      <td>659</td>\n",
       "      <td>116</td>\n",
       "      <td>248</td>\n",
       "      <td>392</td>\n",
       "      <td>156</td>\n",
       "      <td>548</td>\n",
       "    </tr>\n",
       "    <tr>\n",
       "      <th>60</th>\n",
       "      <td>2</td>\n",
       "      <td>6</td>\n",
       "      <td>2006</td>\n",
       "      <td>2218</td>\n",
       "      <td>671</td>\n",
       "      <td>177</td>\n",
       "      <td>382</td>\n",
       "      <td>1118</td>\n",
       "      <td>541</td>\n",
       "      <td>1659</td>\n",
       "    </tr>\n",
       "    <tr>\n",
       "      <th>102</th>\n",
       "      <td>3</td>\n",
       "      <td>6</td>\n",
       "      <td>2006</td>\n",
       "      <td>1501</td>\n",
       "      <td>657</td>\n",
       "      <td>245</td>\n",
       "      <td>407</td>\n",
       "      <td>582</td>\n",
       "      <td>267</td>\n",
       "      <td>849</td>\n",
       "    </tr>\n",
       "  </tbody>\n",
       "</table>\n",
       "</div>"
      ],
      "text/plain": [
       "     District Grade  Year  Number Tested  Mean Scale Score  Level 1 #  \\\n",
       "18          1     6  2006            912               659        116   \n",
       "60          2     6  2006           2218               671        177   \n",
       "102         3     6  2006           1501               657        245   \n",
       "\n",
       "     Level 2 #  Level 3 #  Level 4 #  Level 3+4 #  \n",
       "18         248        392        156          548  \n",
       "60         382       1118        541         1659  \n",
       "102        407        582        267          849  "
      ]
     },
     "execution_count": 40,
     "metadata": {},
     "output_type": "execute_result"
    }
   ],
   "source": [
    "mth_score = math_score.groupby(['District' , 'Grade' , 'Year']).mean()\n",
    "mth_score_reset = mth_score.reset_index()\n",
    "# math_score_by_district = mth_score_reset.groupby(['District']).mean()\n",
    "# math_score_by_district_reset = math_score_by_district.reset_index()\n",
    "mth_score_2006 = mth_score_reset[(mth_score_reset.Grade == '6') & (mth_score_reset.Year== 2006)]\n",
    "# eng_scr = eng_scr.reset_index()\n",
    "mth_score_2006.head(3)"
   ]
  },
  {
   "cell_type": "code",
   "execution_count": 54,
   "metadata": {
    "collapsed": false
   },
   "outputs": [
    {
     "name": "stderr",
     "output_type": "stream",
     "text": [
      "C:\\Users\\Anita_2\\Anaconda\\lib\\site-packages\\IPython\\kernel\\__main__.py:1: SettingWithCopyWarning: \n",
      "A value is trying to be set on a copy of a slice from a DataFrame.\n",
      "Try using .loc[row_indexer,col_indexer] = value instead\n",
      "\n",
      "See the the caveats in the documentation: http://pandas.pydata.org/pandas-docs/stable/indexing.html#indexing-view-versus-copy\n",
      "  if __name__ == '__main__':\n"
     ]
    },
    {
     "data": {
      "text/html": [
       "<div>\n",
       "<table border=\"1\" class=\"dataframe\">\n",
       "  <thead>\n",
       "    <tr style=\"text-align: right;\">\n",
       "      <th></th>\n",
       "      <th>District</th>\n",
       "      <th>Grade</th>\n",
       "      <th>Year</th>\n",
       "      <th>Number Tested</th>\n",
       "      <th>Mean Scale Score</th>\n",
       "      <th>Level 1 #</th>\n",
       "      <th>Level 2 #</th>\n",
       "      <th>Level 3 #</th>\n",
       "      <th>Level 4 #</th>\n",
       "      <th>Level 3+4 #</th>\n",
       "    </tr>\n",
       "  </thead>\n",
       "  <tbody>\n",
       "    <tr>\n",
       "      <th>18</th>\n",
       "      <td>1</td>\n",
       "      <td>6</td>\n",
       "      <td>2006</td>\n",
       "      <td>912</td>\n",
       "      <td>659</td>\n",
       "      <td>116</td>\n",
       "      <td>248</td>\n",
       "      <td>392</td>\n",
       "      <td>156</td>\n",
       "      <td>548</td>\n",
       "    </tr>\n",
       "    <tr>\n",
       "      <th>60</th>\n",
       "      <td>2</td>\n",
       "      <td>6</td>\n",
       "      <td>2006</td>\n",
       "      <td>2218</td>\n",
       "      <td>671</td>\n",
       "      <td>177</td>\n",
       "      <td>382</td>\n",
       "      <td>1118</td>\n",
       "      <td>541</td>\n",
       "      <td>1659</td>\n",
       "    </tr>\n",
       "    <tr>\n",
       "      <th>102</th>\n",
       "      <td>3</td>\n",
       "      <td>6</td>\n",
       "      <td>2006</td>\n",
       "      <td>1501</td>\n",
       "      <td>657</td>\n",
       "      <td>245</td>\n",
       "      <td>407</td>\n",
       "      <td>582</td>\n",
       "      <td>267</td>\n",
       "      <td>849</td>\n",
       "    </tr>\n",
       "  </tbody>\n",
       "</table>\n",
       "</div>"
      ],
      "text/plain": [
       "     District Grade  Year  Number Tested  Mean Scale Score  Level 1 #  \\\n",
       "18          1     6  2006            912               659        116   \n",
       "60          2     6  2006           2218               671        177   \n",
       "102         3     6  2006           1501               657        245   \n",
       "\n",
       "     Level 2 #  Level 3 #  Level 4 #  Level 3+4 #  \n",
       "18         248        392        156          548  \n",
       "60         382       1118        541         1659  \n",
       "102        407        582        267          849  "
      ]
     },
     "execution_count": 54,
     "metadata": {},
     "output_type": "execute_result"
    }
   ],
   "source": [
    "mth_score_2006['District'] = mth_score_2006['District'].astype(float)\n",
    "mth_score_2006.head(3)"
   ]
  },
  {
   "cell_type": "code",
   "execution_count": 55,
   "metadata": {
    "collapsed": false
   },
   "outputs": [
    {
     "name": "stdout",
     "output_type": "stream",
     "text": [
      "<class 'pandas.core.frame.DataFrame'>\n",
      "Int64Index: 32 entries, 0 to 31\n",
      "Data columns (total 11 columns):\n",
      "District            32 non-null float64\n",
      "SAT_avg_math        32 non-null float64\n",
      "Grade               32 non-null object\n",
      "Year                32 non-null int64\n",
      "Number Tested       32 non-null int64\n",
      "Mean Scale Score    32 non-null int64\n",
      "Level 1 #           32 non-null int64\n",
      "Level 2 #           32 non-null int64\n",
      "Level 3 #           32 non-null int64\n",
      "Level 4 #           32 non-null int64\n",
      "Level 3+4 #         32 non-null int64\n",
      "dtypes: float64(2), int64(8), object(1)\n",
      "memory usage: 3.0+ KB\n"
     ]
    },
    {
     "data": {
      "text/html": [
       "<div>\n",
       "<table border=\"1\" class=\"dataframe\">\n",
       "  <thead>\n",
       "    <tr style=\"text-align: right;\">\n",
       "      <th></th>\n",
       "      <th>District</th>\n",
       "      <th>SAT_avg_math</th>\n",
       "      <th>Grade</th>\n",
       "      <th>Year</th>\n",
       "      <th>Number Tested</th>\n",
       "      <th>Mean Scale Score</th>\n",
       "      <th>Level 1 #</th>\n",
       "      <th>Level 2 #</th>\n",
       "      <th>Level 3 #</th>\n",
       "      <th>Level 4 #</th>\n",
       "      <th>Level 3+4 #</th>\n",
       "    </tr>\n",
       "  </thead>\n",
       "  <tbody>\n",
       "    <tr>\n",
       "      <th>0</th>\n",
       "      <td>1</td>\n",
       "      <td>468.444444</td>\n",
       "      <td>6</td>\n",
       "      <td>2006</td>\n",
       "      <td>912</td>\n",
       "      <td>659</td>\n",
       "      <td>116</td>\n",
       "      <td>248</td>\n",
       "      <td>392</td>\n",
       "      <td>156</td>\n",
       "      <td>548</td>\n",
       "    </tr>\n",
       "    <tr>\n",
       "      <th>1</th>\n",
       "      <td>2</td>\n",
       "      <td>441.344828</td>\n",
       "      <td>6</td>\n",
       "      <td>2006</td>\n",
       "      <td>2218</td>\n",
       "      <td>671</td>\n",
       "      <td>177</td>\n",
       "      <td>382</td>\n",
       "      <td>1118</td>\n",
       "      <td>541</td>\n",
       "      <td>1659</td>\n",
       "    </tr>\n",
       "    <tr>\n",
       "      <th>2</th>\n",
       "      <td>3</td>\n",
       "      <td>426.000000</td>\n",
       "      <td>6</td>\n",
       "      <td>2006</td>\n",
       "      <td>1501</td>\n",
       "      <td>657</td>\n",
       "      <td>245</td>\n",
       "      <td>407</td>\n",
       "      <td>582</td>\n",
       "      <td>267</td>\n",
       "      <td>849</td>\n",
       "    </tr>\n",
       "  </tbody>\n",
       "</table>\n",
       "</div>"
      ],
      "text/plain": [
       "   District  SAT_avg_math Grade  Year  Number Tested  Mean Scale Score  \\\n",
       "0         1    468.444444     6  2006            912               659   \n",
       "1         2    441.344828     6  2006           2218               671   \n",
       "2         3    426.000000     6  2006           1501               657   \n",
       "\n",
       "   Level 1 #  Level 2 #  Level 3 #  Level 4 #  Level 3+4 #  \n",
       "0        116        248        392        156          548  \n",
       "1        177        382       1118        541         1659  \n",
       "2        245        407        582        267          849  "
      ]
     },
     "execution_count": 55,
     "metadata": {},
     "output_type": "execute_result"
    }
   ],
   "source": [
    "SAT_math_vs_2006 = pd.merge(SAT_Score, mth_score_2006, how='inner', on='District')\n",
    "SAT_math_vs_2006.columns\n",
    "SAT_math_vs_2006.info()\n",
    "SAT_math_vs_2006.head(3)"
   ]
  },
  {
   "cell_type": "code",
   "execution_count": 79,
   "metadata": {
    "collapsed": false
   },
   "outputs": [
    {
     "name": "stdout",
     "output_type": "stream",
     "text": [
      "R-squared value for Grade 6 Score vs SAT Score: 0.639449209302\n",
      "Intercept    -966.871093\n",
      "Score_2006      2.127778\n",
      "dtype: float64\n",
      "                            OLS Regression Results                            \n",
      "==============================================================================\n",
      "Dep. Variable:             Score_2012   R-squared:                       0.639\n",
      "Model:                            OLS   Adj. R-squared:                  0.627\n",
      "Method:                 Least Squares   F-statistic:                     53.21\n",
      "Date:                Sat, 12 Dec 2015   Prob (F-statistic):           4.02e-08\n",
      "Time:                        04:37:43   Log-Likelihood:                -144.78\n",
      "No. Observations:                  32   AIC:                             293.6\n",
      "Df Residuals:                      30   BIC:                             296.5\n",
      "Df Model:                           1                                         \n",
      "Covariance Type:            nonrobust                                         \n",
      "==============================================================================\n",
      "                 coef    std err          t      P>|t|      [95.0% Conf. Int.]\n",
      "------------------------------------------------------------------------------\n",
      "Intercept   -966.8711    189.534     -5.101      0.000     -1353.952  -579.790\n",
      "Score_2006     2.1278      0.292      7.294      0.000         1.532     2.724\n",
      "==============================================================================\n",
      "Omnibus:                        2.627   Durbin-Watson:                   2.803\n",
      "Prob(Omnibus):                  0.269   Jarque-Bera (JB):                1.621\n",
      "Skew:                           0.296   Prob(JB):                        0.445\n",
      "Kurtosis:                       2.070   Cond. No.                     3.02e+04\n",
      "==============================================================================\n",
      "\n",
      "Warnings:\n",
      "[1] Standard Errors assume that the covariance matrix of the errors is correctly specified.\n",
      "[2] The condition number is large, 3.02e+04. This might indicate that there are\n",
      "strong multicollinearity or other numerical problems.\n",
      "626 684\n"
     ]
    }
   ],
   "source": [
    "#Setting X and Y variables\n",
    "Score_2006 = SAT_math_vs_2006['Mean Scale Score']\n",
    "Score_2012 = SAT_math_vs_2006['SAT_avg_math']\n",
    "\n",
    "# Fitting linear regression model \n",
    "model_SAT_math_2006 = smf.ols(formula='(Score_2012) ~ (Score_2006) ' , data= SAT_math_vs_2006).fit()\n",
    "print \"R-squared value for Grade 6 Score vs SAT Score:\", model_SAT_math_2006.rsquared\n",
    "print model_SAT_math_2006.params\n",
    "print model_SAT_math_2006.summary()\n",
    "\n",
    "# Using limit values for linspace function\n",
    "lower1 = np.min(Score_2006)\n",
    "upper1 = np.max(Score_2006)\n",
    "print lower1 , upper1\n",
    "\n",
    "# Generating predicted values using the above model1 parameters\n",
    "x_dummy = pd.DataFrame({'Score_2006': np.linspace(lower1, upper1, 50)})\n",
    "predicted_model = model_SAT_math_2006.predict(x_dummy)\n",
    "\n",
    "# # Fitting a second degree curve linear regression model\n",
    "# model2_SAT_math_2006 = smf.ols(formula='(Score_2012) ~ (Score_2006) + I(Score_2006**2)', data= SAT_math_vs_2006).fit()\n",
    "# print \"R-squared value for Class Size vs Total Score:\", model2_SAT_math_2006.rsquared\n",
    "# print model2_SAT_math_2006.params\n",
    "# print model2_SAT_math_2006.summary()\n",
    "\n",
    "# # Generating predicted values using the above model2 parameters\n",
    "# x2_dummy = pd.DataFrame({'Score_2006': np.linspace(lower1, upper1, 10)})\n",
    "# predicted2_model = model2_SAT_math_2006.predict(x2_dummy)"
   ]
  },
  {
   "cell_type": "code",
   "execution_count": 80,
   "metadata": {
    "collapsed": false,
    "scrolled": false
   },
   "outputs": [
    {
     "data": {
      "text/plain": [
       "(626, 685)"
      ]
     },
     "execution_count": 80,
     "metadata": {},
     "output_type": "execute_result"
    },
    {
     "data": {
      "image/png": "[encoded data removed]",
      "text/plain": [
       "<matplotlib.figure.Figure at 0x1befe278>"
      ]
     },
     "metadata": {},
     "output_type": "display_data"
    }
   ],
   "source": [
    "pl.figure(figsize=(8, 8))\n",
    "pl.title('SAT vs Attendance')\n",
    "pl.xlabel('Average School Attendance')\n",
    "pl.ylabel('Total SAT Score')\n",
    "pl.scatter(Score_2006,Score_2012)\n",
    "pl.plot(x_dummy, predicted_model, 'b', label=\"Fitted Regression Line\", linestyle='-')\n",
    "# pl.plot(x2_dummy,predicted2_model, 'r', linestyle='--', label = \"Analytical Regression\")\n",
    "pl.legend(loc=\"upper left\")\n",
    "pl.xlim(int(lower1) , int(upper1+1))\n",
    "\n",
    "\n",
    "\n"
   ]
  },
  {
   "cell_type": "code",
   "execution_count": null,
   "metadata": {
    "collapsed": true
   },
   "outputs": [],
   "source": []
  },
  {
   "cell_type": "code",
   "execution_count": null,
   "metadata": {
    "collapsed": true
   },
   "outputs": [],
   "source": []
  },
  {
   "cell_type": "code",
   "execution_count": null,
   "metadata": {
    "collapsed": true
   },
   "outputs": [],
   "source": []
  }
 ],
 "metadata": {
  "kernelspec": {
   "display_name": "Python 2",
   "language": "python",
   "name": "python2"
  },
  "language_info": {
   "codemirror_mode": {
    "name": "ipython",
    "version": 2
   },
   "file_extension": ".py",
   "mimetype": "text/x-python",
   "name": "python",
   "nbconvert_exporter": "python",
   "pygments_lexer": "ipython2",
   "version": "2.7.10"
  }
 },
 "nbformat": 4,
 "nbformat_minor": 0
}
