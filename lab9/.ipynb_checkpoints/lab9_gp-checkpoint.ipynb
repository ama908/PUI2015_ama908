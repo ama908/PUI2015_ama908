{
 "cells": [
  {
   "cell_type": "code",
   "execution_count": 1,
   "metadata": {
    "collapsed": false
   },
   "outputs": [],
   "source": [
    "%matplotlib inline\n",
    "import seaborn as sns\n",
    "import pandas as pd\n",
    "import geopandas as gpd\n",
    "import numpy as np\n",
    "import matplotlib.pyplot as plt\n",
    "import pysal as ps\n",
    "import mplleaflet\n",
    "import shapely.geometry as geom"
   ]
  },
  {
   "cell_type": "markdown",
   "metadata": {},
   "source": [
    "In this lab, we're going to review geometry processing techniques with GeoPandas (and Shapely). The objectives are:\n",
    "<ol type=\"1\">\n",
    "<li>Given a set of bus location pings, we would like to know its total travel distance.</li>\n",
    "<li>Providing two shapes of the M1 and M101 bus line, which shape better match our bus location pings.</li>\n",
    "<li>We also want to determine which neighborhood the bus line in (2) is supposed to pass by.</li>\n",
    "</ol>"
   ]
  },
  {
   "cell_type": "code",
   "execution_count": 2,
   "metadata": {
    "collapsed": false
   },
   "outputs": [
    {
     "data": {
      "text/html": [
       "<div>\n",
       "<table border=\"1\" class=\"dataframe\">\n",
       "  <thead>\n",
       "    <tr style=\"text-align: right;\">\n",
       "      <th></th>\n",
       "      <th>latitude</th>\n",
       "      <th>longitude</th>\n",
       "      <th>time_received</th>\n",
       "    </tr>\n",
       "  </thead>\n",
       "  <tbody>\n",
       "    <tr>\n",
       "      <th>0</th>\n",
       "      <td>40.785771</td>\n",
       "      <td>-73.948824</td>\n",
       "      <td>2014-08-04 10:52:20+00</td>\n",
       "    </tr>\n",
       "    <tr>\n",
       "      <th>1</th>\n",
       "      <td>40.786756</td>\n",
       "      <td>-73.948217</td>\n",
       "      <td>2014-08-04 10:52:51+00</td>\n",
       "    </tr>\n",
       "    <tr>\n",
       "      <th>2</th>\n",
       "      <td>40.787633</td>\n",
       "      <td>-73.947470</td>\n",
       "      <td>2014-08-04 10:53:22+00</td>\n",
       "    </tr>\n",
       "    <tr>\n",
       "      <th>3</th>\n",
       "      <td>40.789476</td>\n",
       "      <td>-73.946423</td>\n",
       "      <td>2014-08-04 10:53:53+00</td>\n",
       "    </tr>\n",
       "    <tr>\n",
       "      <th>4</th>\n",
       "      <td>40.789653</td>\n",
       "      <td>-73.946303</td>\n",
       "      <td>2014-08-04 10:54:24+00</td>\n",
       "    </tr>\n",
       "  </tbody>\n",
       "</table>\n",
       "</div>"
      ],
      "text/plain": [
       "    latitude  longitude           time_received\n",
       "0  40.785771 -73.948824  2014-08-04 10:52:20+00\n",
       "1  40.786756 -73.948217  2014-08-04 10:52:51+00\n",
       "2  40.787633 -73.947470  2014-08-04 10:53:22+00\n",
       "3  40.789476 -73.946423  2014-08-04 10:53:53+00\n",
       "4  40.789653 -73.946303  2014-08-04 10:54:24+00"
      ]
     },
     "execution_count": 2,
     "metadata": {},
     "output_type": "execute_result"
    }
   ],
   "source": [
    "# For objective (1), we first read in the pings\n",
    "\n",
    "pings = pd.read_csv('bus_pings.csv')\n",
    "pings.head()"
   ]
  },
  {
   "cell_type": "code",
   "execution_count": 3,
   "metadata": {
    "collapsed": false
   },
   "outputs": [
    {
     "data": {
      "text/plain": [
       "<matplotlib.axes._subplots.AxesSubplot at 0x18612978>"
      ]
     },
     "execution_count": 3,
     "metadata": {},
     "output_type": "execute_result"
    },
    {
     "data": {
      "image/png": "[encoded data removed]",
      "text/plain": [
       "<matplotlib.figure.Figure at 0x18612630>"
      ]
     },
     "metadata": {},
     "output_type": "display_data"
    }
   ],
   "source": [
    "# We're going to use the longitude and latitude columns to \n",
    "# construct a set of points and visualize them\n",
    "\n",
    "longlat = pings[['longitude', 'latitude']]\n",
    "points = map(geom.Point, longlat.as_matrix().tolist())\n",
    "gpos = gpd.GeoSeries(points)\n",
    "gpos.plot()"
   ]
  },
  {
   "cell_type": "code",
   "execution_count": 4,
   "metadata": {
    "collapsed": false
   },
   "outputs": [
    {
     "data": {
      "text/plain": [
       "<matplotlib.axes._subplots.AxesSubplot at 0x18a195f8>"
      ]
     },
     "execution_count": 4,
     "metadata": {},
     "output_type": "execute_result"
    },
    {
     "data": {
      "image/png": "[encoded data removed]",
      "text/plain": [
       "<matplotlib.figure.Figure at 0x1856fe80>"
      ]
     },
     "metadata": {},
     "output_type": "display_data"
    }
   ],
   "source": [
    "# In order to compute the travel distance, we need to work\n",
    "# with LineString instead of just points.\n",
    "\n",
    "path = geom.LineString(longlat.as_matrix().tolist())\n",
    "gpath = gpd.GeoSeries(path)\n",
    "gpath.plot()"
   ]
  },
  {
   "cell_type": "code",
   "execution_count": 5,
   "metadata": {
    "collapsed": false
   },
   "outputs": [
    {
     "data": {
      "text/plain": [
       "0    0.094961\n",
       "dtype: float64"
      ]
     },
     "execution_count": 5,
     "metadata": {},
     "output_type": "execute_result"
    }
   ],
   "source": [
    "# GeoPandas provides a length property to store the\n",
    "# total length of a line string. We could use that\n",
    "# for the first objective\n",
    "\n",
    "gpath.length"
   ]
  },
  {
   "cell_type": "code",
   "execution_count": 6,
   "metadata": {
    "collapsed": false
   },
   "outputs": [
    {
     "data": {
      "text/plain": [
       "0    31093.149834\n",
       "dtype: float64"
      ]
     },
     "execution_count": 6,
     "metadata": {},
     "output_type": "execute_result"
    }
   ],
   "source": [
    "# However, this doesn't look quite right. The problem\n",
    "# is that the coordinates were in lat and long, thus,\n",
    "# the unit of the length is actually in degree! We\n",
    "# need to project the geometry into a planar projection\n",
    "# system to get a human readable length. We're going to\n",
    "# use the NAD83 New York Long Island Projection system,\n",
    "# EPSG 2263.\n",
    "\n",
    "# this is the source projection (WGS84 in longlat)\n",
    "epsg4326 = {'init': 'epsg:4326'}\n",
    "\n",
    "gpos.crs = epsg4326\n",
    "projectedPos = gpos.to_crs(epsg=2263)\n",
    "\n",
    "gpath.crs = epsg4326\n",
    "projectedPath = gpath.to_crs(epsg=2263)\n",
    "projectedPath.length"
   ]
  },
  {
   "cell_type": "code",
   "execution_count": null,
   "metadata": {
    "collapsed": true
   },
   "outputs": [],
   "source": [
    "\n",
    "\n",
    "\n",
    "\n",
    "\n",
    "\n",
    "\n"
   ]
  },
  {
   "cell_type": "code",
   "execution_count": 7,
   "metadata": {
    "collapsed": false
   },
   "outputs": [
    {
     "data": {
      "text/plain": [
       "<matplotlib.axes._subplots.AxesSubplot at 0x18e4c2b0>"
      ]
     },
     "execution_count": 7,
     "metadata": {},
     "output_type": "execute_result"
    },
    {
     "data": {
      "image/png": "[encoded data removed]",
      "text/plain": [
       "<matplotlib.figure.Figure at 0x1856ff98>"
      ]
     },
     "metadata": {},
     "output_type": "display_data"
    }
   ],
   "source": [
    "# For the second objective, we first read the shape of\n",
    "# the M1 and M101 bus\n",
    "\n",
    "def readShape(filename):\n",
    "    data = pd.read_csv(filename)\n",
    "    ptns = data[['shape_pt_lon', 'shape_pt_lat']]\n",
    "    line = geom.LineString(ptns.as_matrix().tolist())\n",
    "    return gpd.GeoSeries(line, crs=epsg4326)\n",
    "    \n",
    "m1 = readShape('m1_route.csv')\n",
    "m101 = readShape('m101_route.csv')\n",
    "m1.plot()\n",
    "m101.plot()"
   ]
  },
  {
   "cell_type": "code",
   "execution_count": 8,
   "metadata": {
    "collapsed": false
   },
   "outputs": [],
   "source": [
    "# To find which bus line our location pings belong to,\n",
    "# we compute the distance between our bus ping and the\n",
    "# shapes of M1 and M101 buses.\n",
    "\n",
    "d1 = [m1.to_crs(epsg=2263).distance(p)[0] for p in projectedPos]\n",
    "d101 = [m101.to_crs(epsg=2263).distance(p)[0] for p in projectedPos]"
   ]
  },
  {
   "cell_type": "code",
   "execution_count": 9,
   "metadata": {
    "collapsed": false
   },
   "outputs": [
    {
     "data": {
      "text/plain": [
       "(11738.688472511016, 105.53850073818477)"
      ]
     },
     "execution_count": 9,
     "metadata": {},
     "output_type": "execute_result"
    }
   ],
   "source": [
    "# Based on the maximum distance between the pings and the shape,\n",
    "# we can conclude that the pings are from the M101 bus line\n",
    "\n",
    "max(d1), max(d101)"
   ]
  },
  {
   "cell_type": "code",
   "execution_count": null,
   "metadata": {
    "collapsed": true
   },
   "outputs": [],
   "source": [
    "\n",
    "\n",
    "\n",
    "\n",
    "\n",
    "\n",
    "\n"
   ]
  },
  {
   "cell_type": "code",
   "execution_count": 11,
   "metadata": {
    "collapsed": false
   },
   "outputs": [
    {
     "data": {
      "text/plain": [
       "0                                                     ()\n",
       "1                                                     ()\n",
       "2                                                     ()\n",
       "3                                                     ()\n",
       "4                                                     ()\n",
       "5                                                     ()\n",
       "6                                                     ()\n",
       "7                                                     ()\n",
       "8                                                     ()\n",
       "9                                                     ()\n",
       "10                                                    ()\n",
       "11                                                    ()\n",
       "12                                                    ()\n",
       "13                                                    ()\n",
       "14                                                    ()\n",
       "15                                                    ()\n",
       "16                                                    ()\n",
       "17                                                    ()\n",
       "18                                                    ()\n",
       "19                                                    ()\n",
       "20                                                    ()\n",
       "21                                                    ()\n",
       "22                                                    ()\n",
       "23                                                    ()\n",
       "24                                                    ()\n",
       "25                                                    ()\n",
       "26                                                    ()\n",
       "27                                                    ()\n",
       "28                                                    ()\n",
       "29                                                    ()\n",
       "                             ...                        \n",
       "160    (LINESTRING (-73.96648125924709 40.76169111665...\n",
       "161                                                   ()\n",
       "162                                                   ()\n",
       "163                                                   ()\n",
       "164                                                   ()\n",
       "165                                                   ()\n",
       "166                                                   ()\n",
       "167                                                   ()\n",
       "168                                                   ()\n",
       "169                                                   ()\n",
       "170                                                   ()\n",
       "171                                                   ()\n",
       "172                                                   ()\n",
       "173                                                   ()\n",
       "174                                                   ()\n",
       "175                                                   ()\n",
       "176                                                   ()\n",
       "177                                                   ()\n",
       "178                                                   ()\n",
       "179                                                   ()\n",
       "180                                                   ()\n",
       "181                                                   ()\n",
       "182                                                   ()\n",
       "183                                                   ()\n",
       "184    LINESTRING (-73.98717964454406 40.733291850133...\n",
       "185    (LINESTRING (-73.94298042490331 40.83156817886...\n",
       "186                                                   ()\n",
       "187                                                   ()\n",
       "188                                                   ()\n",
       "189                                                   ()\n",
       "dtype: object"
      ]
     },
     "execution_count": 11,
     "metadata": {},
     "output_type": "execute_result"
    }
   ],
   "source": [
    "# For the last objective, we can find which neighborhoods\n",
    "# the M101 bus line is going through by performing an\n",
    "# intersection test between the neighborhood boundaries and\n",
    "# the M101 shape.\n",
    "\n",
    "neighborhoods = gpd.read_file('neighborhood_nta_census.geojson')\n",
    "intersections = neighborhoods.intersection(m101[0])\n",
    "intersections"
   ]
  },
  {
   "cell_type": "code",
   "execution_count": 12,
   "metadata": {
    "collapsed": false
   },
   "outputs": [
    {
     "data": {
      "text/plain": [
       "[u'East Harlem North',\n",
       " u'Upper East Side-Carnegie Hill',\n",
       " u'Central Harlem South',\n",
       " u'Lenox Hill-Roosevelt Island',\n",
       " u'Gramercy',\n",
       " u'Washington Heights South',\n",
       " u'Murray Hill-Kips Bay',\n",
       " u'Manhattanville',\n",
       " u'Turtle Bay-East Midtown',\n",
       " u'Morningside Heights',\n",
       " u'East Village',\n",
       " u'Yorkville',\n",
       " u'East Harlem South',\n",
       " u'Washington Heights North',\n",
       " u'Hamilton Heights']"
      ]
     },
     "execution_count": 12,
     "metadata": {},
     "output_type": "execute_result"
    }
   ],
   "source": [
    "# We can see that there're a few neighborhoods are\n",
    "# intersected. Next, we're going to list their names.\n",
    "\n",
    "names = dict([(neighborhoods.ix[i]['ntaname'],g) \n",
    "              for i,g in enumerate(intersections)\n",
    "              if type(g)!=geom.GeometryCollection])\n",
    "names.keys()"
   ]
  },
  {
   "cell_type": "code",
   "execution_count": null,
   "metadata": {
    "collapsed": true
   },
   "outputs": [],
   "source": []
  },
  {
   "cell_type": "code",
   "execution_count": null,
   "metadata": {
    "collapsed": true
   },
   "outputs": [],
   "source": []
  }
 ],
 "metadata": {
  "kernelspec": {
   "display_name": "Python 2",
   "language": "python",
   "name": "python2"
  },
  "language_info": {
   "codemirror_mode": {
    "name": "ipython",
    "version": 2
   },
   "file_extension": ".py",
   "mimetype": "text/x-python",
   "name": "python",
   "nbconvert_exporter": "python",
   "pygments_lexer": "ipython2",
   "version": "2.7.10"
  }
 },
 "nbformat": 4,
 "nbformat_minor": 0
}
