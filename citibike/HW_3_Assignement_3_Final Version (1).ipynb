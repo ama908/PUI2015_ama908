{
 "cells": [
  {
   "cell_type": "markdown",
   "metadata": {},
   "source": [
    "## HW_3_ASSIGNMENT 3 \n",
    "### Author Anita Ahmed - ama908@nyu.edu\n",
    "#### Other Team Members : Erwan LeCun, Miyabi Ishihara"
   ]
  },
  {
   "cell_type": "markdown",
   "metadata": {},
   "source": [
    "### PROPOSAL\n",
    "#### We want to test if in any given month the averge tripduration per customer (u1) and averge tripduration per subscribers(u2) are equal\n",
    "\n",
    "#### Sample used : January 2015, Citibike data\n",
    "\n",
    "#### Null Hypothesis: The averge tripduration per customer (u1) and averge tripduration persubscribers(u2), in are equal at a significnace level p = 0.025\n",
    "##### Ho: u1-u2 = 0\n",
    "#### Alternetive Hypothesis: The averge tripduration per customer (u1) and averge tripduration persubscribers(u2)\n",
    "##### Ha: u1-u2 ≠ 0\n",
    "##### α =0.025"
   ]
  },
  {
   "cell_type": "code",
   "execution_count": 1,
   "metadata": {
    "collapsed": false
   },
   "outputs": [
    {
     "name": "stdout",
     "output_type": "stream",
     "text": [
      "Populating the interactive namespace from numpy and matplotlib\n"
     ]
    },
    {
     "data": {
      "image/png": "[encoded data removed]",
      "text/plain": [
       "<matplotlib.figure.Figure at 0xbd67048>"
      ]
     },
     "metadata": {},
     "output_type": "display_data"
    }
   ],
   "source": [
    "#IMPORTING PACKAGES\n",
    "import pylab as pl\n",
    "import pandas as pd\n",
    "import numpy as np\n",
    "import scipy.stats\n",
    "import os\n",
    "import json\n",
    "from zipfile import ZipFile\n",
    "from StringIO import StringIO\n",
    "import urllib2\n",
    "\n",
    "%pylab inline\n",
    "\n",
    "#Reading The CSV File for the month of Januray, 2015 \n",
    "r = urllib2.urlopen(\"https://s3.amazonaws.com/tripdata/201501-citibike-tripdata.zip\").read()\n",
    "file = ZipFile(StringIO(r))\n",
    "citibike_csv = file.open(\"201501-citibike-tripdata.csv\")\n",
    "df = pd.read_csv(citibike_csv)\n",
    "\n",
    "# Separating Usertypes by creating array\n",
    "trip_subscriber = []\n",
    "trip_customer = []\n",
    "\n",
    "# Creating seprate tripduration array per usertype\n",
    "for index, row in df.iterrows():\n",
    "        if row['usertype'] == 'Subscriber':\n",
    "                trip_subscriber.append(row['tripduration'])\n",
    "        elif row['usertype'] == 'Customer':\n",
    "                trip_customer.append(row['tripduration'])\n",
    "\n",
    "# Visalizing Trip Duration for each usertype\n",
    "bins = range(500, 5500, 500)\n",
    "trip_subscriber = np.array(trip_subscriber)\n",
    "trip_customer = np.array(trip_customer)\n",
    "fig = pl.figure(figsize=[20,10])\n",
    "ax1 = fig.add_subplot(121)\n",
    "ax1.hist(trip_subscriber, bins = bins)\n",
    "ax2 = fig.add_subplot(122)\n",
    "ax2.hist(trip_customer, bins = bins)\n",
    "ax1.set_ylabel('Number of Subscribers')\n",
    "ax1.set_xlabel('Trip Duration')\n",
    "ax2.set_ylabel('Number of Customers')\n",
    "ax2.set_xlabel('Trip Duration')\n",
    "ax1.set_title('Trip Duration Distribution for Subscriber')\n",
    "ax2.set_title('Trip Duration Distribution for Customer')\n",
    "pl.show()"
   ]
  },
  {
   "cell_type": "markdown",
   "metadata": {},
   "source": [
    "#####CONDUTCING Z-test\n",
    "###### x1= sample mean tripduration for Customers\n",
    "######x2= sample mean tripduration for Subscribers\n",
    "###### u1= population mean tripduration for Customers\n",
    "###### u2= population mean tripduration for Subscribers\n",
    "###### o1= sample variance tripduration for Customers\n",
    "###### o2= sample variance tripduration for Subscribers\n",
    "###### n1= sample size for Customers\n",
    "###### n2= sample size for Subscribers"
   ]
  },
  {
   "cell_type": "code",
   "execution_count": 2,
   "metadata": {
    "collapsed": false
   },
   "outputs": [
    {
     "name": "stdout",
     "output_type": "stream",
     "text": [
      "The z-score of the distribution is: 33.7877558335\n"
     ]
    }
   ],
   "source": [
    "alpha = 0.025\n",
    "z_test = lambda x1, x2, u1, u2, o1, o2, n1, n2: ((x1 - x2) - (u1 - u2)) / np.sqrt((o1 / n1) + (o2 / n2))\n",
    "z_sample = z_test(np.average(trip_customer), np.average(trip_subscriber), 0, 0, np.var(trip_customer), np.var(trip_subscriber), len(trip_customer), len(trip_subscriber))\n",
    "print 'The z-score of the distribution is:',z_sample"
   ]
  },
  {
   "cell_type": "code",
   "execution_count": 3,
   "metadata": {
    "collapsed": false
   },
   "outputs": [
    {
     "name": "stdout",
     "output_type": "stream",
     "text": [
      "is the z value 33.79 larger than the critical value 1.96? \n",
      "YES!\n",
      "the Null hypothesis is rejected\n"
     ]
    }
   ],
   "source": [
    "# For two tailed z-test,we select α=0.025, the critical z-value is 1.96. \n",
    "z_critical = 1.96\n",
    "def report_result(z_sample,z_critical):\n",
    "    print 'is the z value {0:.2f} larger than the critical value {1:.2f}? '.format(z_sample,z_critical)\n",
    "    if z_sample>z_critical:\n",
    "        print \"YES!\"\n",
    "    else: print \"NO!\"\n",
    "    \n",
    "    print 'the Null hypothesis is {}'.format( 'rejected' if z_sample>z_critical  else 'not rejected') \n",
    "    \n",
    "report_result(z_sample,z_critical)"
   ]
  },
  {
   "cell_type": "markdown",
   "metadata": {},
   "source": [
    "####The Z score was very large as the sample sizes of subscriber sample size is significantly larger than the customer sample size. We rejected the NULL Hypothesis that the mean ride time for subscriber and customer is equal. \n",
    "\n",
    "####Now we want to check the data with a differnt NULL hypothesis, so we decided to conduct the Chi-Sq test. "
   ]
  },
  {
   "cell_type": "markdown",
   "metadata": {},
   "source": [
    "###CHI-SQ Test\n",
    "\n",
    "###PROPOSAL : We want to test if Subscriber takes longer rides than Customers. For that we divide the trip duration as long ride and short ride. Long ride is anything more than or equal to 10 minutes. Short ride is less than 10 minutes. We are conduting the test at a significnace level p = 0.05\n",
    "\n",
    "\n",
    "####Null Hypothesis: The probability of Subscriber taking long rides (P0) is higher than or equal to the probability of Customer taking long rides (P1).Testing at a significnace level p = 0.05\n",
    "\n",
    "#####Ho: P0-P1 ≥ 0\n",
    "\n",
    "####Alternetive Hypothesis: The proportion of Subscriber taking long rides (P0) is lower than the proportion of Customer taking long rides (P1).\n",
    "\n",
    "#####Ha: P0-P1 < 0\n",
    "\n",
    "#####α =0.05\n"
   ]
  },
  {
   "cell_type": "code",
   "execution_count": 4,
   "metadata": {
    "collapsed": true
   },
   "outputs": [],
   "source": [
    "# Sorting Data to Count Number of Subcribers and Customers taking short and long rides.\n",
    "\n",
    "#dividing usertype by Customer and Subscriber\n",
    "subscriber = df[df.usertype=='Subscriber']\n",
    "customers = df[df.usertype=='Customer']\n",
    "\n",
    "#Sorting Subcribers who ride bike for more than or equal to 10 minutes and less than 10 minutes  \n",
    "subscribers_l = subscriber[subscriber.tripduration >= 600]\n",
    "subscribers_s = subscriber[subscriber.tripduration < 600]\n",
    "\n",
    "#Sorting Customer who ride bike for more than or equal to 10 minutes and less than 10 minutes \n",
    "customers_l = customers[customers.tripduration >= 600]\n",
    "customers_s= customers[customers.tripduration <600]\n",
    "\n",
    "#Calculating total# of long trips, short trips and alltrips\n",
    "Long_trips = len(customers_l) + len(subscribers_l)\n",
    "Short_trips = len(subscribers_s) + len(customers_s)\n",
    "Total_Trips =  Long_trips + Short_trips\n"
   ]
  },
  {
   "cell_type": "code",
   "execution_count": 5,
   "metadata": {
    "collapsed": false
   },
   "outputs": [
    {
     "name": "stdout",
     "output_type": "stream",
     "text": [
      "The Number of Subscriber riding more than 10 mintues: 106381\n",
      "The Number of Subscriber riding less than 10 mintues: 173543\n",
      "The Number of Customer riding more than 10 mintues: 4487\n",
      "The Number of Customer riding less than 10 mintues: 1141\n",
      "The total Number of Users Riding more than or equal to 10 minutes: 110868\n",
      "The total Number of Users Riding less than 10 minutes: 174684\n",
      "Total number or trips taken by all Users: 285552\n"
     ]
    }
   ],
   "source": [
    "print \"The Number of Subscriber riding more than 10 mintues:\", len(subscribers_l)\n",
    "print \"The Number of Subscriber riding less than 10 mintues:\", len(subscribers_s)\n",
    "print \"The Number of Customer riding more than 10 mintues:\", len(customers_l)\n",
    "print \"The Number of Customer riding less than 10 mintues:\", len(customers_s)\n",
    "print \"The total Number of Users Riding more than or equal to 10 minutes:\", Long_trips \n",
    "print \"The total Number of Users Riding less than 10 minutes:\", Short_trips\n",
    "print \"Total number or trips taken by all Users:\", Total_Trips\n"
   ]
  },
  {
   "cell_type": "code",
   "execution_count": 6,
   "metadata": {
    "collapsed": false
   },
   "outputs": [
    {
     "name": "stdout",
     "output_type": "stream",
     "text": [
      "The Chi-Square Staistic Value is: 4043\n"
     ]
    }
   ],
   "source": [
    "#Formulating the Chi-Square Statistic\n",
    "\n",
    "Ntot = Total_Trips\n",
    "expected = Long_trips*Short_trips*len(customers)*len(subscriber)\n",
    "sample_values = [len(customers_l),len(subscribers_l)],[len(customers_s),len(subscribers_s)]\n",
    " \n",
    "chisqstat= lambda N, values, expect : N*((values[0][0]*values[1][1]-values[0][1]*values[1][0])**2)/(expect)\n",
    "\n",
    "Chi_Square_Statistic=chisqstat(Ntot,  sample_values, expected)\n",
    "\n",
    "print \"The Chi-Square Staistic Value is:\", Chi_Square_Statistic\n"
   ]
  },
  {
   "cell_type": "code",
   "execution_count": 7,
   "metadata": {
    "collapsed": false
   },
   "outputs": [
    {
     "name": "stdout",
     "output_type": "stream",
     "text": [
      "is the Critical value 3.84 lower than the Chi-Square Score value 4043.00?\n",
      "YES!\n",
      "the Null hypothesis is rejected\n"
     ]
    }
   ],
   "source": [
    "# Reading Value off the Chi-Square Table @ df=1 and p=0.05\n",
    "\n",
    "Critical_Value= 3.84\n",
    "\n",
    "def report_result(p,a):\n",
    "    print 'is the Critical value {0:.2f} lower than the Chi-Square Score value {1:.2f}?'.format(Critical_Value,Chi_Square_Statistic)\n",
    "    if p<a:\n",
    "        print \"YES!\"\n",
    "    else: print \"NO!\"\n",
    "    \n",
    "    print 'the Null hypothesis is {}'.format( 'rejected' if p<a  else 'not rejected') \n",
    "    \n",
    "report_result(Critical_Value,Chi_Square_Statistic)"
   ]
  },
  {
   "cell_type": "markdown",
   "metadata": {},
   "source": [
    "Since Chi-square Value is greater than 3.84 we will reject the null hypothesis. Therefore, the probability of Subscriber taking long rides is lower than the probability of Customer taking long rides. This probably is due to the fact that Subcribers are locals who tend to use bikes for daily commute where as Customers might be tourists who are riding the bikes longer for sightseeing.\n"
   ]
  },
  {
   "cell_type": "code",
   "execution_count": null,
   "metadata": {
    "collapsed": true
   },
   "outputs": [],
   "source": []
  }
 ],
 "metadata": {
  "kernelspec": {
   "display_name": "Python 2",
   "language": "python",
   "name": "python2"
  },
  "language_info": {
   "codemirror_mode": {
    "name": "ipython",
    "version": 2
   },
   "file_extension": ".py",
   "mimetype": "text/x-python",
   "name": "python",
   "nbconvert_exporter": "python",
   "pygments_lexer": "ipython2",
   "version": "2.7.10"
  }
 },
 "nbformat": 4,
 "nbformat_minor": 0
}
