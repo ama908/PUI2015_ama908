{
 "cells": [
  {
   "cell_type": "markdown",
   "metadata": {},
   "source": [
    "##HW_4_ASSIGNMENT 3:Goodness of  fit on CitiBike data\n",
    "\n",
    "###Author Anita Ahmed - ama908@nyu.edu"
   ]
  },
  {
   "cell_type": "code",
   "execution_count": 15,
   "metadata": {
    "collapsed": false
   },
   "outputs": [
    {
     "name": "stdout",
     "output_type": "stream",
     "text": [
      "Populating the interactive namespace from numpy and matplotlib\n"
     ]
    }
   ],
   "source": [
    "#importing packages\n",
    "import pylab as pl\n",
    "import pandas as pd\n",
    "import numpy as np\n",
    "import scipy.stats\n",
    "import os\n",
    "import json\n",
    "from zipfile import ZipFile\n",
    "from StringIO import StringIO\n",
    "import urllib2\n",
    "import os\n",
    "\n",
    "%pylab inline"
   ]
  },
  {
   "cell_type": "code",
   "execution_count": 3,
   "metadata": {
    "collapsed": false
   },
   "outputs": [],
   "source": [
    "#Generating 1yr citibike data from October 2014 to Septermber 2015\n",
    "File={}\n",
    "File['Oct']=[\"https://s3.amazonaws.com/tripdata/201410-citibike-tripdata.zip\",\n",
    "                 \"201410-citibike-tripdata.csv\"]\n",
    "File['Nov']=[\"https://s3.amazonaws.com/tripdata/201411-citibike-tripdata.zip\",\n",
    "                 \"201411-citibike-tripdata.csv\"]\n",
    "File['Dec']=[\"https://s3.amazonaws.com/tripdata/201412-citibike-tripdata.zip\",\n",
    "                 \"201412-citibike-tripdata.csv\"]\n",
    "File['Jan']=[\"https://s3.amazonaws.com/tripdata/201501-citibike-tripdata.zip\",\n",
    "                 \"201501-citibike-tripdata.csv\"]\n",
    "File['Feb']=[\"https://s3.amazonaws.com/tripdata/201502-citibike-tripdata.zip\",\n",
    "                 \"201502-citibike-tripdata.csv\"]\n",
    "File['Mar']=[\"https://s3.amazonaws.com/tripdata/201503-citibike-tripdata.zip\",\n",
    "                 \"201503-citibike-tripdata.csv\"]\n",
    "File['Apr']=[\"https://s3.amazonaws.com/tripdata/201504-citibike-tripdata.zip\",\n",
    "                 \"201504-citibike-tripdata.csv\"]\n",
    "File['May']=[\"https://s3.amazonaws.com/tripdata/201505-citibike-tripdata.zip\",\n",
    "                 \"201505-citibike-tripdata.csv\"]\n",
    "File['Jun']=[\"https://s3.amazonaws.com/tripdata/201506-citibike-tripdata.zip\",\n",
    "                 \"201506-citibike-tripdata.csv\"]\n",
    "File['Jul']=[\"https://s3.amazonaws.com/tripdata/201507-citibike-tripdata.zip\",\n",
    "                 \"201507-citibike-tripdata.csv\"]\n",
    "File['Aug']=[\"https://s3.amazonaws.com/tripdata/201508-citibike-tripdata.zip\",\n",
    "                 \"201508-citibike-tripdata.csv\"]\n",
    "File['Sep']=[\"https://s3.amazonaws.com/tripdata/201509-citibike-tripdata.zip\",\n",
    "                 \"201509-citibike-tripdata.csv\"]"
   ]
  },
  {
   "cell_type": "code",
   "execution_count": 16,
   "metadata": {
    "collapsed": false
   },
   "outputs": [
    {
     "name": "stdout",
     "output_type": "stream",
     "text": [
      "Index([u'tripduration', u'starttime', u'stoptime', u'start station id',\n",
      "       u'start station name', u'start station latitude',\n",
      "       u'start station longitude', u'end station id', u'end station name',\n",
      "       u'end station latitude', u'end station longitude', u'bikeid',\n",
      "       u'usertype', u'birth year', u'gender'],\n",
      "      dtype='object')\n",
      "['Mar', 'Feb', 'Aug', 'Sep', 'Apr', 'Jun', 'Jul', 'Jan', 'May', 'Nov', 'Dec', 'Oct']\n"
     ]
    }
   ],
   "source": [
    "#reading the zip file from all the months by generating a loop\n",
    "df_store = {}\n",
    "for n in File.keys():\n",
    "    name =\"%s\" %n \n",
    "    r = urllib2.urlopen(File[n][0]).read()\n",
    "    file = ZipFile(StringIO(r))\n",
    "    citibike = file.open(File[n][1])\n",
    "    df_store[name] = pd.read_csv(citibike)\n",
    "\n",
    "print df_store[name].columns\n",
    "print df_store.keys()"
   ]
  },
  {
   "cell_type": "code",
   "execution_count": 6,
   "metadata": {
    "collapsed": false
   },
   "outputs": [
    {
     "data": {
      "image/png": "[encoded data removed]",
      "text/plain": [
       "<matplotlib.figure.Figure at 0x929c4780>"
      ]
     },
     "metadata": {},
     "output_type": "display_data"
    }
   ],
   "source": [
    "#Adding all Spring Summer Rider Data\n",
    "ss_rider = [df_store['Mar'],df_store['Apr'],df_store['May'],df_store['Jun'],df_store['Jul'],df_store['Aug']]\n",
    "\n",
    "df_SS = pd.concat(ss_rider, ignore_index=True)\n",
    "\n",
    "#Adding all Fall Winter Rider Data\n",
    "fw_rider = [df_store['Sep'],df_store['Oct'],df_store['Nov'],df_store['Dec'],df_store['Jan'],df_store['Feb']]\n",
    "\n",
    "df_FW = pd.concat(fw_rider, ignore_index=True)\n",
    "\n",
    "#Adding 1 year Rider Data\n",
    "all_rider= pd.concat([df_SS, df_FW], ignore_index=True)\n",
    "\n",
    "#Getting the age of all scubcribers for 1 year\n",
    "all_rider['age'] = 2015-all_rider['birth year'][(all_rider['usertype'] == 'Subscriber')]\n",
    "all_rider['age'] = all_rider['age'][~np.isnan(all_rider['age'])]\n",
    "\n",
    "#generating Histograms of all riders age distribution. \n",
    "bins = np.arange(10, 99, 10)\n",
    "all_rider.age.groupby(pd.cut(all_rider.age, bins)).agg([count_nonzero]).plot(kind='bar', title=\"All Riders For 1 year\")\n",
    "all_rider_age_dist = all_rider.age.groupby(pd.cut(all_rider.age, bins)).agg([count_nonzero])"
   ]
  },
  {
   "cell_type": "markdown",
   "metadata": {},
   "source": [
    "### Performing AD Test Goodness of Fit \n",
    "\n",
    "####Null Hypothesis: The generated age distribution A(x) follows the normal distribution N(x)\n",
    "Ho: A(x)follows N(x)\n",
    "####Alternate Hypothesis: The generated distribution G(x) does not follows the normal distribution F(x)\n",
    "Ha: G(x) does not follow F(x)\n",
    "\n",
    "We are performing the test at a Critical value of .984 at .01 signifinace level."
   ]
  },
  {
   "cell_type": "code",
   "execution_count": 25,
   "metadata": {
    "collapsed": false
   },
   "outputs": [
    {
     "name": "stdout",
     "output_type": "stream",
     "text": [
      "All riders on normal (0.49673215770813606, array([ 0.519,  0.591,  0.709,  0.827,  0.984]), array([ 15. ,  10. ,   5. ,   2.5,   1. ]))\n"
     ]
    }
   ],
   "source": [
    "ad_all_rider = scipy.stats.anderson(all_rider_age_dist ['count_nonzero'],'norm')\n",
    "print \"All riders on normal\", ad_all_rider"
   ]
  },
  {
   "cell_type": "markdown",
   "metadata": {},
   "source": [
    "Analysis:\n",
    "As observed for the age distribution on normal AD test the AD statistic is lower than the thershold value of 0.984 at a significance level of .01 , therefore we accept the null hypothesis that the generated age distribution for all citi bike riders follows the given normal distribution.\n"
   ]
  },
  {
   "cell_type": "code",
   "execution_count": 26,
   "metadata": {
    "collapsed": false
   },
   "outputs": [
    {
     "name": "stdout",
     "output_type": "stream",
     "text": [
      "All, normal fit (1.0, 0.0)\n",
      "All, normal fit (0.99973228779551615, 0.0)\n"
     ]
    }
   ],
   "source": [
    "ksAll=scipy.stats.kstest(all_rider_age_dist ['count_nonzero'],'norm')\n",
    "print \"All, normal fit\", ksAll\n",
    "\n",
    "#compare to poisson \n",
    "\n",
    "ksAll_cauchy=scipy.stats.kstest(all_rider_age_dist ['count_nonzero'], 'cauchy')\n",
    "print \"All, normal fit\", ksAll_cauchy"
   ]
  },
  {
   "cell_type": "markdown",
   "metadata": {},
   "source": [
    "Analysis:\n",
    "As observed for the age distribution on normal/cauchy KS test the P-value is zero, therefore we reject the null hypothesis that the generated age distribution for all citi bike riders follows the given normal/cauchy distribution."
   ]
  },
  {
   "cell_type": "code",
   "execution_count": 14,
   "metadata": {
    "collapsed": false
   },
   "outputs": [
    {
     "data": {
      "image/png": "[encoded data removed]",
      "text/plain": [
       "<matplotlib.figure.Figure at 0xba44198>"
      ]
     },
     "metadata": {},
     "output_type": "display_data"
    },
    {
     "data": {
      "image/png": "[encoded data removed]",
      "text/plain": [
       "<matplotlib.figure.Figure at 0x8bc64668>"
      ]
     },
     "metadata": {},
     "output_type": "display_data"
    }
   ],
   "source": [
    "df_SS['age'] = 2015-df_SS['birth year'][(df_SS['usertype'] == 'Subscriber')]\n",
    "df_SS['age'] = df_SS['age'][~np.isnan(df_SS['age'])]\n",
    "\n",
    "df_FW['age'] = 2015-df_FW['birth year'][(df_FW['usertype'] == 'Subscriber')]\n",
    "df_FW['age'] = df_FW['age'][~np.isnan(df_FW['age'])]\n",
    "\n",
    "df_SS.age.groupby(pd.cut(df_SS.age, bins)).agg([count_nonzero]).plot(kind='bar', title=\"All Riders For Summer and Spring\")\n",
    "df_SS_age_dist = df_SS.age.groupby(pd.cut(df_SS.age, bins)).agg([count_nonzero])\n",
    "\n",
    "df_FW.age.groupby(pd.cut(df_FW.age, bins)).agg([count_nonzero]).plot(kind='bar', title=\"All Riders For Fall and Winter\")\n",
    "df_FW_age_dist = df_FW.age.groupby(pd.cut(df_FW.age, bins)).agg([count_nonzero])"
   ]
  },
  {
   "cell_type": "code",
   "execution_count": 27,
   "metadata": {
    "collapsed": false
   },
   "outputs": [
    {
     "name": "stdout",
     "output_type": "stream",
     "text": [
      "All riders on normal (0.49920908468307346, array([ 0.519,  0.591,  0.709,  0.827,  0.984]), array([ 15. ,  10. ,   5. ,   2.5,   1. ]))\n"
     ]
    }
   ],
   "source": [
    "Spring_Summer_Rider = scipy.stats.anderson(df_SS_age_dist ['count_nonzero'],'norm')\n",
    "print \"All riders on normal\", Spring_Summer_Rider"
   ]
  },
  {
   "cell_type": "markdown",
   "metadata": {},
   "source": [
    "Analysis:\n",
    "As observed for the age distribution on normal AD test the AD statistic is lower than the thershold value of 0.984 at a significance level of .01 , therefore we accept the null hypothesis that the generated age distribution for all citi bike riders follows the given normal distribution."
   ]
  },
  {
   "cell_type": "code",
   "execution_count": 28,
   "metadata": {
    "collapsed": false
   },
   "outputs": [
    {
     "name": "stdout",
     "output_type": "stream",
     "text": [
      "All riders on normal (0.49462583218514489, array([ 0.519,  0.591,  0.709,  0.827,  0.984]), array([ 15. ,  10. ,   5. ,   2.5,   1. ]))\n"
     ]
    }
   ],
   "source": [
    "Fall_Winter_Rider = scipy.stats.anderson(df_FW_age_dist ['count_nonzero'],'norm')\n",
    "print \"All riders on normal\", Fall_Winter_Rider"
   ]
  },
  {
   "cell_type": "markdown",
   "metadata": {},
   "source": [
    "Analysis: As observed for the age distribution on normal AD test the AD statistic is lower than the thershold value of 0.984 at a significance level of .01 , therefore we accept the null hypothesis that the generated age distribution for all citi bike riders follows the given normal distribution."
   ]
  },
  {
   "cell_type": "code",
   "execution_count": 29,
   "metadata": {
    "collapsed": false
   },
   "outputs": [
    {
     "name": "stdout",
     "output_type": "stream",
     "text": [
      "All, normal fit (1.0, 0.0)\n",
      "All, normal fit (0.99945024253940273, 0.0)\n"
     ]
    }
   ],
   "source": [
    "ksAll_SS=scipy.stats.kstest(df_SS_age_dist  ['count_nonzero'],'norm')\n",
    "print \"All, normal fit\", ksAll_SS\n",
    "\n",
    "#compare to poisson \n",
    "\n",
    "ksAll_SS_cauchy=scipy.stats.kstest(df_SS_age_dist  ['count_nonzero'], 'cauchy')\n",
    "print \"All, normal fit\", ksAll_SS_cauchy"
   ]
  },
  {
   "cell_type": "markdown",
   "metadata": {},
   "source": [
    "Analysis: As observed for the age distribution on normal/cauchy KS test the P-value is zero, therefore we reject the null hypothesis that the generated age distribution for all citi bike riders follows the given normal/cauchy distribution."
   ]
  },
  {
   "cell_type": "code",
   "execution_count": 31,
   "metadata": {
    "collapsed": false
   },
   "outputs": [
    {
     "name": "stdout",
     "output_type": "stream",
     "text": [
      " All, normal fit (1.0, 0.0)\n",
      "All, normal fit (0.99947818098190655, 0.0)\n"
     ]
    }
   ],
   "source": [
    "ksAll_FW=scipy.stats.kstest(df_FW_age_dist  ['count_nonzero'],'norm')\n",
    "print \"All, normal fit\", ksAll_FW\n",
    "\n",
    "#compare to poisson \n",
    "\n",
    "ksAll_FW_cauchy=scipy.stats.kstest(df_FW_age_dist  ['count_nonzero'], 'cauchy')\n",
    "print \"All, normal fit\", ksAll_FW_cauchy"
   ]
  },
  {
   "cell_type": "markdown",
   "metadata": {},
   "source": [
    "Analysis: As observed for the age distribution on normal/cauchy KS test the P-value is zero, therefore we reject the null hypothesis that the generated age distribution for all citi bike riders follows the given normal/cauchy distribution."
   ]
  },
  {
   "cell_type": "code",
   "execution_count": null,
   "metadata": {
    "collapsed": true
   },
   "outputs": [],
   "source": []
  }
 ],
 "metadata": {
  "kernelspec": {
   "display_name": "Python 2",
   "language": "python",
   "name": "python2"
  },
  "language_info": {
   "codemirror_mode": {
    "name": "ipython",
    "version": 2
   },
   "file_extension": ".py",
   "mimetype": "text/x-python",
   "name": "python",
   "nbconvert_exporter": "python",
   "pygments_lexer": "ipython2",
   "version": "2.7.10"
  }
 },
 "nbformat": 4,
 "nbformat_minor": 0
}
