{
 "cells": [
  {
   "cell_type": "markdown",
   "metadata": {},
   "source": [
    "## HW_3_ASSIGNMENT 3 \n",
    "### Author Anita Ahmed - ama908@nyu.edu\n",
    "#### Other Team Members : Erwan LeCun, Miyabi Ishihara"
   ]
  },
  {
   "cell_type": "markdown",
   "metadata": {},
   "source": [
    "### PROPOSAL\n",
    "#### We want to test if in any given month the averge tripduration per customer (u1) and averge tripduration per subscribers(u2) are equal\n",
    "\n",
    "#### Sample used : January 2015, Citibike data\n",
    "\n",
    "#### Null Hypothesis: The averge tripduration per customer (u1) and averge tripduration persubscribers(u2), in are equal at a significnace level p = 0.025\n",
    "##### Ho: u1-u2 = 0\n",
    "#### Alternetive Hypothesis: The averge tripduration per customer (u1) and averge tripduration persubscribers(u2)\n",
    "##### H1: u1-u2 ≠ 0\n",
    "##### α =0.025"
   ]
  },
  {
   "cell_type": "code",
   "execution_count": 22,
   "metadata": {
    "collapsed": false
   },
   "outputs": [
    {
     "name": "stdout",
     "output_type": "stream",
     "text": [
      "Populating the interactive namespace from numpy and matplotlib\n"
     ]
    },
    {
     "data": {
      "image/png": "[encoded data removed]",
      "text/plain": [
       "<matplotlib.figure.Figure at 0x234dac50>"
      ]
     },
     "metadata": {},
     "output_type": "display_data"
    }
   ],
   "source": [
    "#IMPORTING PACKAGES\n",
    "import pylab as pl\n",
    "import pandas as pd\n",
    "import numpy as np\n",
    "import scipy.stats\n",
    "import os\n",
    "import json\n",
    "from zipfile import ZipFile\n",
    "from StringIO import StringIO\n",
    "import urllib2\n",
    "\n",
    "%pylab inline\n",
    "\n",
    "#Reading The CSV File for the month of Januray, 2015 \n",
    "r = urllib2.urlopen(\"https://s3.amazonaws.com/tripdata/201501-citibike-tripdata.zip\").read()\n",
    "file = ZipFile(StringIO(r))\n",
    "citibike_csv = file.open(\"201501-citibike-tripdata.csv\")\n",
    "df = pd.read_csv(citibike_csv)\n",
    "\n",
    "# Separating Usertypes by creating array\n",
    "trip_subscriber = []\n",
    "trip_customer = []\n",
    "\n",
    "# Creating seprate tripduration array per usertype\n",
    "for index, row in df.iterrows():\n",
    "        if row['usertype'] == 'Subscriber':\n",
    "                trip_subscriber.append(row['tripduration'])\n",
    "        elif row['usertype'] == 'Customer':\n",
    "                trip_customer.append(row['tripduration'])\n",
    "\n",
    "# Visalizing Trip Duration for each usertype\n",
    "bins = range(500, 5000, 500)\n",
    "trip_subscriber = np.array(trip_subscriber)\n",
    "trip_customer = np.array(trip_customer)\n",
    "fig = pl.figure(figsize=[20,10])\n",
    "ax1 = fig.add_subplot(121)\n",
    "ax1.hist(trip_subscriber, bins = bins)\n",
    "ax2 = fig.add_subplot(122)\n",
    "ax2.hist(trip_customer, bins = bins)\n",
    "ax1.set_title('Trip Duration Distribution for Subscriber')\n",
    "ax2.set_title('Trip Duration Distribution for Customer')\n",
    "pl.show()"
   ]
  },
  {
   "cell_type": "markdown",
   "metadata": {},
   "source": [
    "#####CONDUTCING Z-test\n",
    "###### x1= sample mean tripduration for Customers\n",
    "######x2= sample mean tripduration for Subscribers\n",
    "###### u1= population mean tripduration for Customers\n",
    "###### u2= population mean tripduration for Subscribers\n",
    "###### o1= sample variance tripduration for Customers\n",
    "###### o2= sample variance tripduration for Subscribers\n",
    "###### n1= sample size for Customers\n",
    "###### n2= sample size for Subscribers"
   ]
  },
  {
   "cell_type": "code",
   "execution_count": 23,
   "metadata": {
    "collapsed": false
   },
   "outputs": [
    {
     "name": "stdout",
     "output_type": "stream",
     "text": [
      "The z-score of the distribution is: 33.7877558335\n"
     ]
    }
   ],
   "source": [
    "alpha = 0.025\n",
    "z_test = lambda x1, x2, u1, u2, o1, o2, n1, n2: ((x1 - x2) - (u1 - u2)) / np.sqrt((o1 / n1) + (o2 / n2))\n",
    "z_sample = z_test(np.average(trip_customer), np.average(trip_subscriber), 0, 0, np.var(trip_customer), np.var(trip_subscriber), len(trip_customer), len(trip_subscriber))\n",
    "print 'The z-score of the distribution is:',z_sample"
   ]
  },
  {
   "cell_type": "code",
   "execution_count": 31,
   "metadata": {
    "collapsed": false
   },
   "outputs": [
    {
     "name": "stdout",
     "output_type": "stream",
     "text": [
      "is the z value 33.79 smaller than the critical value 1.96? \n",
      "NO!\n",
      "the Null hypothesis is not rejected\n"
     ]
    }
   ],
   "source": [
    "# For two tailed z-test,we select α=0.025, the critical z-value is 1.96. \n",
    "z_critical = 1.96\n",
    "def report_result(z_sample,z_critical):\n",
    "    print 'is the z value {0:.2f} smaller than the critical value {1:.2f}? '.format(z_sample,z_critical)\n",
    "    if z_sample<z_critical:\n",
    "        print \"YES!\"\n",
    "    else: print \"NO!\"\n",
    "    \n",
    "    print 'the Null hypothesis is {}'.format( 'rejected' if z_sample<z_critical  else 'not rejected') \n",
    "    \n",
    "report_result(z_sample,z_critical)"
   ]
  },
  {
   "cell_type": "markdown",
   "metadata": {},
   "source": [
    "#####The Z score was very large as the sample sizes of subscriber sample size is significantly larger than the customer sample size. So we decided to conduct the K-S test to see if the two disttribution come form the same parent distribution. Used used a significance level of 0.05"
   ]
  },
  {
   "cell_type": "code",
   "execution_count": 25,
   "metadata": {
    "collapsed": false
   },
   "outputs": [
    {
     "name": "stdout",
     "output_type": "stream",
     "text": [
      "The KS statistics is: (0.46182684553824527, 0.0)\n"
     ]
    }
   ],
   "source": [
    "ks = scipy.stats.ks_2samp(trip_subscriber, trip_customer)\n",
    "print 'The KS statistics is:',ks\n"
   ]
  },
  {
   "cell_type": "code",
   "execution_count": 33,
   "metadata": {
    "collapsed": false
   },
   "outputs": [
    {
     "name": "stdout",
     "output_type": "stream",
     "text": [
      "is the p value 0.00 smaller than the critical value 0.025? \n",
      "YES!\n",
      "the Null hypothesis is rejected\n"
     ]
    }
   ],
   "source": [
    "# From the results p=0.0\n",
    "p=0.0\n",
    "\n",
    "\n",
    "def report_result(p,a):\n",
    "    print 'is the p value {0:.2f} smaller than the critical value {1:.3f}? '.format(p,a)\n",
    "    if p<a:\n",
    "        print \"YES!\"\n",
    "    else: print \"NO!\"\n",
    "    \n",
    "    print 'the Null hypothesis is {}'.format( 'rejected' if p<a  else 'not rejected') \n",
    "\n",
    "    \n",
    "report_result(p,alpha)"
   ]
  }
 ],
 "metadata": {
  "kernelspec": {
   "display_name": "Python 2",
   "language": "python",
   "name": "python2"
  },
  "language_info": {
   "codemirror_mode": {
    "name": "ipython",
    "version": 2
   },
   "file_extension": ".py",
   "mimetype": "text/x-python",
   "name": "python",
   "nbconvert_exporter": "python",
   "pygments_lexer": "ipython2",
   "version": "2.7.10"
  }
 },
 "nbformat": 4,
 "nbformat_minor": 0
}
