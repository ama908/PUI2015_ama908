{
 "cells": [
  {
   "cell_type": "code",
   "execution_count": null,
   "metadata": {
    "collapsed": true
   },
   "outputs": [],
   "source": [
    "%matplotlib inline\n",
    "import ast\n",
    "import json\n",
    "import urllib\n",
    "import urllib2\n",
    "import pandas as pd\n",
    "import geopandas as gpd\n",
    "import matplotlib.pyplot as plt\n",
    "from cStringIO import StringIO"
   ]
  },
  {
   "cell_type": "markdown",
   "metadata": {},
   "source": [
    "We define a helper function <b>queryCartoDB</b> to wrap around the SQL API of CartoDB. We can simply pass in a public data source (in the form of 'https://{ACCOUNT}.cartodb.com/api/v2/sql', where ACCOUNT is the owner of the data) and a SQL statement for us to query the data in various formats including CSV, JSON, and GeoJSON. The result returned from this function is a file-like object, where we can pass to file readers such as Pandas' <b>read_csv()</b> or the JSON parser.\n",
    "\n",
    "In our example, <b>source</b> is assigned a citibike data set available on the htv210 account.\n",
    "\n",
    "We also assign <b>query1</b> and <b>query2</b> as the sample solution of homework 7."
   ]
  },
  {
   "cell_type": "code",
   "execution_count": null,
   "metadata": {
    "collapsed": false
   },
   "outputs": [],
   "source": [
    "def queryCartoDB(source, query, format='CSV'):\n",
    "    data = urllib.urlencode({'format': format, 'q': query})\n",
    "    try:\n",
    "        response = urllib2.urlopen(source, data)\n",
    "    except urllib2.HTTPError, e:\n",
    "        raise ValueError('\\n'.join(ast.literal_eval(e.readline())['error']))\n",
    "    except Exception:\n",
    "        raise\n",
    "    return StringIO(response.read())\n",
    "\n",
    "source = 'https://htv210.cartodb.com/api/v2/sql'\n",
    "query1 = open('hw7_1.sql', 'r').read()\n",
    "query2 = open('hw7_2.sql', 'r').read()"
   ]
  },
  {
   "cell_type": "markdown",
   "metadata": {},
   "source": [
    "We are just playing around with SQL statements in the next step. Note that, data can be retrieved in any format that we prefer."
   ]
  },
  {
   "cell_type": "code",
   "execution_count": null,
   "metadata": {
    "collapsed": false
   },
   "outputs": [],
   "source": [
    "query = '''\n",
    "SELECT *\n",
    "FROM citibike\n",
    "LIMIT 10\n",
    "'''\n",
    "\n",
    "result = queryCartoDB(source, query, 'CSV')\n",
    "df     = pd.read_csv(result)\n",
    "df.head()"
   ]
  },
  {
   "cell_type": "markdown",
   "metadata": {},
   "source": [
    "For the second query, where we would like visualize the output geometries, we use the Python's JSON module to parse the data and feed it to a GeoDataFrame. We can see the result in a plot"
   ]
  },
  {
   "cell_type": "code",
   "execution_count": null,
   "metadata": {
    "collapsed": false
   },
   "outputs": [],
   "source": [
    "result = queryCartoDB(source, query2, 'GeoJSON')\n",
    "data   = json.loads(result.read())\n",
    "gdata  = gpd.GeoDataFrame.from_features(data['features'])"
   ]
  },
  {
   "cell_type": "code",
   "execution_count": null,
   "metadata": {
    "collapsed": false
   },
   "outputs": [],
   "source": [
    "f, ax = plt.subplots(1, figsize=(5,10))\n",
    "gdata.plot(column='trip_count', colormap='OrRd', alpha=1, axes=ax, scheme='QUANTILES', k=9)"
   ]
  },
  {
   "cell_type": "markdown",
   "metadata": {},
   "source": [
    "To make the dots larger, we could create a buffer at each point (200 ft radius) and reassign the GeoDataFrame geometries."
   ]
  },
  {
   "cell_type": "code",
   "execution_count": null,
   "metadata": {
    "collapsed": false
   },
   "outputs": [],
   "source": [
    "dots   = gdata.set_geometry(gdata.geometry.buffer(100))"
   ]
  },
  {
   "cell_type": "code",
   "execution_count": null,
   "metadata": {
    "collapsed": false
   },
   "outputs": [],
   "source": [
    "f, ax = plt.subplots(1, figsize=(5,10))\n",
    "dots.plot(column='trip_count', colormap='OrRd', alpha=1, axes=ax, scheme='QUANTILES', k=9)"
   ]
  }
 ],
 "metadata": {
  "kernelspec": {
   "display_name": "Python 2",
   "language": "python",
   "name": "python2"
  },
  "language_info": {
   "codemirror_mode": {
    "name": "ipython",
    "version": 2
   },
   "file_extension": ".py",
   "mimetype": "text/x-python",
   "name": "python",
   "nbconvert_exporter": "python",
   "pygments_lexer": "ipython2",
   "version": "2.7.10"
  }
 },
 "nbformat": 4,
 "nbformat_minor": 0
}
