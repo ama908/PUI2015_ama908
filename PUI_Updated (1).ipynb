{
 "cells": [
  {
   "cell_type": "code",
   "execution_count": 1,
   "metadata": {
    "collapsed": false
   },
   "outputs": [
    {
     "name": "stdout",
     "output_type": "stream",
     "text": [
      "Populating the interactive namespace from numpy and matplotlib\n"
     ]
    }
   ],
   "source": [
    "# Loading the required libraries\n",
    "%pylab inline\n",
    "import pandas as pd\n",
    "import json\n",
    "import numpy as np\n",
    "import geopandas as gp\n",
    "import pylab as pl\n",
    "import statsmodels.api as sm\n",
    "import statsmodels.formula.api as smf"
   ]
  },
  {
   "cell_type": "code",
   "execution_count": 2,
   "metadata": {
    "collapsed": false
   },
   "outputs": [],
   "source": [
    "# Reading citibike files\n",
    "citibike0115 = pd.read_csv(\"201501-citibike-tripdata.csv\")\n",
    "citibike0615 = pd.read_csv(\"201506-citibike-tripdata.csv\")"
   ]
  },
  {
   "cell_type": "code",
   "execution_count": 3,
   "metadata": {
    "collapsed": false,
    "scrolled": true
   },
   "outputs": [
    {
     "name": "stdout",
     "output_type": "stream",
     "text": [
      "<class 'pandas.core.frame.DataFrame'>\n",
      "Int64Index: 285552 entries, 0 to 285551\n",
      "Data columns (total 15 columns):\n",
      "tripduration               285552 non-null int64\n",
      "starttime                  285552 non-null object\n",
      "stoptime                   285552 non-null object\n",
      "start station id           285552 non-null int64\n",
      "start station name         285552 non-null object\n",
      "start station latitude     285552 non-null float64\n",
      "start station longitude    285552 non-null float64\n",
      "end station id             285552 non-null int64\n",
      "end station name           285552 non-null object\n",
      "end station latitude       285552 non-null float64\n",
      "end station longitude      285552 non-null float64\n",
      "bikeid                     285552 non-null int64\n",
      "usertype                   285552 non-null object\n",
      "birth year                 279924 non-null float64\n",
      "gender                     285552 non-null int64\n",
      "dtypes: float64(5), int64(5), object(5)\n",
      "memory usage: 34.9+ MB\n",
      "None\n",
      "<class 'pandas.core.frame.DataFrame'>\n",
      "Int64Index: 941219 entries, 0 to 941218\n",
      "Data columns (total 15 columns):\n",
      "tripduration               941219 non-null int64\n",
      "starttime                  941219 non-null object\n",
      "stoptime                   941219 non-null object\n",
      "start station id           941219 non-null int64\n",
      "start station name         941219 non-null object\n",
      "start station latitude     941219 non-null float64\n",
      "start station longitude    941219 non-null float64\n",
      "end station id             941219 non-null int64\n",
      "end station name           941219 non-null object\n",
      "end station latitude       941219 non-null float64\n",
      "end station longitude      941219 non-null float64\n",
      "bikeid                     941219 non-null int64\n",
      "usertype                   941219 non-null object\n",
      "birth year                 810827 non-null float64\n",
      "gender                     941219 non-null int64\n",
      "dtypes: float64(5), int64(5), object(5)\n",
      "memory usage: 114.9+ MB\n",
      "None\n"
     ]
    }
   ],
   "source": [
    "# Checking dataframe information\n",
    "print citibike0115.info()\n",
    "print citibike0615.info()"
   ]
  },
  {
   "cell_type": "code",
   "execution_count": 4,
   "metadata": {
    "collapsed": false
   },
   "outputs": [
    {
     "name": "stdout",
     "output_type": "stream",
     "text": [
      "   tripduration      starttime       stoptime  start station id  \\\n",
      "0          1346  1/1/2015 0:01  1/1/2015 0:24               455   \n",
      "1           363  1/1/2015 0:02  1/1/2015 0:08               434   \n",
      "2           346  1/1/2015 0:04  1/1/2015 0:10               491   \n",
      "3           182  1/1/2015 0:04  1/1/2015 0:07               384   \n",
      "4           969  1/1/2015 0:05  1/1/2015 0:21               474   \n",
      "\n",
      "        start station name  start station latitude  start station longitude  \\\n",
      "0          1 Ave & E 44 St               40.750020               -73.969053   \n",
      "1          9 Ave & W 18 St               40.743174               -74.003664   \n",
      "2     E 24 St & Park Ave S               40.740964               -73.986022   \n",
      "3  Fulton St & Waverly Ave               40.683178               -73.965964   \n",
      "4          5 Ave & E 29 St               40.745168               -73.986831   \n",
      "\n",
      "   end station id             end station name  end station latitude  \\\n",
      "0             265     Stanton St & Chrystie St             40.722293   \n",
      "1             482              W 15 St & 7 Ave             40.739355   \n",
      "2             505              6 Ave & W 33 St             40.749013   \n",
      "3             399  Lafayette Ave & St James Pl             40.688515   \n",
      "4             432            E 7 St & Avenue A             40.726218   \n",
      "\n",
      "   end station longitude  bikeid    usertype  birth year  gender  \n",
      "0             -73.991475   18660  Subscriber        1960       2  \n",
      "1             -73.999318   16085  Subscriber        1963       1  \n",
      "2             -73.988484   20845  Subscriber        1974       1  \n",
      "3             -73.964763   19610  Subscriber        1969       1  \n",
      "4             -73.983799   20197  Subscriber        1977       1  \n",
      "   tripduration      starttime       stoptime  start station id  \\\n",
      "0          1338  6/1/2015 0:00  6/1/2015 0:22               128   \n",
      "1           290  6/1/2015 0:00  6/1/2015 0:05               438   \n",
      "2           634  6/1/2015 0:01  6/1/2015 0:11               383   \n",
      "3           159  6/1/2015 0:01  6/1/2015 0:04               361   \n",
      "4          1233  6/1/2015 0:02  6/1/2015 0:22               382   \n",
      "\n",
      "           start station name  start station latitude  \\\n",
      "0    MacDougal St & Prince St               40.727103   \n",
      "1         St Marks Pl & 1 Ave               40.727791   \n",
      "2  Greenwich Ave & Charles St               40.735238   \n",
      "3        Allen St & Hester St               40.716059   \n",
      "4     University Pl & E 14 St               40.734927   \n",
      "\n",
      "   start station longitude  end station id         end station name  \\\n",
      "0               -74.002971            2021          W 45 St & 8 Ave   \n",
      "1               -73.985649             312  Allen St & E Houston St   \n",
      "2               -74.000271             388         W 26 St & 10 Ave   \n",
      "3               -73.991908             531   Forsyth St & Broome St   \n",
      "4               -73.992005             532          S 5 Pl & S 4 St   \n",
      "\n",
      "   end station latitude  end station longitude  bikeid    usertype  \\\n",
      "0             40.759291             -73.988597   20721  Subscriber   \n",
      "1             40.722055             -73.989111   21606  Subscriber   \n",
      "2             40.749718             -74.002950   16595  Subscriber   \n",
      "3             40.718939             -73.992663   16949  Subscriber   \n",
      "4             40.710451             -73.960876   17028    Customer   \n",
      "\n",
      "   birth year  gender  \n",
      "0        1984       1  \n",
      "1        1997       1  \n",
      "2        1993       1  \n",
      "3        1981       1  \n",
      "4         NaN       0  \n"
     ]
    }
   ],
   "source": [
    "# Checking for first 5 rows of the dataframe\n",
    "print citibike0115.head()\n",
    "print citibike0615.head()"
   ]
  },
  {
   "cell_type": "code",
   "execution_count": 5,
   "metadata": {
    "collapsed": false
   },
   "outputs": [
    {
     "name": "stdout",
     "output_type": "stream",
     "text": [
      "330\n",
      "326\n"
     ]
    }
   ],
   "source": [
    "# Getting the unique/distinct values of a variable in dataframe\n",
    "print len(citibike0115['start station id'].unique())\n",
    "print len(citibike0615['start station id'].unique())"
   ]
  },
  {
   "cell_type": "code",
   "execution_count": 6,
   "metadata": {
    "collapsed": false
   },
   "outputs": [
    {
     "name": "stdout",
     "output_type": "stream",
     "text": [
      "<class 'pandas.core.frame.DataFrame'>\n",
      "Int64Index: 330 entries, 0 to 329\n",
      "Data columns (total 2 columns):\n",
      "stnid        330 non-null int64\n",
      "ridesFreq    330 non-null int64\n",
      "dtypes: int64(2)\n",
      "memory usage: 7.7 KB\n",
      "None\n",
      "<class 'pandas.core.frame.DataFrame'>\n",
      "Int64Index: 326 entries, 0 to 325\n",
      "Data columns (total 2 columns):\n",
      "stnid        326 non-null int64\n",
      "ridesFreq    326 non-null int64\n",
      "dtypes: int64(2)\n",
      "memory usage: 7.6 KB\n",
      "None\n"
     ]
    }
   ],
   "source": [
    "# Getting frequency distributions outputs for a variable in data frame\n",
    "janFreq = citibike0115[\"start station id\"].value_counts() # This output converts the variable as index\n",
    "janFreq = janFreq.reset_index() # This will reset the variable index as a column\n",
    "janFreq = janFreq.rename(columns={'index':'stnid', 0:'ridesFreq'}) # Renaming column names\n",
    "print janFreq.info() # Checking final dataframe information\n",
    "\n",
    "junFreq = citibike0615[\"start station id\"].value_counts()\n",
    "junFreq = junFreq.reset_index()\n",
    "junFreq = junFreq.rename(columns={'index':'stnid', 0:'ridesFreq'})\n",
    "print junFreq.info()"
   ]
  },
  {
   "cell_type": "code",
   "execution_count": 7,
   "metadata": {
    "collapsed": false
   },
   "outputs": [
    {
     "name": "stdout",
     "output_type": "stream",
     "text": [
      "<class 'pandas.core.frame.DataFrame'>\n",
      "Int64Index: 656 entries, 0 to 325\n",
      "Data columns (total 2 columns):\n",
      "stnid        656 non-null int64\n",
      "ridesFreq    656 non-null int64\n",
      "dtypes: int64(2)\n",
      "memory usage: 15.4 KB\n",
      "None\n",
      "331\n",
      "<class 'pandas.core.frame.DataFrame'>\n",
      "Int64Index: 331 entries, 0 to 330\n",
      "Data columns (total 2 columns):\n",
      "stnid        331 non-null int64\n",
      "ridesFreq    331 non-null int64\n",
      "dtypes: int64(2)\n",
      "memory usage: 7.8 KB\n",
      "None\n"
     ]
    }
   ],
   "source": [
    "# Concatenating two frequency distributions: one from jan citibike data and other from jun citibike data\n",
    "citibikedata = pd.concat([janFreq, junFreq], axis=0)\n",
    "print citibikedata.info()\n",
    "print len(citibikedata['stnid'].unique())\n",
    "\n",
    "# Summing up total number of rides at unique start station id level after concatenating dataframes earlier\n",
    "grouped = citibikedata.groupby('stnid') # Using groupby function of pandas\n",
    "stnrides = grouped['ridesFreq'].agg(np.sum) # Applying groupby object on rides variable with sum aggregation\n",
    "stnrides = stnrides.reset_index() # Resetting variable name index as a column in data frame\n",
    "stnrides = stnrides.rename(columns={'index':'stnid', 0:'ridesFreq'}) # Renaming the variable names\n",
    "print stnrides.info() # Checking final data frame information"
   ]
  },
  {
   "cell_type": "code",
   "execution_count": 8,
   "metadata": {
    "collapsed": false
   },
   "outputs": [
    {
     "name": "stdout",
     "output_type": "stream",
     "text": [
      "461\n",
      "461\n",
      "<type 'numpy.ndarray'>\n",
      "<type 'numpy.ndarray'>\n",
      "<class 'pandas.core.frame.DataFrame'>\n",
      "Int64Index: 461 entries, 0 to 460\n",
      "Data columns (total 2 columns):\n",
      "stnid      461 non-null float64\n",
      "zipcode    460 non-null float64\n",
      "dtypes: float64(2)\n",
      "memory usage: 10.8 KB\n",
      "None\n",
      "   stnid  zipcode\n",
      "0    344    11216\n",
      "1    345    10011\n",
      "2    346    10014\n",
      "3    347    10014\n",
      "4    340    10002\n"
     ]
    }
   ],
   "source": [
    "# Reading in stations json file\n",
    "stations = json.load(open('stationzips.json'))\n",
    "\n",
    "# Creating empty arrays to extract keys and values from json file\n",
    "statnid = np.array([])\n",
    "zipcode = np.array([])\n",
    "\n",
    "for k, v in stations.iteritems():\n",
    "    statnid = np.append(statnid ,k)\n",
    "    zipcode = np.append(zipcode, v)\n",
    "\n",
    "print len(statnid)\n",
    "print len(zipcode)\n",
    "print type(statnid)\n",
    "print type(zipcode)\n",
    "\n",
    "# Converting numpy arrays to pandas data frames\n",
    "statnid = pd.DataFrame(statnid)\n",
    "zipcode = pd.DataFrame(zipcode)\n",
    "\n",
    "# Merging both dataframes into one using index as common key\n",
    "stationzips = pd.merge(statnid, zipcode, left_index=True, right_index=True)\n",
    "stationzips = stationzips.rename(columns={'0_x':'stnid', '0_y':'zipcode'}) # Renaming column names\n",
    "stationzips['stnid'] = stationzips['stnid'].astype('float64') # Converting to float data types\n",
    "print stationzips.info()\n",
    "print stationzips.head()"
   ]
  },
  {
   "cell_type": "code",
   "execution_count": 9,
   "metadata": {
    "collapsed": false
   },
   "outputs": [
    {
     "name": "stdout",
     "output_type": "stream",
     "text": [
      "<class 'pandas.core.frame.DataFrame'>\n",
      "Int64Index: 331 entries, 0 to 330\n",
      "Data columns (total 3 columns):\n",
      "stnid        331 non-null int64\n",
      "ridesFreq    331 non-null int64\n",
      "zipcode      330 non-null float64\n",
      "dtypes: float64(1), int64(2)\n",
      "memory usage: 10.3 KB\n"
     ]
    }
   ],
   "source": [
    "# Merging station level frequency distribution output to station level zipcode information from json file\n",
    "bikezipdata = pd.merge(stnrides, stationzips, on='stnid', how='left')\n",
    "bikezipdata.info()"
   ]
  },
  {
   "cell_type": "code",
   "execution_count": 10,
   "metadata": {
    "collapsed": false
   },
   "outputs": [
    {
     "name": "stdout",
     "output_type": "stream",
     "text": [
      "32\n",
      "[ 10019.  10013.  10038.  11217.  10011.  11205.  11238.  10014.  10022.\n",
      "  11201.  10007.  10009.  10012.  10016.  10017.  10005.  10003.  10004.\n",
      "  10002.  10018.  11211.     nan  10282.  11251.  11216.  10280.  10001.\n",
      "  10010.  10036.  10023.     83.  10281.]\n"
     ]
    },
    {
     "data": {
      "text/html": [
       "<div>\n",
       "<table border=\"1\" class=\"dataframe\">\n",
       "  <thead>\n",
       "    <tr style=\"text-align: right;\">\n",
       "      <th></th>\n",
       "      <th>stnid</th>\n",
       "      <th>ridesFreq</th>\n",
       "      <th>zipcode</th>\n",
       "    </tr>\n",
       "  </thead>\n",
       "  <tbody>\n",
       "    <tr>\n",
       "      <th>0</th>\n",
       "      <td>72</td>\n",
       "      <td>3405</td>\n",
       "      <td>10019</td>\n",
       "    </tr>\n",
       "    <tr>\n",
       "      <th>1</th>\n",
       "      <td>79</td>\n",
       "      <td>2990</td>\n",
       "      <td>10013</td>\n",
       "    </tr>\n",
       "    <tr>\n",
       "      <th>2</th>\n",
       "      <td>82</td>\n",
       "      <td>1256</td>\n",
       "      <td>10038</td>\n",
       "    </tr>\n",
       "    <tr>\n",
       "      <th>3</th>\n",
       "      <td>83</td>\n",
       "      <td>1252</td>\n",
       "      <td>11217</td>\n",
       "    </tr>\n",
       "    <tr>\n",
       "      <th>4</th>\n",
       "      <td>116</td>\n",
       "      <td>6496</td>\n",
       "      <td>10011</td>\n",
       "    </tr>\n",
       "  </tbody>\n",
       "</table>\n",
       "</div>"
      ],
      "text/plain": [
       "   stnid  ridesFreq  zipcode\n",
       "0     72       3405    10019\n",
       "1     79       2990    10013\n",
       "2     82       1256    10038\n",
       "3     83       1252    11217\n",
       "4    116       6496    10011"
      ]
     },
     "execution_count": 10,
     "metadata": {},
     "output_type": "execute_result"
    }
   ],
   "source": [
    "# Checking some general information\n",
    "print len(bikezipdata['zipcode'].unique())\n",
    "print bikezipdata['zipcode'].unique()\n",
    "bikezipdata.head()"
   ]
  },
  {
   "cell_type": "code",
   "execution_count": 11,
   "metadata": {
    "collapsed": false
   },
   "outputs": [
    {
     "name": "stdout",
     "output_type": "stream",
     "text": [
      "<class 'pandas.core.frame.DataFrame'>\n",
      "Int64Index: 31 entries, 0 to 30\n",
      "Data columns (total 2 columns):\n",
      "zipcode      31 non-null float64\n",
      "ridesFreq    31 non-null int64\n",
      "dtypes: float64(1), int64(1)\n",
      "memory usage: 744.0 bytes\n",
      "None\n",
      "   zipcode  ridesFreq\n",
      "0       83       5847\n"
     ]
    }
   ],
   "source": [
    "# Aggregating bike rides at a zipcode level (this is the final output format required: rides at zipcode level)\n",
    "grouped = bikezipdata.groupby('zipcode')\n",
    "zipcoderides = grouped['ridesFreq'].agg(np.sum)\n",
    "zipcoderides = zipcoderides.reset_index()\n",
    "zipcoderides = zipcoderides.rename(columns={'index':'stnid', 0:'ridesFreq'})\n",
    "print zipcoderides.info()\n",
    "print zipcoderides[0:1]"
   ]
  },
  {
   "cell_type": "code",
   "execution_count": 12,
   "metadata": {
    "collapsed": false
   },
   "outputs": [
    {
     "name": "stdout",
     "output_type": "stream",
     "text": [
      "Index([    u'APPBBL',    u'APPDate',    u'Address', u'AllZoning1',\n",
      "       u'AllZoning2', u'AreaSource', u'AssessLand',  u'AssessTot',\n",
      "              u'BBL',   u'BldgArea',  u'BldgClass',  u'BldgDepth',\n",
      "        u'BldgFront',      u'Block',   u'BoroCode',    u'Borough',\n",
      "         u'BsmtCode',  u'BuiltCode',   u'BuiltFAR',     u'CB2010',\n",
      "               u'CD',     u'CT2010',    u'ComArea',    u'CommFAR',\n",
      "          u'CondoNo',    u'Council',  u'EDesigNum',  u'Easements',\n",
      "       u'ExemptLand',  u'ExemptTot',        u'Ext',   u'FacilFAR',\n",
      "       u'FactryArea',   u'FireComp', u'GarageArea', u'HealthArea',\n",
      "         u'HistDist', u'IrrLotCode',    u'LandUse',   u'Landmark',\n",
      "              u'Lot',    u'LotArea',   u'LotDepth',   u'LotFront',\n",
      "          u'LotType',  u'LtdHeight', u'MAPPLUTO_F',   u'NumBldgs',\n",
      "        u'NumFloors', u'OfficeArea',  u'OtherArea',   u'Overlay1',\n",
      "         u'Overlay2',  u'OwnerName',  u'OwnerType', u'PLUTOMapID',\n",
      "       u'PolicePrct',   u'ProxCode',    u'ResArea',   u'ResidFAR',\n",
      "       u'RetailArea', u'SHAPE_Area', u'SHAPE_Leng',    u'SPDist1',\n",
      "          u'SPDist2',    u'Sanborn', u'SchoolDist',  u'SplitZone',\n",
      "        u'StrgeArea',     u'TaxMap',  u'Tract2010',   u'UnitsRes',\n",
      "       u'UnitsTotal',    u'Version',     u'XCoord',     u'YCoord',\n",
      "       u'YearAlter1', u'YearAlter2',  u'YearBuilt',     u'ZMCode',\n",
      "          u'ZipCode',  u'ZoneDist1',  u'ZoneDist2',  u'ZoneDist3',\n",
      "        u'ZoneDist4',    u'ZoneMap',   u'geometry'],\n",
      "      dtype='object')\n"
     ]
    }
   ],
   "source": [
    "# Reading shape file data from PLUTO dataset\n",
    "bsize = gp.GeoDataFrame.from_file(\"Manhattan/MNMapPLUTO.shp\")\n",
    "print bsize.columns"
   ]
  },
  {
   "cell_type": "code",
   "execution_count": 13,
   "metadata": {
    "collapsed": false
   },
   "outputs": [
    {
     "name": "stdout",
     "output_type": "stream",
     "text": [
      "<class 'geopandas.geodataframe.GeoDataFrame'>\n",
      "Int64Index: 42786 entries, 0 to 42785\n",
      "Data columns (total 87 columns):\n",
      "APPBBL        42786 non-null float64\n",
      "APPDate       4577 non-null object\n",
      "Address       42736 non-null object\n",
      "AllZoning1    42743 non-null object\n",
      "AllZoning2    3674 non-null object\n",
      "AreaSource    42786 non-null object\n",
      "AssessLand    42786 non-null float64\n",
      "AssessTot     42786 non-null float64\n",
      "BBL           42786 non-null float64\n",
      "BldgArea      42786 non-null int64\n",
      "BldgClass     42736 non-null object\n",
      "BldgDepth     42786 non-null float64\n",
      "BldgFront     42786 non-null float64\n",
      "Block         42786 non-null int64\n",
      "BoroCode      42786 non-null int64\n",
      "Borough       42786 non-null object\n",
      "BsmtCode      42736 non-null object\n",
      "BuiltCode     23004 non-null object\n",
      "BuiltFAR      42786 non-null float64\n",
      "CB2010        42459 non-null object\n",
      "CD            42786 non-null int64\n",
      "CT2010        42646 non-null object\n",
      "ComArea       42786 non-null int64\n",
      "CommFAR       42786 non-null float64\n",
      "CondoNo       42786 non-null int64\n",
      "Council       42786 non-null int64\n",
      "EDesigNum     1662 non-null object\n",
      "Easements     42786 non-null int64\n",
      "ExemptLand    42786 non-null float64\n",
      "ExemptTot     42786 non-null float64\n",
      "Ext           8515 non-null object\n",
      "FacilFAR      42786 non-null float64\n",
      "FactryArea    42786 non-null int64\n",
      "FireComp      42664 non-null object\n",
      "GarageArea    42786 non-null int64\n",
      "HealthArea    42786 non-null int64\n",
      "HistDist      10864 non-null object\n",
      "IrrLotCode    42736 non-null object\n",
      "LandUse       42624 non-null object\n",
      "Landmark      739 non-null object\n",
      "Lot           42786 non-null int64\n",
      "LotArea       42786 non-null int64\n",
      "LotDepth      42786 non-null float64\n",
      "LotFront      42786 non-null float64\n",
      "LotType       42736 non-null object\n",
      "LtdHeight     872 non-null object\n",
      "MAPPLUTO_F    42786 non-null int64\n",
      "NumBldgs      42786 non-null int64\n",
      "NumFloors     42786 non-null float64\n",
      "OfficeArea    42786 non-null int64\n",
      "OtherArea     42786 non-null int64\n",
      "Overlay1      6309 non-null object\n",
      "Overlay2      29 non-null object\n",
      "OwnerName     41297 non-null object\n",
      "OwnerType     17773 non-null object\n",
      "PLUTOMapID    42786 non-null object\n",
      "PolicePrct    42786 non-null int64\n",
      "ProxCode      42736 non-null object\n",
      "ResArea       42786 non-null int64\n",
      "ResidFAR      42786 non-null float64\n",
      "RetailArea    42786 non-null int64\n",
      "SHAPE_Area    42786 non-null float64\n",
      "SHAPE_Leng    42786 non-null float64\n",
      "SPDist1       7935 non-null object\n",
      "SPDist2       48 non-null object\n",
      "Sanborn       42768 non-null object\n",
      "SchoolDist    42701 non-null object\n",
      "SplitZone     42736 non-null object\n",
      "StrgeArea     42786 non-null int64\n",
      "TaxMap        42768 non-null object\n",
      "Tract2010     42786 non-null object\n",
      "UnitsRes      42786 non-null int64\n",
      "UnitsTotal    42786 non-null int64\n",
      "Version       42786 non-null object\n",
      "XCoord        42786 non-null int64\n",
      "YCoord        42786 non-null int64\n",
      "YearAlter1    42786 non-null int64\n",
      "YearAlter2    42786 non-null int64\n",
      "YearBuilt     42786 non-null int64\n",
      "ZMCode        1056 non-null object\n",
      "ZipCode       42786 non-null int64\n",
      "ZoneDist1     42743 non-null object\n",
      "ZoneDist2     3674 non-null object\n",
      "ZoneDist3     93 non-null object\n",
      "ZoneDist4     5 non-null object\n",
      "ZoneMap       42786 non-null object\n",
      "geometry      42786 non-null object\n",
      "dtypes: float64(17), int64(29), object(41)\n",
      "memory usage: 28.7+ MB\n",
      "None\n",
      "54\n",
      "54\n",
      "<class 'pandas.core.frame.DataFrame'>\n",
      "Int64Index: 54 entries, 0 to 53\n",
      "Data columns (total 2 columns):\n",
      "zipcode     54 non-null int64\n",
      "totUnits    54 non-null int64\n",
      "dtypes: int64(2)\n",
      "memory usage: 1.3 KB\n",
      "None\n",
      "   zipcode  totUnits\n",
      "0        0         2\n",
      "1    10001     30253\n",
      "2    10002     40627\n",
      "3    10003     38201\n",
      "4    10004      3203\n"
     ]
    }
   ],
   "source": [
    "print bsize.info()\n",
    "print len(bsize['ZipCode'].unique())\n",
    "\n",
    "# Aggregating units at zipcode level (this is the final output format required: units at zipcode level)\n",
    "grouped = bsize.groupby('ZipCode')\n",
    "zipunits = grouped['UnitsTotal'].agg(np.sum)\n",
    "zipunits = zipunits.reset_index()\n",
    "zipcodeunits = zipunits.rename(columns={'ZipCode':'zipcode', 'UnitsTotal':'totUnits'})\n",
    "print len(zipcodeunits['zipcode'].unique())\n",
    "print zipcodeunits.info()\n",
    "print zipcodeunits.head()"
   ]
  },
  {
   "cell_type": "code",
   "execution_count": 14,
   "metadata": {
    "collapsed": false
   },
   "outputs": [
    {
     "name": "stdout",
     "output_type": "stream",
     "text": [
      "23\n",
      "<class 'pandas.core.frame.DataFrame'>\n",
      "Int64Index: 23 entries, 0 to 22\n",
      "Data columns (total 3 columns):\n",
      "zipcode      23 non-null float64\n",
      "ridesFreq    23 non-null int64\n",
      "totUnits     23 non-null int64\n",
      "dtypes: float64(1), int64(2)\n",
      "memory usage: 736.0 bytes\n",
      "None\n"
     ]
    }
   ],
   "source": [
    "# Merging both rides and units at zipcode level into one dataframe\n",
    "finaldata = pd.merge(zipcoderides, zipcodeunits, on='zipcode', how='inner')\n",
    "print len(finaldata['zipcode'].unique())\n",
    "print finaldata.info()"
   ]
  },
  {
   "cell_type": "code",
   "execution_count": 15,
   "metadata": {
    "collapsed": false
   },
   "outputs": [
    {
     "data": {
      "text/plain": [
       "<matplotlib.text.Text at 0x3bcc0fd0>"
      ]
     },
     "execution_count": 15,
     "metadata": {},
     "output_type": "execute_result"
    },
    {
     "data": {
      "image/png": "[encoded data removed]",
      "text/plain": [
       "<matplotlib.figure.Figure at 0x22761128>"
      ]
     },
     "metadata": {},
     "output_type": "display_data"
    }
   ],
   "source": [
    "# Plotting a scatter plot between rides and units\n",
    "pl.figure(figsize=(8, 8))\n",
    "pl.scatter(finaldata['totUnits'], finaldata['ridesFreq'])\n",
    "pl.xlabel(\"Total Units\")\n",
    "pl.ylabel(\"Total Rides\")"
   ]
  },
  {
   "cell_type": "code",
   "execution_count": 16,
   "metadata": {
    "collapsed": false,
    "scrolled": true
   },
   "outputs": [
    {
     "name": "stdout",
     "output_type": "stream",
     "text": [
      "                            OLS Regression Results                            \n",
      "==============================================================================\n",
      "Dep. Variable:              ridesFreq   R-squared:                       0.455\n",
      "Model:                            OLS   Adj. R-squared:                  0.429\n",
      "Method:                 Least Squares   F-statistic:                     17.52\n",
      "Date:                Sun, 25 Oct 2015   Prob (F-statistic):           0.000417\n",
      "Time:                        13:40:43   Log-Likelihood:                -265.50\n",
      "No. Observations:                  23   AIC:                             535.0\n",
      "Df Residuals:                      21   BIC:                             537.3\n",
      "Df Model:                           1                                         \n",
      "Covariance Type:            nonrobust                                         \n",
      "==============================================================================\n",
      "                 coef    std err          t      P>|t|      [95.0% Conf. Int.]\n",
      "------------------------------------------------------------------------------\n",
      "Intercept    1.23e+04   1.04e+04      1.185      0.249     -9284.798  3.39e+04\n",
      "totUnits       1.5754      0.376      4.186      0.000         0.793     2.358\n",
      "==============================================================================\n",
      "Omnibus:                        5.653   Durbin-Watson:                   1.503\n",
      "Prob(Omnibus):                  0.059   Jarque-Bera (JB):                4.839\n",
      "Skew:                          -0.314   Prob(JB):                       0.0890\n",
      "Kurtosis:                       5.157   Cond. No.                     5.26e+04\n",
      "==============================================================================\n",
      "\n",
      "Warnings:\n",
      "[1] Standard Errors assume that the covariance matrix of the errors is correctly specified.\n",
      "[2] The condition number is large, 5.26e+04. This might indicate that there are\n",
      "strong multicollinearity or other numerical problems.\n"
     ]
    }
   ],
   "source": [
    "# Fitting a linear regression model\n",
    "model = smf.ols(formula = 'ridesFreq ~ totUnits', data = finaldata).fit()\n",
    "print model.summary()"
   ]
  },
  {
   "cell_type": "code",
   "execution_count": 17,
   "metadata": {
    "collapsed": false
   },
   "outputs": [
    {
     "data": {
      "text/plain": [
       "<matplotlib.text.Text at 0x23d5f2e8>"
      ]
     },
     "execution_count": 17,
     "metadata": {},
     "output_type": "execute_result"
    },
    {
     "data": {
      "image/png": "[encoded data removed]",
      "text/plain": [
       "<matplotlib.figure.Figure at 0x59755eb8>"
      ]
     },
     "metadata": {},
     "output_type": "display_data"
    }
   ],
   "source": [
    "# Fitting the best line from the above model to the scatter points\n",
    "lower1 = np.min(finaldata['totUnits'])\n",
    "upper1 = np.max(finaldata['totUnits'])\n",
    "\n",
    "x1 = pd.DataFrame({'totUnits':np.linspace(lower1, upper1, 10)})\n",
    "predicted1 = model.predict(x1)\n",
    "\n",
    "pl.figure(figsize=(8,8))\n",
    "pl.scatter(finaldata['totUnits'], finaldata['ridesFreq'], s=50, c='m')\n",
    "pl.plot(x1, predicted1, c='blue')\n",
    "pl.xlabel('Total Units')\n",
    "pl.ylabel('Total Rides')"
   ]
  },
  {
   "cell_type": "code",
   "execution_count": 18,
   "metadata": {
    "collapsed": false
   },
   "outputs": [
    {
     "name": "stdout",
     "output_type": "stream",
     "text": [
      "                            OLS Regression Results                            \n",
      "==============================================================================\n",
      "Dep. Variable:              ridesFreq   R-squared:                       0.504\n",
      "Model:                            OLS   Adj. R-squared:                  0.454\n",
      "Method:                 Least Squares   F-statistic:                     10.15\n",
      "Date:                Sun, 25 Oct 2015   Prob (F-statistic):           0.000905\n",
      "Time:                        13:40:43   Log-Likelihood:                -264.42\n",
      "No. Observations:                  23   AIC:                             534.8\n",
      "Df Residuals:                      20   BIC:                             538.2\n",
      "Df Model:                           2                                         \n",
      "Covariance Type:            nonrobust                                         \n",
      "======================================================================================\n",
      "                         coef    std err          t      P>|t|      [95.0% Conf. Int.]\n",
      "--------------------------------------------------------------------------------------\n",
      "Intercept          -1042.6278   1.39e+04     -0.075      0.941        -3e+04  2.79e+04\n",
      "totUnits               3.5334      1.442      2.451      0.024         0.526     6.541\n",
      "I(totUnits ** 2.0) -4.291e-05   3.05e-05     -1.405      0.175        -0.000  2.08e-05\n",
      "==============================================================================\n",
      "Omnibus:                        3.868   Durbin-Watson:                   1.440\n",
      "Prob(Omnibus):                  0.145   Jarque-Bera (JB):                2.523\n",
      "Skew:                          -0.043   Prob(JB):                        0.283\n",
      "Kurtosis:                       4.620   Cond. No.                     2.67e+09\n",
      "==============================================================================\n",
      "\n",
      "Warnings:\n",
      "[1] Standard Errors assume that the covariance matrix of the errors is correctly specified.\n",
      "[2] The condition number is large, 2.67e+09. This might indicate that there are\n",
      "strong multicollinearity or other numerical problems.\n"
     ]
    }
   ],
   "source": [
    "# Fitting a polynomial linear regression line\n",
    "model = smf.ols(formula = 'ridesFreq ~ 1 + totUnits + I(totUnits ** 2.0)', data = finaldata).fit()\n",
    "print model.summary()"
   ]
  },
  {
   "cell_type": "code",
   "execution_count": 19,
   "metadata": {
    "collapsed": false
   },
   "outputs": [
    {
     "data": {
      "text/plain": [
       "<matplotlib.text.Text at 0x2a43e2e8>"
      ]
     },
     "execution_count": 19,
     "metadata": {},
     "output_type": "execute_result"
    },
    {
     "data": {
      "image/png": "[encoded data removed]",
      "text/plain": [
       "<matplotlib.figure.Figure at 0x20ca1630>"
      ]
     },
     "metadata": {},
     "output_type": "display_data"
    }
   ],
   "source": [
    "# Plotting the best line from above model to scatter points\n",
    "lower1 = np.min(finaldata['totUnits'])\n",
    "upper1 = np.max(finaldata['totUnits'])\n",
    "\n",
    "x1 = pd.DataFrame({'totUnits':np.linspace(lower1, upper1, 10)})\n",
    "predicted1 = model.predict(x1)\n",
    "\n",
    "pl.figure(figsize=(8,8))\n",
    "pl.plot(x1, predicted1, c='blue')\n",
    "pl.scatter(finaldata['totUnits'], finaldata['ridesFreq'], s=50, c='m')\n",
    "pl.xlabel('Total Units')\n",
    "pl.ylabel('Total Rides')"
   ]
  },
  {
   "cell_type": "markdown",
   "metadata": {},
   "source": [
    "Likelihood-ratio tests in general statistical modelling, for testing whether there is evidence of the need to move from a simple model to a more complicated one (where the simple model is nested within the complicated one).\n",
    "\n",
    "### Likelihood Ratio Tests\n",
    "In statistics, a likelihood ratio test is a statistical test used to compare the goodness of fit of two models, one of which (the null model) is a special case of the other (the alternative model). The test is based on the likelihood ratio, which expresses how many times more likely the data are under one model than the other\n",
    "\n",
    "log-likelihood ratio statistic = statistic compared from both the models\n",
    "\n",
    "![alt text](https://upload.wikimedia.org/math/2/2/9/229b472081ce3580881cf29b4e376ef3.png)\n",
    "\n",
    "#### Interpretation\n",
    "The model with more parameters will always fit at least as well (have an equal or greater log-likelihood). Whether it fits significantly better and should thus be preferred is determined by deriving the probability or p-value of the difference D. Where the null hypothesis represents a special case of the alternative hypothesis, the probability distribution of the test statistic is approximately a chi-squared distribution with degrees of freedom equal to df2 − df1 .Symbols df1 and df2 represent the number of free parameters of models 1 and 2, the null model and the alternative model, respectively.\n",
    "\n",
    "\n",
    "Please go through this wikipedia link, it has got simple explanation\n",
    "\n",
    "https://en.wikipedia.org/wiki/Likelihood-ratio_test\n"
   ]
  },
  {
   "cell_type": "code",
   "execution_count": 20,
   "metadata": {
    "collapsed": false
   },
   "outputs": [
    {
     "name": "stdout",
     "output_type": "stream",
     "text": [
      "2.16\n"
     ]
    }
   ],
   "source": [
    "# From the above models we are comparing simple linear and quadratic fit lines\n",
    "# We are trying to asses whether we are good just with simple linear or with addition of quadratic term\n",
    "# For this test, we need to compute log-likelihood ratio statistic using values from both the models\n",
    "# Generally loglikelihood values for each model are present in the model output summary i.e. log likelihood\n",
    "# So we just need to directly substitute those values in the above mentioned formula and compute D\n",
    "# df1 and df2 information is obtained from model equation i.e. number of parameters used in each model\n",
    "\n",
    "# null model: simple linear line\n",
    "# alternate model: quadratic linear curve\n",
    "\n",
    "# loglikelihood value for null model: -265.50, df1 = 1\n",
    "# loglikelihood value for alternate model: -264.42, df2 = 2\n",
    "\n",
    "D = -2 * (-265.50) + 2 * (-264.42)\n",
    "print D"
   ]
  },
  {
   "cell_type": "code",
   "execution_count": 21,
   "metadata": {
    "collapsed": false
   },
   "outputs": [
    {
     "name": "stdout",
     "output_type": "stream",
     "text": [
      "Since 2.16 is less than 3.841, we fail to reject NULL hypothesis\n",
      "Quadratic model is not better than a simple linear line\n"
     ]
    }
   ],
   "source": [
    "# This D value should be compared with chi-square distribution critical value at 95 % confidence levels\n",
    "# At 95% and for df=df2-df1 (2-1=1) critical value of chi-square distribution is 3.841\n",
    "# If D value is greater than critical value, then we reject null hypothesis else we fail to reject\n",
    "\n",
    "print \"Since 2.16 is less than 3.841, we fail to reject NULL hypothesis\"\n",
    "print \"Quadratic model is not better than a simple linear line\""
   ]
  },
  {
   "cell_type": "code",
   "execution_count": 22,
   "metadata": {
    "collapsed": false
   },
   "outputs": [],
   "source": [
    "# Treating outliers for x > 0 and < 40000, also for y values for > 80000\n",
    "finaldata1 = finaldata[(finaldata['totUnits'] > 0) & (finaldata['totUnits'] < 40000) & (finaldata['ridesFreq'] < 70000)]"
   ]
  },
  {
   "cell_type": "code",
   "execution_count": 23,
   "metadata": {
    "collapsed": false
   },
   "outputs": [
    {
     "name": "stdout",
     "output_type": "stream",
     "text": [
      "                            OLS Regression Results                            \n",
      "==============================================================================\n",
      "Dep. Variable:              ridesFreq   R-squared:                       0.662\n",
      "Model:                            OLS   Adj. R-squared:                  0.636\n",
      "Method:                 Least Squares   F-statistic:                     25.41\n",
      "Date:                Sun, 25 Oct 2015   Prob (F-statistic):           0.000226\n",
      "Time:                        13:40:44   Log-Likelihood:                -160.72\n",
      "No. Observations:                  15   AIC:                             325.4\n",
      "Df Residuals:                      13   BIC:                             326.9\n",
      "Df Model:                           1                                         \n",
      "Covariance Type:            nonrobust                                         \n",
      "==============================================================================\n",
      "                 coef    std err          t      P>|t|      [95.0% Conf. Int.]\n",
      "------------------------------------------------------------------------------\n",
      "Intercept   1.105e+04   5240.506      2.109      0.055      -271.485  2.24e+04\n",
      "totUnits       1.3765      0.273      5.041      0.000         0.787     1.966\n",
      "==============================================================================\n",
      "Omnibus:                        0.502   Durbin-Watson:                   1.217\n",
      "Prob(Omnibus):                  0.778   Jarque-Bera (JB):                0.277\n",
      "Skew:                          -0.303   Prob(JB):                        0.871\n",
      "Kurtosis:                       2.723   Cond. No.                     3.33e+04\n",
      "==============================================================================\n",
      "\n",
      "Warnings:\n",
      "[1] Standard Errors assume that the covariance matrix of the errors is correctly specified.\n",
      "[2] The condition number is large, 3.33e+04. This might indicate that there are\n",
      "strong multicollinearity or other numerical problems.\n"
     ]
    },
    {
     "name": "stderr",
     "output_type": "stream",
     "text": [
      "C:\\Users\\kiran.pv\\AppData\\Local\\Continuum\\Anaconda\\lib\\site-packages\\scipy\\stats\\stats.py:1277: UserWarning: kurtosistest only valid for n>=20 ... continuing anyway, n=15\n",
      "  \"anyway, n=%i\" % int(n))\n"
     ]
    }
   ],
   "source": [
    "# Fitting a linear regression model\n",
    "model = smf.ols(formula = 'ridesFreq ~ totUnits', data = finaldata1).fit()\n",
    "print model.summary()"
   ]
  },
  {
   "cell_type": "code",
   "execution_count": 24,
   "metadata": {
    "collapsed": false
   },
   "outputs": [
    {
     "data": {
      "text/plain": [
       "<matplotlib.text.Text at 0x419b66d8>"
      ]
     },
     "execution_count": 24,
     "metadata": {},
     "output_type": "execute_result"
    },
    {
     "data": {
      "image/png": "[encoded data removed]",
      "text/plain": [
       "<matplotlib.figure.Figure at 0x59755b70>"
      ]
     },
     "metadata": {},
     "output_type": "display_data"
    }
   ],
   "source": [
    "# Fitting the best line from the above model to the scatter points\n",
    "lower1 = np.min(finaldata1['totUnits'])\n",
    "upper1 = np.max(finaldata1['totUnits'])\n",
    "\n",
    "x1 = pd.DataFrame({'totUnits':np.linspace(lower1, upper1, 10)})\n",
    "predicted1 = model.predict(x1)\n",
    "\n",
    "pl.figure(figsize=(8,8))\n",
    "pl.scatter(finaldata1['totUnits'], finaldata1['ridesFreq'], s=50, c='m')\n",
    "pl.plot(x1, predicted1, c='blue')\n",
    "pl.xlabel('Total Units')\n",
    "pl.ylabel('Total Rides')"
   ]
  },
  {
   "cell_type": "code",
   "execution_count": 25,
   "metadata": {
    "collapsed": false
   },
   "outputs": [
    {
     "name": "stdout",
     "output_type": "stream",
     "text": [
      "                            OLS Regression Results                            \n",
      "==============================================================================\n",
      "Dep. Variable:              ridesFreq   R-squared:                       0.738\n",
      "Model:                            OLS   Adj. R-squared:                  0.694\n",
      "Method:                 Least Squares   F-statistic:                     16.89\n",
      "Date:                Sun, 25 Oct 2015   Prob (F-statistic):           0.000324\n",
      "Time:                        13:40:44   Log-Likelihood:                -158.80\n",
      "No. Observations:                  15   AIC:                             323.6\n",
      "Df Residuals:                      12   BIC:                             325.7\n",
      "Df Model:                           2                                         \n",
      "Covariance Type:            nonrobust                                         \n",
      "======================================================================================\n",
      "                         coef    std err          t      P>|t|      [95.0% Conf. Int.]\n",
      "--------------------------------------------------------------------------------------\n",
      "Intercept           2745.3986   6538.732      0.420      0.682     -1.15e+04   1.7e+04\n",
      "totUnits               3.0773      0.943      3.263      0.007         1.022     5.132\n",
      "I(totUnits ** 2.0) -4.987e-05   2.67e-05     -1.870      0.086        -0.000  8.23e-06\n",
      "==============================================================================\n",
      "Omnibus:                        0.668   Durbin-Watson:                   1.492\n",
      "Prob(Omnibus):                  0.716   Jarque-Bera (JB):                0.649\n",
      "Skew:                          -0.398   Prob(JB):                        0.723\n",
      "Kurtosis:                       2.365   Cond. No.                     1.27e+09\n",
      "==============================================================================\n",
      "\n",
      "Warnings:\n",
      "[1] Standard Errors assume that the covariance matrix of the errors is correctly specified.\n",
      "[2] The condition number is large, 1.27e+09. This might indicate that there are\n",
      "strong multicollinearity or other numerical problems.\n"
     ]
    }
   ],
   "source": [
    "# Fitting a polynomial linear regression line\n",
    "model = smf.ols(formula = 'ridesFreq ~ 1 + totUnits + I(totUnits ** 2.0)', data = finaldata1).fit()\n",
    "print model.summary()"
   ]
  },
  {
   "cell_type": "code",
   "execution_count": 26,
   "metadata": {
    "collapsed": false
   },
   "outputs": [
    {
     "data": {
      "text/plain": [
       "<matplotlib.text.Text at 0x45d48a20>"
      ]
     },
     "execution_count": 26,
     "metadata": {},
     "output_type": "execute_result"
    },
    {
     "data": {
      "image/png": "[encoded data removed]",
      "text/plain": [
       "<matplotlib.figure.Figure at 0x478c2160>"
      ]
     },
     "metadata": {},
     "output_type": "display_data"
    }
   ],
   "source": [
    "# Plotting the best line from above model to scatter points\n",
    "lower1 = np.min(finaldata1['totUnits'])\n",
    "upper1 = np.max(finaldata1['totUnits'])\n",
    "\n",
    "x1 = pd.DataFrame({'totUnits':np.linspace(lower1, upper1, 10)})\n",
    "predicted1 = model.predict(x1)\n",
    "\n",
    "pl.figure(figsize=(8,8))\n",
    "pl.plot(x1, predicted1, c='blue')\n",
    "pl.scatter(finaldata1['totUnits'], finaldata1['ridesFreq'], s=50, c='m')\n",
    "pl.xlabel('Total Units')\n",
    "pl.ylabel('Total Rides')"
   ]
  },
  {
   "cell_type": "code",
   "execution_count": 27,
   "metadata": {
    "collapsed": false
   },
   "outputs": [
    {
     "name": "stdout",
     "output_type": "stream",
     "text": [
      "3.84\n"
     ]
    }
   ],
   "source": [
    "# From the above models we are comparing simple linear and quadratic fit lines\n",
    "# We are trying to asses whether we are good just with simple linear or with addition of quadratic term\n",
    "# For this test, we need to compute log-likelihood ratio statistic using values from both the models\n",
    "# Generally loglikelihood values for each model are present in the model output summary i.e. log likelihood\n",
    "# So we just need to directly substitute those values in the above mentioned formula and compute D\n",
    "# df1 and df2 information is obtained from model equation i.e. number of parameters used in each model\n",
    "\n",
    "# null model: simple linear line\n",
    "# alternate model: quadratic linear curve\n",
    "\n",
    "# loglikelihood value for null model: -265.50, df1 = 1\n",
    "# loglikelihood value for alternate model: -264.42, df2 = 2\n",
    "\n",
    "D = -2 * (-160.72) + 2 * (-158.80)\n",
    "print D"
   ]
  },
  {
   "cell_type": "code",
   "execution_count": 28,
   "metadata": {
    "collapsed": false
   },
   "outputs": [
    {
     "name": "stdout",
     "output_type": "stream",
     "text": [
      "Since 3.84 is almost same as 3.84, we reject NULL hypothesis\n",
      "Quadratic model is better than a simple linear line\n"
     ]
    }
   ],
   "source": [
    "# This D value should be compared with chi-square distribution critical value at 95 % confidence levels\n",
    "# At 95% and for df=df2-df1 (2-1=1) critical value of chi-square distribution is 3.841\n",
    "# If D value is greater than critical value, then we reject null hypothesis else we fail to reject\n",
    "\n",
    "print \"Since 3.84 is almost same as 3.84, we reject NULL hypothesis\"\n",
    "print \"Quadratic model is better than a simple linear line\""
   ]
  },
  {
   "cell_type": "code",
   "execution_count": null,
   "metadata": {
    "collapsed": true
   },
   "outputs": [],
   "source": []
  }
 ],
 "metadata": {
  "kernelspec": {
   "display_name": "Python 2",
   "language": "python",
   "name": "python2"
  },
  "language_info": {
   "codemirror_mode": {
    "name": "ipython",
    "version": 2
   },
   "file_extension": ".py",
   "mimetype": "text/x-python",
   "name": "python",
   "nbconvert_exporter": "python",
   "pygments_lexer": "ipython2",
   "version": "2.7.10"
  }
 },
 "nbformat": 4,
 "nbformat_minor": 0
}
