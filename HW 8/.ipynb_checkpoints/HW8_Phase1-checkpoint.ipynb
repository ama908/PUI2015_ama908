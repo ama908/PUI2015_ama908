{
 "cells": [
  {
   "cell_type": "code",
   "execution_count": 1,
   "metadata": {
    "collapsed": false
   },
   "outputs": [
    {
     "name": "stdout",
     "output_type": "stream",
     "text": [
      "Populating the interactive namespace from numpy and matplotlib\n",
      "<class 'pandas.core.frame.DataFrame'>\n",
      "Int64Index: 2880 entries, 0 to 2879\n",
      "Data columns (total 6 columns):\n",
      "Year              2880 non-null int64\n",
      "Ethnicity         2880 non-null object\n",
      "Sex               2880 non-null object\n",
      "Cause of Death    2880 non-null object\n",
      "Count             2880 non-null int64\n",
      "Percent           2880 non-null int64\n",
      "dtypes: int64(3), object(3)\n",
      "memory usage: 157.5+ KB\n",
      "None\n",
      "   Year           Ethnicity   Sex                          Cause of Death  \\\n",
      "0  2010  NON-HISPANIC BLACK  MALE    HUMAN IMMUNODEFICIENCY VIRUS DISEASE   \n",
      "1  2010  NON-HISPANIC BLACK  MALE                 INFLUENZA AND PNEUMONIA   \n",
      "2  2010  NON-HISPANIC BLACK  MALE         INTENTIONAL SELF-HARM (SUICIDE)   \n",
      "3  2010  NON-HISPANIC BLACK  MALE                     MALIGNANT NEOPLASMS   \n",
      "4  2010  NON-HISPANIC BLACK  MALE  MENTAL DISORDERS DUE TO USE OF ALCOHOL   \n",
      "\n",
      "   Count  Percent  \n",
      "0    297        5  \n",
      "1    201        3  \n",
      "2     64        1  \n",
      "3   1540       23  \n",
      "4     50        1  \n"
     ]
    }
   ],
   "source": [
    "%pylab inline\n",
    "import numpy as np\n",
    "import pandas as pd\n",
    "import matplotlib.pyplot as plt\n",
    "\n",
    "data = pd.read_csv(\"New_York_City_Leading_Causes_of_Death.csv\")\n",
    "\n",
    "print data.info()\n",
    "print data.head()"
   ]
  },
  {
   "cell_type": "code",
   "execution_count": 84,
   "metadata": {
    "collapsed": false
   },
   "outputs": [
    {
     "name": "stdout",
     "output_type": "stream",
     "text": [
      "['MALIGNANT NEOPLASMS' 'DISEASES OF HEART']\n",
      "    Year           Ethnicity     Sex       Cause of Death  Count  Percent\n",
      "3   2010  NON-HISPANIC BLACK    MALE  MALIGNANT NEOPLASMS   1540       23\n",
      "22  2010  NON-HISPANIC WHITE  FEMALE    DISEASES OF HEART   5351       40\n",
      "27  2010  NON-HISPANIC WHITE  FEMALE  MALIGNANT NEOPLASMS   3438       25\n",
      "47  2010  NON-HISPANIC WHITE    MALE    DISEASES OF HEART   4495       37\n",
      "52  2010  NON-HISPANIC WHITE    MALE  MALIGNANT NEOPLASMS   3408       28\n"
     ]
    }
   ],
   "source": [
    "only2 = [u'DISEASES OF HEART', u'MALIGNANT NEOPLASMS']\n",
    "\n",
    "data1 = data[data['Cause of Death'].isin(only2)]\n",
    "print data1['Cause of Death'].unique()\n",
    "print data1.head()"
   ]
  },
  {
   "cell_type": "code",
   "execution_count": 85,
   "metadata": {
    "collapsed": false
   },
   "outputs": [
    {
     "name": "stdout",
     "output_type": "stream",
     "text": [
      "[2010 2011 2007 2008 2009]\n"
     ]
    }
   ],
   "source": [
    "print data1['Year'].unique()"
   ]
  },
  {
   "cell_type": "code",
   "execution_count": 86,
   "metadata": {
    "collapsed": false
   },
   "outputs": [
    {
     "data": {
      "text/plain": [
       "Index([u'DISEASES OF HEART', u'MALIGNANT NEOPLASMS'], dtype='object')"
      ]
     },
     "execution_count": 86,
     "metadata": {},
     "output_type": "execute_result"
    }
   ],
   "source": [
    "data1['Cause of Death'].value_counts().index"
   ]
  },
  {
   "cell_type": "code",
   "execution_count": 87,
   "metadata": {
    "collapsed": false
   },
   "outputs": [
    {
     "data": {
      "text/html": [
       "<div>\n",
       "<table border=\"1\" class=\"dataframe\">\n",
       "  <thead>\n",
       "    <tr style=\"text-align: right;\">\n",
       "      <th></th>\n",
       "      <th></th>\n",
       "      <th>Count</th>\n",
       "      <th>Percent</th>\n",
       "    </tr>\n",
       "    <tr>\n",
       "      <th>Cause of Death</th>\n",
       "      <th>Year</th>\n",
       "      <th></th>\n",
       "      <th></th>\n",
       "    </tr>\n",
       "  </thead>\n",
       "  <tbody>\n",
       "    <tr>\n",
       "      <th rowspan=\"5\" valign=\"top\">DISEASES OF HEART</th>\n",
       "      <th>2007</th>\n",
       "      <td>63585</td>\n",
       "      <td>861</td>\n",
       "    </tr>\n",
       "    <tr>\n",
       "      <th>2008</th>\n",
       "      <td>62754</td>\n",
       "      <td>855</td>\n",
       "    </tr>\n",
       "    <tr>\n",
       "      <th>2009</th>\n",
       "      <td>59409</td>\n",
       "      <td>840</td>\n",
       "    </tr>\n",
       "    <tr>\n",
       "      <th>2010</th>\n",
       "      <td>53061</td>\n",
       "      <td>762</td>\n",
       "    </tr>\n",
       "    <tr>\n",
       "      <th>2011</th>\n",
       "      <td>50166</td>\n",
       "      <td>708</td>\n",
       "    </tr>\n",
       "    <tr>\n",
       "      <th rowspan=\"5\" valign=\"top\">MALIGNANT NEOPLASMS</th>\n",
       "      <th>2007</th>\n",
       "      <td>39312</td>\n",
       "      <td>618</td>\n",
       "    </tr>\n",
       "    <tr>\n",
       "      <th>2008</th>\n",
       "      <td>38691</td>\n",
       "      <td>588</td>\n",
       "    </tr>\n",
       "    <tr>\n",
       "      <th>2009</th>\n",
       "      <td>39183</td>\n",
       "      <td>621</td>\n",
       "    </tr>\n",
       "    <tr>\n",
       "      <th>2010</th>\n",
       "      <td>39597</td>\n",
       "      <td>621</td>\n",
       "    </tr>\n",
       "    <tr>\n",
       "      <th>2011</th>\n",
       "      <td>40008</td>\n",
       "      <td>627</td>\n",
       "    </tr>\n",
       "  </tbody>\n",
       "</table>\n",
       "</div>"
      ],
      "text/plain": [
       "                          Count  Percent\n",
       "Cause of Death      Year                \n",
       "DISEASES OF HEART   2007  63585      861\n",
       "                    2008  62754      855\n",
       "                    2009  59409      840\n",
       "                    2010  53061      762\n",
       "                    2011  50166      708\n",
       "MALIGNANT NEOPLASMS 2007  39312      618\n",
       "                    2008  38691      588\n",
       "                    2009  39183      621\n",
       "                    2010  39597      621\n",
       "                    2011  40008      627"
      ]
     },
     "execution_count": 87,
     "metadata": {},
     "output_type": "execute_result"
    }
   ],
   "source": [
    "data1.groupby([\"Cause of Death\", \"Year\"]).sum()"
   ]
  },
  {
   "cell_type": "code",
   "execution_count": 88,
   "metadata": {
    "collapsed": false
   },
   "outputs": [
    {
     "name": "stdout",
     "output_type": "stream",
     "text": [
      "2\n",
      "2\n",
      "2\n",
      "2\n",
      "2\n",
      "2\n"
     ]
    }
   ],
   "source": [
    "ind = data1['Cause of Death'].value_counts().index\n",
    "\n",
    "# Getting counts for each gender values across starttime_hour values\n",
    "deaths2007 = data1.loc[data1.Year==2007].groupby(['Cause of Death'])['Count'].sum()\n",
    "deaths2008 = data1.loc[data1.Year==2008].groupby(['Cause of Death'])['Count'].sum()\n",
    "deaths2009 = data1.loc[data1.Year==2009].groupby(['Cause of Death'])['Count'].sum()\n",
    "deaths2010 = data1.loc[data1.Year==2010].groupby(['Cause of Death'])['Count'].sum()\n",
    "deaths2011 = data1.loc[data1.Year==2011].groupby(['Cause of Death'])['Count'].sum()\n",
    "\n",
    "print len(ind)\n",
    "print len(deaths2007)\n",
    "print len(deaths2008)\n",
    "print len(deaths2009)\n",
    "print len(deaths2010)\n",
    "print len(deaths2011)"
   ]
  },
  {
   "cell_type": "code",
   "execution_count": 89,
   "metadata": {
    "collapsed": false
   },
   "outputs": [
    {
     "data": {
      "text/plain": [
       "(0.625, 3.125)"
      ]
     },
     "execution_count": 89,
     "metadata": {},
     "output_type": "execute_result"
    },
    {
     "data": {
      "image/png": "[encoded data removed]",
      "text/plain": [
       "<matplotlib.figure.Figure at 0xee24e48>"
      ]
     },
     "metadata": {},
     "output_type": "display_data"
    }
   ],
   "source": [
    "# Create the general blog and the \"subplots\" i.e. the bars\n",
    "f, ax1 = plt.subplots(1, figsize=(15,10))\n",
    "\n",
    "# Set the bar width\n",
    "bar_width = 0.75\n",
    "\n",
    "# positions of the left bar-boundaries\n",
    "bar_l = [i+1 for i in range(len(deaths2007))]\n",
    "\n",
    "# positions of the x-axis ticks (center of the bars as bar labels)\n",
    "tick_pos = [i+(bar_width/2) for i in bar_l]\n",
    "\n",
    "ax1.bar(bar_l,\n",
    "        deaths2007,\n",
    "        width=bar_width,\n",
    "        label='2007',\n",
    "        alpha=0.5,\n",
    "        color='red')\n",
    "\n",
    "ax1.bar(bar_l,\n",
    "        deaths2008,\n",
    "        width=bar_width,\n",
    "        bottom=deaths2007,\n",
    "        label='2008',\n",
    "        alpha=0.5,\n",
    "        color='green')\n",
    "\n",
    "ax1.bar(bar_l,\n",
    "        deaths2009,\n",
    "        width=bar_width,\n",
    "        bottom=[i+j for i,j in zip(deaths2007,deaths2008)],\n",
    "        label='2009',\n",
    "        alpha=0.5,\n",
    "        color='blue')\n",
    "\n",
    "ax1.bar(bar_l,\n",
    "        deaths2010,\n",
    "        width=bar_width,\n",
    "        bottom=[i+j+k for i,j,k in zip(deaths2007,deaths2008,deaths2009)],\n",
    "        label='2010',\n",
    "        alpha=0.5,\n",
    "        color='cyan')\n",
    "\n",
    "ax1.bar(bar_l,\n",
    "        deaths2011,\n",
    "        width=bar_width,\n",
    "        bottom=[i+j+k+l for i,j,k,l in zip(deaths2007,deaths2008,deaths2009,deaths2010)],\n",
    "        label='2011',\n",
    "        alpha=0.5,\n",
    "        color='magenta')\n",
    "\n",
    "# set the x ticks with names\n",
    "plt.xticks(tick_pos, ind)\n",
    "\n",
    "# Set the label and legends\n",
    "ax1.set_title(\"Number of Deaths by Year\")\n",
    "ax1.set_ylabel(\"Number of Deaths\")\n",
    "ax1.set_xlabel(\"Cause of Death\")\n",
    "plt.legend(loc='best')\n",
    "\n",
    "# Set a buffer around the edge\n",
    "plt.xlim([min(tick_pos)-bar_width, max(tick_pos)+bar_width])"
   ]
  },
  {
   "cell_type": "code",
   "execution_count": null,
   "metadata": {
    "collapsed": true
   },
   "outputs": [],
   "source": []
  }
 ],
 "metadata": {
  "kernelspec": {
   "display_name": "Python 2",
   "language": "python",
   "name": "python2"
  },
  "language_info": {
   "codemirror_mode": {
    "name": "ipython",
    "version": 2
   },
   "file_extension": ".py",
   "mimetype": "text/x-python",
   "name": "python",
   "nbconvert_exporter": "python",
   "pygments_lexer": "ipython2",
   "version": "2.7.10"
  }
 },
 "nbformat": 4,
 "nbformat_minor": 0
}
