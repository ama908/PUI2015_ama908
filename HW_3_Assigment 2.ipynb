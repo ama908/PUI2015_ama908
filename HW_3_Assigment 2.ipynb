{
 "cells": [
  {
   "cell_type": "markdown",
   "metadata": {},
   "source": [
    "##HW 3 Assignment 2\n",
    "\n",
    "###Author Anita Ahmed - ama908@nyu.edu\n",
    "\n",
    "####Importing Packages"
   ]
  },
  {
   "cell_type": "code",
   "execution_count": 29,
   "metadata": {
    "collapsed": false
   },
   "outputs": [
    {
     "name": "stdout",
     "output_type": "stream",
     "text": [
      "Populating the interactive namespace from numpy and matplotlib\n"
     ]
    }
   ],
   "source": [
    "import os\n",
    "import sys\n",
    "import numpy as np\n",
    "import pylab as pl\n",
    "\n",
    "\n",
    "import json\n",
    "import os\n",
    "\n",
    "%pylab inline"
   ]
  },
  {
   "cell_type": "markdown",
   "metadata": {},
   "source": [
    "####NULL HYPOTHESIS: the % of former prisoners employed after release is the same or lower for candidates who participated in the program as for the control group, significance level p=0.05\n",
    "####Ho:P0−P1≥ 0\n",
    "####Ha:P0−P1< 0\n",
    "####α = 0.05\n",
    "####For this problem we used the values for where the former inmate was or was not ever employed in CEO transitional job 3 years after release (4th row of the table)?\n",
    "####P0(control group)= 52.1% and P1(program group)= 53.3%"
   ]
  },
  {
   "cell_type": "code",
   "execution_count": 30,
   "metadata": {
    "collapsed": false
   },
   "outputs": [
    {
     "name": "stdout",
     "output_type": "stream",
     "text": [
      "0.521 0.533 409 564 213.089 300.612\n"
     ]
    }
   ],
   "source": [
    "alpha=0.05\n",
    "\n",
    "#converting percentages to proportions\n",
    "P_0=52.1*0.01 \n",
    "P_1=53.3*0.01\n",
    "\n",
    "#total number of prisoner in each group\n",
    "n_0=409\n",
    "n_1=564\n",
    "\n",
    "#getting the counts by multiplying by the sample size\n",
    "Nt_0=P_0*n_0\n",
    "Nt_1=P_1*n_1\n",
    "\n",
    "print P_0,P_1,n_0,n_1,Nt_0,Nt_1"
   ]
  },
  {
   "cell_type": "code",
   "execution_count": 31,
   "metadata": {
    "collapsed": false
   },
   "outputs": [
    {
     "name": "stdout",
     "output_type": "stream",
     "text": [
      "0.527955806783\n"
     ]
    }
   ],
   "source": [
    "#defining the sample proportion first\n",
    "sp=(P_0*n_0+P_1*n_1)/(n_1+n_0)\n",
    "print sp"
   ]
  },
  {
   "cell_type": "code",
   "execution_count": 32,
   "metadata": {
    "collapsed": false
   },
   "outputs": [
    {
     "name": "stdout",
     "output_type": "stream",
     "text": [
      "0.0324224126866\n"
     ]
    }
   ],
   "source": [
    "#calculating standard deviation\n",
    "sp_stdev_3y=sp_stdev((Nt_0+Nt_1)/(n_0+n_1),[n_0,n_1])\n",
    "print sp_stdev_3y"
   ]
  },
  {
   "cell_type": "code",
   "execution_count": 33,
   "metadata": {
    "collapsed": false
   },
   "outputs": [
    {
     "name": "stdout",
     "output_type": "stream",
     "text": [
      "0.370114343926\n"
     ]
    }
   ],
   "source": [
    "zscore = lambda p0, p1, s : (p0-p1)/s\n",
    "z_3y = zscore(P_1, P_0, sp_stdev_3y)\n",
    "print z_3y"
   ]
  },
  {
   "cell_type": "code",
   "execution_count": 36,
   "metadata": {
    "collapsed": false
   },
   "outputs": [
    {
     "name": "stdout",
     "output_type": "stream",
     "text": [
      "is the p value 0.36 smaller than the critical value 0.05? \n",
      "NO!\n",
      "the Null hypothesis is not rejected\n"
     ]
    }
   ],
   "source": [
    "## From Z-stat table for z=0.37, P=0.6443. \n",
    "\n",
    "p_3y=1-0.644\n",
    "\n",
    "\n",
    "def report_result(p,a):\n",
    "    print 'is the p value {0:.2f} smaller than the critical value {1:.2f}? '.format(p,a)\n",
    "    if p<a:\n",
    "        print \"YES!\"\n",
    "    else: print \"NO!\"\n",
    "    \n",
    "    print 'the Null hypothesis is {}'.format( 'rejected' if p<a  else 'not rejected') \n",
    "\n",
    "    \n",
    "report_result(p_3y,alpha)"
   ]
  },
  {
   "cell_type": "code",
   "execution_count": 35,
   "metadata": {
    "collapsed": false
   },
   "outputs": [
    {
     "name": "stdout",
     "output_type": "stream",
     "text": [
      "1.58946700398\n"
     ]
    }
   ],
   "source": [
    "Ntot = 973\n",
    "expected = 564*409*131.579*841.382\n",
    "sample_values2 = [[14.7*5.64, 85.3*5.64], [11.9*4.09, 88.1*4.09]]\n",
    "\n",
    "chisqstat= lambda N, values, expect : N*((values[0][0]*values[1][1]-values[0][1]*values[1]\n",
    "           [0])**2)/(expect)\n",
    "\n",
    "\n",
    "print chisqstat(Ntot, sample_values2, expected)"
   ]
  },
  {
   "cell_type": "markdown",
   "metadata": {},
   "source": [
    "###Why am i mentioning 3.84?\n",
    "#####From the Chi-Square Table probability of larger value of chi square at 1 degree of freedom is 3.48. \n",
    "\n",
    "###How does the 6mo chi square statistic that you derived compare?\n",
    "##### The calculated 6mo Chi Square statistic is less than 3.84\n",
    "\n",
    "###Please state what that means in terms of your hypothesis in a markdown cell below!\n",
    "#####Since Chi square value is less than 3.84 we will reject the null hypothesis. Therefore the % of former prisoners employed after release is the higher for candidates who participated in the program than for the control group at a significance level of 0.05\n"
   ]
  },
  {
   "cell_type": "code",
   "execution_count": null,
   "metadata": {
    "collapsed": true
   },
   "outputs": [],
   "source": []
  }
 ],
 "metadata": {
  "kernelspec": {
   "display_name": "Python 2",
   "language": "python",
   "name": "python2"
  },
  "language_info": {
   "codemirror_mode": {
    "name": "ipython",
    "version": 2
   },
   "file_extension": ".py",
   "mimetype": "text/x-python",
   "name": "python",
   "nbconvert_exporter": "python",
   "pygments_lexer": "ipython2",
   "version": "2.7.10"
  }
 },
 "nbformat": 4,
 "nbformat_minor": 0
}
